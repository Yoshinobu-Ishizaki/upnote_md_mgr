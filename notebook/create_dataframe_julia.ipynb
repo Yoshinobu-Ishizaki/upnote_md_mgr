{
 "cells": [
  {
   "cell_type": "markdown",
   "id": "78adb507-c638-46c1-bbac-8379a19ff784",
   "metadata": {},
   "source": [
    "# Convert UpNote data into dataframe"
   ]
  },
  {
   "cell_type": "markdown",
   "id": "051e341a-eb56-419b-a7e9-778ca369eec5",
   "metadata": {},
   "source": [
    "2024-03-06"
   ]
  },
  {
   "cell_type": "code",
   "execution_count": 1,
   "id": "e6897a9b-1560-4f3e-aba8-4d308524b974",
   "metadata": {},
   "outputs": [],
   "source": [
    "# using Pkg\n",
    "# Pkg.resolve()"
   ]
  },
  {
   "cell_type": "code",
   "execution_count": 2,
   "id": "d240b217-7901-4012-97fe-30436c5f3d3d",
   "metadata": {
    "tags": []
   },
   "outputs": [],
   "source": [
    "using Glob\n",
    "using DataFrames"
   ]
  },
  {
   "cell_type": "code",
   "execution_count": 3,
   "id": "160e6cc5-ca8c-4d00-857c-07857425c48e",
   "metadata": {},
   "outputs": [],
   "source": [
    "using Dates"
   ]
  },
  {
   "cell_type": "code",
   "execution_count": 4,
   "id": "b59346e6-5288-4b80-94d4-50ba7596fcfe",
   "metadata": {},
   "outputs": [],
   "source": [
    "# Pkg.add(\"CSV\")"
   ]
  },
  {
   "cell_type": "code",
   "execution_count": 5,
   "id": "ce3169b3-c0e6-4712-9fbf-10056c10f72d",
   "metadata": {},
   "outputs": [],
   "source": [
    "using CSV"
   ]
  },
  {
   "cell_type": "code",
   "execution_count": 6,
   "id": "4713a5e7",
   "metadata": {},
   "outputs": [
    {
     "data": {
      "text/plain": [
       "\"d:\\\\develop\\\\upnote_md_mgr\\\\notebook\""
      ]
     },
     "metadata": {},
     "output_type": "display_data"
    }
   ],
   "source": [
    "pwd()"
   ]
  },
  {
   "cell_type": "code",
   "execution_count": 7,
   "id": "bc358e0a-e91b-479f-b591-38926f29c02e",
   "metadata": {},
   "outputs": [
    {
     "data": {
      "text/plain": [
       "\"../UpNote/General Space\""
      ]
     },
     "metadata": {},
     "output_type": "display_data"
    }
   ],
   "source": [
    "upnote_path = \"../UpNote/General Space\""
   ]
  },
  {
   "cell_type": "code",
   "execution_count": 8,
   "id": "e5877bb8-411c-43f9-84b5-9f219a4caa8a",
   "metadata": {},
   "outputs": [
    {
     "data": {
      "text/plain": [
       "getmdfiles (generic function with 2 methods)"
      ]
     },
     "metadata": {},
     "output_type": "display_data"
    }
   ],
   "source": [
    "function getmdfiles(path = upnote_path)\n",
    "    files = glob(\"*.md\", path)\n",
    "end    "
   ]
  },
  {
   "cell_type": "code",
   "execution_count": 9,
   "id": "9e78486c-4390-43f3-8102-d64b5003f715",
   "metadata": {
    "tags": []
   },
   "outputs": [],
   "source": [
    "tfiles = getmdfiles(upnote_path);"
   ]
  },
  {
   "cell_type": "code",
   "execution_count": 12,
   "id": "4b1c7626-c79d-4f0e-916c-943a1b0137c1",
   "metadata": {
    "tags": []
   },
   "outputs": [
    {
     "data": {
      "text/plain": [
       "24673"
      ]
     },
     "execution_count": 12,
     "metadata": {},
     "output_type": "execute_result"
    }
   ],
   "source": [
    "length(tfiles)"
   ]
  },
  {
   "cell_type": "markdown",
   "id": "cb306105-7fa8-4da5-bac9-eec2f623610e",
   "metadata": {},
   "source": [
    "Data Conversion Function"
   ]
  },
  {
   "cell_type": "code",
   "execution_count": 13,
   "id": "228264b7-96b8-4453-acec-720bfbe9be03",
   "metadata": {},
   "outputs": [
    {
     "data": {
      "text/plain": [
       "convtxt (generic function with 1 method)"
      ]
     },
     "execution_count": 13,
     "metadata": {},
     "output_type": "execute_result"
    }
   ],
   "source": [
    "function convtxt(path)\n",
    "    s = \"\"\n",
    "    update_dt = \"\"\n",
    "    create_dt = \"\"\n",
    "    cat_mode = false\n",
    "    isheader = true\n",
    "    categories = String[]\n",
    "    bdytxt = String[]\n",
    "    tags = String[]\n",
    "\n",
    "    txt = readlines(path)\n",
    "\n",
    "    for i in 1:length(txt)\n",
    "        if i > 1\n",
    "            # skip first line\n",
    "            s = txt[i]\n",
    "            if startswith(s,\"date:\")\n",
    "                s2 = replace(s, \"date: \" => \"\")\n",
    "                update_dt = DateTime(s2, DateFormat(\"yyyy-mm-dd HH:MM:SS\"))\n",
    "            elseif startswith(s,\"created: \")\n",
    "                s2 = replace(s, \"created: \" => \"\")\n",
    "                create_dt = DateTime(s2, DateFormat(\"yyyy-mm-dd HH:MM:SS\"))\n",
    "            elseif startswith(s,\"categories:\")\n",
    "                cat_mode = true\n",
    "                \n",
    "            elseif s == \"---\"\n",
    "                isheader = false\n",
    "                cat_mode = false\n",
    "                continue\n",
    "            else\n",
    "                if cat_mode\n",
    "                    s2 = replace(s, r\"^- \" => \"\")\n",
    "                    push!(categories, s2)\n",
    "                end\n",
    "            end\n",
    "            # start of body parser\n",
    "            if !isheader \n",
    "                if startswith(s,r\"#+ \")\n",
    "                    s2 = replace(s, r\"#+ \" => \"\")\n",
    "                    push!(bdytxt,s2)\n",
    "                elseif contains(s, r\"^[\\s\\*]+$\")\n",
    "                    s2 = replace(s, r\"^[\\s\\*]+$\" => \"\")\n",
    "                    push!(bdytxt,s2)\n",
    "                elseif contains(s,r\"^#[^[:punct:] ]*$\")\n",
    "                    s2 = replace(s,r\"^#\" => \"\")\n",
    "                    push!(tags, s2)\n",
    "                else\n",
    "                    push!(bdytxt,s)\n",
    "                end\n",
    "            end # body\n",
    "        end # i > 1\n",
    "    end # i\n",
    "    \n",
    "    cat_str = join(categories, \"|\")\n",
    "    contents = join(bdytxt, \"\\n\")\n",
    "    tags_str = join(tags, \"|\")\n",
    "    \n",
    "    return(Dict(\"fpath\" => basename(path), \"update\" => update_dt, \"created\" => create_dt, \"category\" => cat_str, \"tags\" => tags_str, \"contents\" => contents))\n",
    "end"
   ]
  },
  {
   "cell_type": "code",
   "execution_count": null,
   "id": "614048f0-7f65-4718-a3dc-5727b353a87b",
   "metadata": {},
   "outputs": [],
   "source": []
  },
  {
   "cell_type": "markdown",
   "id": "982cf1cf-084f-483a-9565-20c801f5aabf",
   "metadata": {},
   "source": [
    "## trial"
   ]
  },
  {
   "cell_type": "code",
   "execution_count": 10,
   "id": "804fe93b-22e8-4bf1-ba89-676884cc72db",
   "metadata": {},
   "outputs": [
    {
     "data": {
      "text/plain": [
       "\"../UpNote/General Space\\\\- 名刺.md\""
      ]
     },
     "execution_count": 10,
     "metadata": {},
     "output_type": "execute_result"
    }
   ],
   "source": [
    "f1 = tfiles[1]"
   ]
  },
  {
   "cell_type": "code",
   "execution_count": 19,
   "id": "bbda4a7c-d9f0-4f2c-88e1-cc60e871b47f",
   "metadata": {},
   "outputs": [],
   "source": [
    "txt = readlines(f1);"
   ]
  },
  {
   "cell_type": "markdown",
   "id": "f1b3e4d5-46cc-46a6-947e-793ccae00d77",
   "metadata": {},
   "source": [
    "more data"
   ]
  },
  {
   "cell_type": "code",
   "execution_count": 14,
   "id": "2fc8e360-020b-4f9d-b7e5-829643c40f02",
   "metadata": {},
   "outputs": [
    {
     "data": {
      "text/plain": [
       "10-element Vector{String}:\n",
       " \"../UpNote/General Space\\\\- 名刺.md\"\n",
       " \"../UpNote/General Space\\\\0030.md\"\n",
       " \"../UpNote/General Space\\\\0042.md\"\n",
       " \"../UpNote/General Space\\\\0音孔.md\"\n",
       " \"../UpNote/General Space\\\\1,2番管.md\"\n",
       " \"../UpNote/General Space\\\\1,3,4-2 抜差組立 中管ピン径変更.md\"\n",
       " \"../UpNote/General Space\\\\1-3レバー 2.md\"\n",
       " \"../UpNote/General Space\\\\1-3レバー.md\"\n",
       " \"../UpNote/General Space\\\\1.5 スタイラス.md\"\n",
       " \"../UpNote/General Space\\\\1.5スタイラス.md\""
      ]
     },
     "execution_count": 14,
     "metadata": {},
     "output_type": "execute_result"
    }
   ],
   "source": [
    "fl1 = tfiles[1:10]"
   ]
  },
  {
   "cell_type": "code",
   "execution_count": 15,
   "id": "7a54c05e-4a87-4ed1-b2dd-c824dbc4e231",
   "metadata": {},
   "outputs": [],
   "source": [
    "xx = DataFrame()\n",
    "\n",
    "for f in fl1\n",
    "    append!(xx, convtxt(f))\n",
    "end"
   ]
  },
  {
   "cell_type": "code",
   "execution_count": 16,
   "id": "d2da0870-5922-4fc1-8daa-16e04e926345",
   "metadata": {},
   "outputs": [
    {
     "data": {
      "text/html": [
       "<div><div style = \"float: left;\"><span>10×6 DataFrame</span></div><div style = \"clear: both;\"></div></div><div class = \"data-frame\" style = \"overflow-x: scroll;\"><table class = \"data-frame\" style = \"margin-bottom: 6px;\"><thead><tr class = \"header\"><th class = \"rowNumber\" style = \"font-weight: bold; text-align: right;\">Row</th><th style = \"text-align: left;\">category</th><th style = \"text-align: left;\">contents</th><th style = \"text-align: left;\">created</th><th style = \"text-align: left;\">fpath</th><th style = \"text-align: left;\">tags</th><th style = \"text-align: left;\">update</th></tr><tr class = \"subheader headerLastRow\"><th class = \"rowNumber\" style = \"font-weight: bold; text-align: right;\"></th><th title = \"String\" style = \"text-align: left;\">String</th><th title = \"String\" style = \"text-align: left;\">String</th><th title = \"DateTime\" style = \"text-align: left;\">DateTime</th><th title = \"String\" style = \"text-align: left;\">String</th><th title = \"String\" style = \"text-align: left;\">String</th><th title = \"DateTime\" style = \"text-align: left;\">DateTime</th></tr></thead><tbody><tr><td class = \"rowNumber\" style = \"font-weight: bold; text-align: right;\">1</td><td style = \"text-align: left;\">名刺</td><td style = \"text-align: left;\">\\n\\\\- 名刺\\n\\n池田 信次郎日新\\n\\n\\n\\nDSI成形機の輸送\\n\\n![](Files/Evernote%20Snapshot%2020170121%20200204.png)</td><td style = \"text-align: left;\">2017-01-21T20:01:05</td><td style = \"text-align: left;\">- 名刺.md</td><td style = \"text-align: left;\"></td><td style = \"text-align: left;\">2017-01-21T20:01:34</td></tr><tr><td class = \"rowNumber\" style = \"font-weight: bold; text-align: right;\">2</td><td style = \"text-align: left;\">仕事_Evernote</td><td style = \"text-align: left;\">\\n0030\\n\\n1番管正寸切治具のベースへの取り付け孔をφ11にするようセガワにメール連絡した。\\n\\n図面も訂正しておいた。\\n\\n\\n\\nその他、保全班に追加工依頼した以下のものの図面を訂正。\\n\\n\\n\\n\\n</td><td style = \"text-align: left;\">2014-06-05T11:06:02</td><td style = \"text-align: left;\">0030.md</td><td style = \"text-align: left;\">HR869</td><td style = \"text-align: left;\">2014-06-05T11:06:15</td></tr><tr><td class = \"rowNumber\" style = \"font-weight: bold; text-align: right;\">3</td><td style = \"text-align: left;\">仕事_Evernote</td><td style = \"text-align: left;\">\\n0042\\n\\n枝管3Aの寸切治具、浅羽ではなくYMC用だった。\\n\\nで、ボルト孔が小さいので、保全班の孔広げ待ちに追加した。\\n\\n図面訂正した。\\n\\n\\n\\n\\n</td><td style = \"text-align: left;\">2014-06-05T11:06:15</td><td style = \"text-align: left;\">0042.md</td><td style = \"text-align: left;\">HR869</td><td style = \"text-align: left;\">2014-06-11T16:06:42</td></tr><tr><td class = \"rowNumber\" style = \"font-weight: bold; text-align: right;\">4</td><td style = \"text-align: left;\">仕事_Evernote</td><td style = \"text-align: left;\">\\n0音孔\\n\\nボディ測定結果を確認。\\n\\n大野さんにメール。\\n\\n\\n\\n結果、+0/-0.5の公差で振り直してくれる。\\n\\n\\n\\nPLズレは、テール部のみ0.05許容。\\n\\n\\n\\n表の音孔は+/- 0.1。\\n\\n\\n\\n\\n\\n\\n\\n\\n</td><td style = \"text-align: left;\">2017-02-09T15:02:23</td><td style = \"text-align: left;\">0音孔.md</td><td style = \"text-align: left;\">分岐管</td><td style = \"text-align: left;\">2017-02-09T18:02:36</td></tr><tr><td class = \"rowNumber\" style = \"font-weight: bold; text-align: right;\">5</td><td style = \"text-align: left;\">仕事_Evernote</td><td style = \"text-align: left;\">\\n1,2番管\\n\\nEMCによるナミ修正品の確認を徳富さんと見た。\\n\\nまだダクってるのがよく見えるので、やはりヤスリとかで修正しないとだめだよな。、ってことでサテライトに回収。\\n\\n1番管は増試品なんだが、もう一度山隆で修正?松隈さんに相談する。\\n\\n\\n\\n2番管はベーダーによる修正で結構アラビ消せてる。が、こちらはシームローラー変更がメインの対策になるので、バックアッププラン。\\n\\n\\n\\n清田さんと会話。\\n\\n2番管はCBとBBで、バルジ3回目からしか変わらないのでそれらが電算でまとめられて欲しいな。→曲げ上がりまではCB共通で構成を組むように伝えたので、生産からは44班の中で適宜コントロールできるようになるはず。\\n\\n\\n\\n写真、三宅氏が撮っていた。\\n\\n\\n</td><td style = \"text-align: left;\">2022-07-25T16:07:58</td><td style = \"text-align: left;\">1,2番管.md</td><td style = \"text-align: left;\">CBBB623</td><td style = \"text-align: left;\">2022-07-25T23:07:08</td></tr><tr><td class = \"rowNumber\" style = \"font-weight: bold; text-align: right;\">6</td><td style = \"text-align: left;\">仕事_Evernote</td><td style = \"text-align: left;\">\\n1,3,4-2 抜差組立 中管ピン径変更\\n\\n中管の嵌合径が大きなクリアランスを取っていることに気づいてなかった佐山さんの設計ミスを修正する図面製図。\\n\\nたまたま全部の部品が共通だったので、修正は比較的楽だった。\\n\\n図面が旧来の1ファイルに書いてあるタイプだったので、部品ごとに分割してから修正を入れた。\\n\\n\\n\\n休日深夜枠。\\n\\n\\n\\n\\n\\n\\n</td><td style = \"text-align: left;\">2022-02-20T02:02:34</td><td style = \"text-align: left;\">1,3,4-2 抜差組立 中管ピン径変更.md</td><td style = \"text-align: left;\">CBBB623</td><td style = \"text-align: left;\">2022-02-20T02:02:42</td></tr><tr><td class = \"rowNumber\" style = \"font-weight: bold; text-align: right;\">7</td><td style = \"text-align: left;\">仕事_Evernote</td><td style = \"text-align: left;\">\\n1-3レバー\\n\\n原さんから、869 1-3レバー変更の依頼がPJから来たら対応してほしいとのこと。\\n\\n\\n\\n3レバーのブランク長さは要確認。\\n\\n原さんの記憶では、一度曲げの長さが合わなかった。\\n\\n\\n</td><td style = \"text-align: left;\">2016-05-25T14:05:33</td><td style = \"text-align: left;\">1-3レバー 2.md</td><td style = \"text-align: left;\">HR869</td><td style = \"text-align: left;\">2016-05-25T14:05:11</td></tr><tr><td class = \"rowNumber\" style = \"font-weight: bold; text-align: right;\">8</td><td style = \"text-align: left;\">仕事_Evernote</td><td style = \"text-align: left;\">\\n1-3レバー\\n\\n室園氏。\\n\\n\\n\\n設変対応。\\n\\n何をやればいいのかを室園氏に口頭で説明した。\\n\\n1. 抜き型の中身と曲げ型のガイドを設計して手配。\\n2. 和田精機と中身の組み替えと在庫（2ヶ月分ぐらい？）の製作と試作で打合せ。\\n3. 交換後の試作を山本のロー付けバフ上がりまで。\\n4. 設計で評価\\n5. 生産切り替えのアクション\\n6. 余った過去部品は買い取り？\\n\\n\\n\\n型設計する予定の吉田氏には、室園氏から説明してもらう。\\n\\n\\n\\n\\n\\n\\n\\n\\n</td><td style = \"text-align: left;\">2016-07-08T13:07:01</td><td style = \"text-align: left;\">1-3レバー.md</td><td style = \"text-align: left;\">HR869</td><td style = \"text-align: left;\">2016-07-08T14:07:00</td></tr><tr><td class = \"rowNumber\" style = \"font-weight: bold; text-align: right;\">9</td><td style = \"text-align: left;\">仕事_Evernote</td><td style = \"text-align: left;\">\\n1.5 スタイラス\\n\\n渡邊氏から電話。新しい2本が納品されたが、棚に入れようと思ったら予備があったよ？\\n\\n→うーん、前回探した時に何故見つけられなかった？\\n\\n\\n\\n\\n\\n\\n</td><td style = \"text-align: left;\">2016-02-09T14:02:10</td><td style = \"text-align: left;\">1.5 スタイラス.md</td><td style = \"text-align: left;\">3次元</td><td style = \"text-align: left;\">2016-02-09T14:02:11</td></tr><tr><td class = \"rowNumber\" style = \"font-weight: bold; text-align: right;\">10</td><td style = \"text-align: left;\">仕事_Evernote</td><td style = \"text-align: left;\">\\n1.5スタイラス\\n\\n昨日の破損事故を受けて、関係者にメール。\\n\\n今後、許可者以外は定盤上の作業もダメ、としてはどうかと提案。\\n\\n\\n\\n\\n</td><td style = \"text-align: left;\">2016-01-21T10:01:08</td><td style = \"text-align: left;\">1.5スタイラス.md</td><td style = \"text-align: left;\">3次元</td><td style = \"text-align: left;\">2016-01-21T10:01:53</td></tr></tbody></table></div>"
      ],
      "text/latex": [
       "\\begin{tabular}{r|ccc}\n",
       "\t& category & contents & \\\\\n",
       "\t\\hline\n",
       "\t& String & String & \\\\\n",
       "\t\\hline\n",
       "\t1 & 名刺 & \\textbackslash{}n\\textbackslash{}\\textbackslash{}- 名刺\\textbackslash{}n\\textbackslash{}n池田 信次郎日新\\textbackslash{}n\\textbackslash{}n\\textbackslash{}n\\textbackslash{}nDSI成形機の輸送\\textbackslash{}n\\textbackslash{}n![](Files/Evernote\\%20Snapshot\\%2020170121\\%20200204.png) & $\\dots$ \\\\\n",
       "\t2 & 仕事\\_Evernote & \\textbackslash{}n0030\\textbackslash{}n\\textbackslash{}n1番管正寸切治具のベースへの取り付け孔をφ11にするようセガワにメール連絡した。\\textbackslash{}n\\textbackslash{}n図面も訂正しておいた。\\textbackslash{}n\\textbackslash{}n\\textbackslash{}n\\textbackslash{}nその他、保全班に追加工依頼した以下のものの図面を訂正。\\textbackslash{}n\\textbackslash{}n\\textbackslash{}n\\textbackslash{}n\\textbackslash{}n & $\\dots$ \\\\\n",
       "\t3 & 仕事\\_Evernote & \\textbackslash{}n0042\\textbackslash{}n\\textbackslash{}n枝管3Aの寸切治具、浅羽ではなくYMC用だった。\\textbackslash{}n\\textbackslash{}nで、ボルト孔が小さいので、保全班の孔広げ待ちに追加した。\\textbackslash{}n\\textbackslash{}n図面訂正した。\\textbackslash{}n\\textbackslash{}n\\textbackslash{}n\\textbackslash{}n\\textbackslash{}n & $\\dots$ \\\\\n",
       "\t4 & 仕事\\_Evernote & \\textbackslash{}n0音孔\\textbackslash{}n\\textbackslash{}nボディ測定結果を確認。\\textbackslash{}n\\textbackslash{}n大野さんにメール。\\textbackslash{}n\\textbackslash{}n\\textbackslash{}n\\textbackslash{}n結果、+0/-0.5の公差で振り直してくれる。\\textbackslash{}n\\textbackslash{}n\\textbackslash{}n\\textbackslash{}nPLズレは、テール部のみ0.05許容。\\textbackslash{}n\\textbackslash{}n\\textbackslash{}n\\textbackslash{}n表の音孔は+/- 0.1。\\textbackslash{}n\\textbackslash{}n\\textbackslash{}n\\textbackslash{}n\\textbackslash{}n\\textbackslash{}n\\textbackslash{}n\\textbackslash{}n\\textbackslash{}n & $\\dots$ \\\\\n",
       "\t5 & 仕事\\_Evernote & \\textbackslash{}n1,2番管\\textbackslash{}n\\textbackslash{}nEMCによるナミ修正品の確認を徳富さんと見た。\\textbackslash{}n\\textbackslash{}nまだダクってるのがよく見えるので、やはりヤスリとかで修正しないとだめだよな。、ってことでサテライトに回収。\\textbackslash{}n\\textbackslash{}n1番管は増試品なんだが、もう一度山隆で修正?松隈さんに相談する。\\textbackslash{}n\\textbackslash{}n\\textbackslash{}n\\textbackslash{}n2番管はベーダーによる修正で結構アラビ消せてる。が、こちらはシームローラー変更がメインの対策になるので、バックアッププラン。\\textbackslash{}n\\textbackslash{}n\\textbackslash{}n\\textbackslash{}n清田さんと会話。\\textbackslash{}n\\textbackslash{}n2番管はCBとBBで、バルジ3回目からしか変わらないのでそれらが電算でまとめられて欲しいな。→曲げ上がりまではCB共通で構成を組むように伝えたので、生産からは44班の中で適宜コントロールできるようになるはず。\\textbackslash{}n\\textbackslash{}n\\textbackslash{}n\\textbackslash{}n写真、三宅氏が撮っていた。\\textbackslash{}n\\textbackslash{}n\\textbackslash{}n & $\\dots$ \\\\\n",
       "\t6 & 仕事\\_Evernote & \\textbackslash{}n1,3,4-2 抜差組立 中管ピン径変更\\textbackslash{}n\\textbackslash{}n中管の嵌合径が大きなクリアランスを取っていることに気づいてなかった佐山さんの設計ミスを修正する図面製図。\\textbackslash{}n\\textbackslash{}nたまたま全部の部品が共通だったので、修正は比較的楽だった。\\textbackslash{}n\\textbackslash{}n図面が旧来の1ファイルに書いてあるタイプだったので、部品ごとに分割してから修正を入れた。\\textbackslash{}n\\textbackslash{}n\\textbackslash{}n\\textbackslash{}n休日深夜枠。\\textbackslash{}n\\textbackslash{}n\\textbackslash{}n\\textbackslash{}n\\textbackslash{}n\\textbackslash{}n\\textbackslash{}n & $\\dots$ \\\\\n",
       "\t7 & 仕事\\_Evernote & \\textbackslash{}n1-3レバー\\textbackslash{}n\\textbackslash{}n原さんから、869 1-3レバー変更の依頼がPJから来たら対応してほしいとのこと。\\textbackslash{}n\\textbackslash{}n\\textbackslash{}n\\textbackslash{}n3レバーのブランク長さは要確認。\\textbackslash{}n\\textbackslash{}n原さんの記憶では、一度曲げの長さが合わなかった。\\textbackslash{}n\\textbackslash{}n\\textbackslash{}n & $\\dots$ \\\\\n",
       "\t8 & 仕事\\_Evernote & \\textbackslash{}n1-3レバー\\textbackslash{}n\\textbackslash{}n室園氏。\\textbackslash{}n\\textbackslash{}n\\textbackslash{}n\\textbackslash{}n設変対応。\\textbackslash{}n\\textbackslash{}n何をやればいいのかを室園氏に口頭で説明した。\\textbackslash{}n\\textbackslash{}n1. 抜き型の中身と曲げ型のガイドを設計して手配。\\textbackslash{}n2. 和田精機と中身の組み替えと在庫（2ヶ月分ぐらい？）の製作と試作で打合せ。\\textbackslash{}n3. 交換後の試作を山本のロー付けバフ上がりまで。\\textbackslash{}n4. 設計で評価\\textbackslash{}n5. 生産切り替えのアクション\\textbackslash{}n6. 余った過去部品は買い取り？\\textbackslash{}n\\textbackslash{}n\\textbackslash{}n\\textbackslash{}n型設計する予定の吉田氏には、室園氏から説明してもらう。\\textbackslash{}n\\textbackslash{}n\\textbackslash{}n\\textbackslash{}n\\textbackslash{}n\\textbackslash{}n\\textbackslash{}n\\textbackslash{}n\\textbackslash{}n & $\\dots$ \\\\\n",
       "\t9 & 仕事\\_Evernote & \\textbackslash{}n1.5 スタイラス\\textbackslash{}n\\textbackslash{}n渡邊氏から電話。新しい2本が納品されたが、棚に入れようと思ったら予備があったよ？\\textbackslash{}n\\textbackslash{}n→うーん、前回探した時に何故見つけられなかった？\\textbackslash{}n\\textbackslash{}n\\textbackslash{}n\\textbackslash{}n\\textbackslash{}n\\textbackslash{}n\\textbackslash{}n & $\\dots$ \\\\\n",
       "\t10 & 仕事\\_Evernote & \\textbackslash{}n1.5スタイラス\\textbackslash{}n\\textbackslash{}n昨日の破損事故を受けて、関係者にメール。\\textbackslash{}n\\textbackslash{}n今後、許可者以外は定盤上の作業もダメ、としてはどうかと提案。\\textbackslash{}n\\textbackslash{}n\\textbackslash{}n\\textbackslash{}n\\textbackslash{}n & $\\dots$ \\\\\n",
       "\\end{tabular}\n"
      ],
      "text/plain": [
       "\u001b[1m10×6 DataFrame\u001b[0m\n",
       "\u001b[1m Row \u001b[0m│\u001b[1m category      \u001b[0m\u001b[1m contents                          \u001b[0m\u001b[1m created             \u001b[0m\u001b[1m \u001b[0m ⋯\n",
       "     │\u001b[90m String        \u001b[0m\u001b[90m String                            \u001b[0m\u001b[90m DateTime            \u001b[0m\u001b[90m \u001b[0m ⋯\n",
       "─────┼──────────────────────────────────────────────────────────────────────────\n",
       "   1 │ 名刺           \\n\\\\- 名刺\\n\\n池田 信次郎日新\\n\\…  2017-01-21T20:01:05   ⋯\n",
       "   2 │ 仕事_Evernote  \\n0030\\n\\n1番管正寸切治具のベー …  2014-06-05T11:06:02\n",
       "   3 │ 仕事_Evernote  \\n0042\\n\\n枝管3Aの寸切治具、浅羽…  2014-06-05T11:06:15\n",
       "   4 │ 仕事_Evernote  \\n0音孔\\n\\nボディ測定結果を確認 …  2017-02-09T15:02:23\n",
       "   5 │ 仕事_Evernote  \\n1,2番管\\n\\nEMCによるナミ修正品…  2022-07-25T16:07:58   ⋯\n",
       "   6 │ 仕事_Evernote  \\n1,3,4-2 抜差組立 中管ピン径変 …  2022-02-20T02:02:34\n",
       "   7 │ 仕事_Evernote  \\n1-3レバー\\n\\n原さんから、869 1…  2016-05-25T14:05:33\n",
       "   8 │ 仕事_Evernote  \\n1-3レバー\\n\\n室園氏。\\n\\n\\n\\n …  2016-07-08T13:07:01\n",
       "   9 │ 仕事_Evernote  \\n1.5 スタイラス\\n\\n渡邊氏から電…  2016-02-09T14:02:10   ⋯\n",
       "  10 │ 仕事_Evernote  \\n1.5スタイラス\\n\\n昨日の破損事 …  2016-01-21T10:01:08\n",
       "\u001b[36m                                                               3 columns omitted\u001b[0m"
      ]
     },
     "execution_count": 16,
     "metadata": {},
     "output_type": "execute_result"
    }
   ],
   "source": [
    "xx"
   ]
  },
  {
   "cell_type": "code",
   "execution_count": 17,
   "id": "367e4705-0949-4a8d-b216-a65bdfacf686",
   "metadata": {},
   "outputs": [
    {
     "data": {
      "text/plain": [
       "\"test.csv\""
      ]
     },
     "execution_count": 17,
     "metadata": {},
     "output_type": "execute_result"
    }
   ],
   "source": [
    "CSV.write(\"test.csv\",xx)"
   ]
  },
  {
   "cell_type": "code",
   "execution_count": 14,
   "id": "ce04b7df-794d-45c9-8ff8-8560934a21eb",
   "metadata": {},
   "outputs": [
    {
     "data": {
      "text/html": [
       "<div><div style = \"float: left;\"><span>1×2 DataFrame</span></div><div style = \"clear: both;\"></div></div><div class = \"data-frame\" style = \"overflow-x: scroll;\"><table class = \"data-frame\" style = \"margin-bottom: 6px;\"><thead><tr class = \"header\"><th class = \"rowNumber\" style = \"font-weight: bold; text-align: right;\">Row</th><th style = \"text-align: left;\">fpath</th><th style = \"text-align: left;\">contents</th></tr><tr class = \"subheader headerLastRow\"><th class = \"rowNumber\" style = \"font-weight: bold; text-align: right;\"></th><th title = \"String\" style = \"text-align: left;\">String</th><th title = \"String\" style = \"text-align: left;\">String</th></tr></thead><tbody><tr><td class = \"rowNumber\" style = \"font-weight: bold; text-align: right;\">1</td><td style = \"text-align: left;\">test2</td><td style = \"text-align: left;\">next item</td></tr></tbody></table></div>"
      ],
      "text/latex": [
       "\\begin{tabular}{r|cc}\n",
       "\t& fpath & contents\\\\\n",
       "\t\\hline\n",
       "\t& String & String\\\\\n",
       "\t\\hline\n",
       "\t1 & test2 & next item \\\\\n",
       "\\end{tabular}\n"
      ],
      "text/plain": [
       "\u001b[1m1×2 DataFrame\u001b[0m\n",
       "\u001b[1m Row \u001b[0m│\u001b[1m fpath  \u001b[0m\u001b[1m contents  \u001b[0m\n",
       "     │\u001b[90m String \u001b[0m\u001b[90m String    \u001b[0m\n",
       "─────┼───────────────────\n",
       "   1 │ test2   next item"
      ]
     },
     "metadata": {},
     "output_type": "display_data"
    }
   ],
   "source": [
    "d1 = DataFrame(fpath = \"test\", contents = \"contents\\ncontents\")\n",
    "d2 = DataFrame(fpath = \"test2\", contents = \"next item\")"
   ]
  },
  {
   "cell_type": "code",
   "execution_count": 12,
   "id": "7a02961d-3631-47b2-957a-e68da044ffe9",
   "metadata": {},
   "outputs": [
    {
     "data": {
      "text/html": [
       "<div><div style = \"float: left;\"><span>2×2 DataFrame</span></div><div style = \"clear: both;\"></div></div><div class = \"data-frame\" style = \"overflow-x: scroll;\"><table class = \"data-frame\" style = \"margin-bottom: 6px;\"><thead><tr class = \"header\"><th class = \"rowNumber\" style = \"font-weight: bold; text-align: right;\">Row</th><th style = \"text-align: left;\">fpath</th><th style = \"text-align: left;\">contents</th></tr><tr class = \"subheader headerLastRow\"><th class = \"rowNumber\" style = \"font-weight: bold; text-align: right;\"></th><th title = \"String\" style = \"text-align: left;\">String</th><th title = \"String\" style = \"text-align: left;\">String</th></tr></thead><tbody><tr><td class = \"rowNumber\" style = \"font-weight: bold; text-align: right;\">1</td><td style = \"text-align: left;\">test</td><td style = \"text-align: left;\">contents\\ncontents</td></tr><tr><td class = \"rowNumber\" style = \"font-weight: bold; text-align: right;\">2</td><td style = \"text-align: left;\">test2</td><td style = \"text-align: left;\">next item</td></tr></tbody></table></div>"
      ],
      "text/latex": [
       "\\begin{tabular}{r|cc}\n",
       "\t& fpath & contents\\\\\n",
       "\t\\hline\n",
       "\t& String & String\\\\\n",
       "\t\\hline\n",
       "\t1 & test & contents\\textbackslash{}ncontents \\\\\n",
       "\t2 & test2 & next item \\\\\n",
       "\\end{tabular}\n"
      ],
      "text/plain": [
       "\u001b[1m2×2 DataFrame\u001b[0m\n",
       "\u001b[1m Row \u001b[0m│\u001b[1m fpath  \u001b[0m\u001b[1m contents           \u001b[0m\n",
       "     │\u001b[90m String \u001b[0m\u001b[90m String             \u001b[0m\n",
       "─────┼────────────────────────────\n",
       "   1 │ test    contents\\ncontents\n",
       "   2 │ test2   next item"
      ]
     },
     "metadata": {},
     "output_type": "display_data"
    }
   ],
   "source": [
    "append!(d1,d2)"
   ]
  },
  {
   "cell_type": "code",
   "execution_count": 15,
   "id": "661efe58-59d5-42e3-bc8b-bf152230cb52",
   "metadata": {},
   "outputs": [
    {
     "data": {
      "text/html": [
       "<div><div style = \"float: left;\"><span>1×2 DataFrame</span></div><div style = \"clear: both;\"></div></div><div class = \"data-frame\" style = \"overflow-x: scroll;\"><table class = \"data-frame\" style = \"margin-bottom: 6px;\"><thead><tr class = \"header\"><th class = \"rowNumber\" style = \"font-weight: bold; text-align: right;\">Row</th><th style = \"text-align: left;\">fpath</th><th style = \"text-align: left;\">contents</th></tr><tr class = \"subheader headerLastRow\"><th class = \"rowNumber\" style = \"font-weight: bold; text-align: right;\"></th><th title = \"String\" style = \"text-align: left;\">String</th><th title = \"String\" style = \"text-align: left;\">String</th></tr></thead><tbody><tr><td class = \"rowNumber\" style = \"font-weight: bold; text-align: right;\">1</td><td style = \"text-align: left;\">test</td><td style = \"text-align: left;\">contents\\ncontents</td></tr></tbody></table></div>"
      ],
      "text/latex": [
       "\\begin{tabular}{r|cc}\n",
       "\t& fpath & contents\\\\\n",
       "\t\\hline\n",
       "\t& String & String\\\\\n",
       "\t\\hline\n",
       "\t1 & test & contents\\textbackslash{}ncontents \\\\\n",
       "\\end{tabular}\n"
      ],
      "text/plain": [
       "\u001b[1m1×2 DataFrame\u001b[0m\n",
       "\u001b[1m Row \u001b[0m│\u001b[1m fpath  \u001b[0m\u001b[1m contents           \u001b[0m\n",
       "     │\u001b[90m String \u001b[0m\u001b[90m String             \u001b[0m\n",
       "─────┼────────────────────────────\n",
       "   1 │ test    contents\\ncontents"
      ]
     },
     "metadata": {},
     "output_type": "display_data"
    }
   ],
   "source": [
    "DataFrame(\"fpath\" => \"test\", \"contents\" => \"contents\\ncontents\")"
   ]
  },
  {
   "cell_type": "code",
   "execution_count": 16,
   "id": "0c2901fa-57b8-4de3-b9d9-a7ee8cb96cbc",
   "metadata": {},
   "outputs": [
    {
     "data": {
      "text/plain": [
       "\"notebook\""
      ]
     },
     "metadata": {},
     "output_type": "display_data"
    }
   ],
   "source": [
    "basename(pwd())"
   ]
  },
  {
   "cell_type": "code",
   "execution_count": 19,
   "id": "6d10620b-6138-459e-ab67-d28bc2159849",
   "metadata": {},
   "outputs": [
    {
     "name": "stdout",
     "output_type": "stream",
     "text": [
      "1a\n",
      "2b\n"
     ]
    }
   ],
   "source": [
    "for (i,v) in enumerate([\"a\",\"b\"])\n",
    "    println(i,v)\n",
    "end"
   ]
  },
  {
   "cell_type": "code",
   "execution_count": null,
   "id": "725154a6",
   "metadata": {},
   "outputs": [],
   "source": []
  }
 ],
 "metadata": {
  "kernelspec": {
   "display_name": "Julia 1.10.2",
   "language": "julia",
   "name": "julia-1.10"
  },
  "language_info": {
   "file_extension": ".jl",
   "mimetype": "application/julia",
   "name": "julia",
   "version": "1.10.2"
  }
 },
 "nbformat": 4,
 "nbformat_minor": 5
}
