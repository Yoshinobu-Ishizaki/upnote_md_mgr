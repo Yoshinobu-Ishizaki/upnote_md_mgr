{
 "cells": [
  {
   "cell_type": "markdown",
   "id": "78adb507-c638-46c1-bbac-8379a19ff784",
   "metadata": {},
   "source": [
    "# Convert UpNote data into dataframe"
   ]
  },
  {
   "cell_type": "markdown",
   "id": "051e341a-eb56-419b-a7e9-778ca369eec5",
   "metadata": {},
   "source": [
    "2024-03-06"
   ]
  },
  {
   "cell_type": "code",
   "execution_count": 1,
   "id": "e6897a9b-1560-4f3e-aba8-4d308524b974",
   "metadata": {},
   "outputs": [],
   "source": [
    "using Pkg"
   ]
  },
  {
   "cell_type": "code",
   "execution_count": 2,
   "id": "e3eea618-e2d3-4a34-9a78-94b4312139f2",
   "metadata": {},
   "outputs": [
    {
     "name": "stderr",
     "output_type": "stream",
     "text": [
      "\u001b[32m\u001b[1m  No Changes\u001b[22m\u001b[39m to `C:\\Users\\ZT717572\\.julia\\environments\\v1.10\\Project.toml`\n",
      "\u001b[32m\u001b[1m    Updating\u001b[22m\u001b[39m `C:\\Users\\ZT717572\\.julia\\environments\\v1.10\\Manifest.toml`\n",
      "  \u001b[90m[9e997f8a] \u001b[39m\u001b[91m- ChangesOfVariables v0.1.8\u001b[39m\n",
      "  \u001b[90m[b429d917] \u001b[39m\u001b[91m- DensityInterface v0.4.0\u001b[39m\n",
      "  \u001b[90m[46192b85] \u001b[39m\u001b[91m- GPUArraysCore v0.1.5\u001b[39m\n",
      "  \u001b[90m[3587e190] \u001b[39m\u001b[91m- InverseFunctions v0.1.12\u001b[39m\n"
     ]
    }
   ],
   "source": [
    "Pkg.resolve()"
   ]
  },
  {
   "cell_type": "code",
   "execution_count": 3,
   "id": "d240b217-7901-4012-97fe-30436c5f3d3d",
   "metadata": {
    "tags": []
   },
   "outputs": [],
   "source": [
    "using Glob\n",
    "using DataFrames"
   ]
  },
  {
   "cell_type": "code",
   "execution_count": 4,
   "id": "160e6cc5-ca8c-4d00-857c-07857425c48e",
   "metadata": {},
   "outputs": [],
   "source": [
    "using Dates"
   ]
  },
  {
   "cell_type": "code",
   "execution_count": 7,
   "id": "b59346e6-5288-4b80-94d4-50ba7596fcfe",
   "metadata": {},
   "outputs": [
    {
     "name": "stderr",
     "output_type": "stream",
     "text": [
      "\u001b[32m\u001b[1m    Updating\u001b[22m\u001b[39m registry at `C:\\Users\\ZT717572\\.julia\\registries\\General.toml`\n",
      "\u001b[32m\u001b[1m   Resolving\u001b[22m\u001b[39m package versions...\n",
      "\u001b[32m\u001b[1m   Installed\u001b[22m\u001b[39m CSV ─ v0.10.13\n",
      "\u001b[32m\u001b[1m    Updating\u001b[22m\u001b[39m `C:\\Users\\ZT717572\\.julia\\environments\\v1.10\\Project.toml`\n",
      "  \u001b[90m[336ed68f] \u001b[39m\u001b[92m+ CSV v0.10.13\u001b[39m\n",
      "\u001b[32m\u001b[1m    Updating\u001b[22m\u001b[39m `C:\\Users\\ZT717572\\.julia\\environments\\v1.10\\Manifest.toml`\n",
      "  \u001b[90m[336ed68f] \u001b[39m\u001b[92m+ CSV v0.10.13\u001b[39m\n",
      "  \u001b[90m[ea10d353] \u001b[39m\u001b[92m+ WeakRefStrings v1.4.2\u001b[39m\n",
      "  \u001b[90m[76eceee3] \u001b[39m\u001b[92m+ WorkerUtilities v1.6.1\u001b[39m\n",
      "\u001b[32m\u001b[1mPrecompiling\u001b[22m\u001b[39m project...\n",
      "\u001b[32m  ✓ \u001b[39m\u001b[90mWorkerUtilities\u001b[39m\n",
      "\u001b[32m  ✓ \u001b[39m\u001b[90mAbstractFFTs → AbstractFFTsChainRulesCoreExt\u001b[39m\n",
      "\u001b[32m  ✓ \u001b[39m\u001b[90mOffsetArrays → OffsetArraysAdaptExt\u001b[39m\n",
      "\u001b[32m  ✓ \u001b[39m\u001b[90mTranscodingStreams → TestExt\u001b[39m\n",
      "\u001b[32m  ✓ \u001b[39m\u001b[90mChainRulesCore → ChainRulesCoreSparseArraysExt\u001b[39m\n",
      "\u001b[32m  ✓ \u001b[39m\u001b[90mWeakRefStrings\u001b[39m\n",
      "\u001b[32m  ✓ \u001b[39m\u001b[90mLogExpFunctions → LogExpFunctionsChainRulesCoreExt\u001b[39m\n",
      "\u001b[32m  ✓ \u001b[39m\u001b[90mStructArrays → StructArraysAdaptExt\u001b[39m\n",
      "\u001b[32m  ✓ \u001b[39m\u001b[90mAdapt → AdaptStaticArraysExt\u001b[39m\n",
      "\u001b[32m  ✓ \u001b[39m\u001b[90mStaticArrays → StaticArraysChainRulesCoreExt\u001b[39m\n",
      "\u001b[32m  ✓ \u001b[39m\u001b[90mPolynomials → PolynomialsChainRulesCoreExt\u001b[39m\n",
      "\u001b[32m  ✓ \u001b[39m\u001b[90mLatexify → DataFramesExt\u001b[39m\n",
      "\u001b[32m  ✓ \u001b[39m\u001b[90mArrayInterface\u001b[39m\n",
      "\u001b[32m  ✓ \u001b[39m\u001b[90mSpecialFunctions → SpecialFunctionsChainRulesCoreExt\u001b[39m\n",
      "\u001b[32m  ✓ \u001b[39m\u001b[90mStatsBase\u001b[39m\n",
      "\u001b[33m\u001b[1m┌ \u001b[22m\u001b[39m\u001b[33m\u001b[1mWarning: \u001b[22m\u001b[39mattempting to remove probably stale pidfile\n",
      "\u001b[33m\u001b[1m│ \u001b[22m\u001b[39m  path = \"C:\\\\Users\\\\ZT717572\\\\.julia\\\\compiled\\\\v1.10\\\\FreeTypeAbstraction\\\\Qde7d_IGdUU.ji.pidfile\"\n",
      "\u001b[33m\u001b[1m└ \u001b[22m\u001b[39m\u001b[90m@ FileWatching.Pidfile C:\\Users\\ZT717572\\AppData\\Local\\Programs\\Julia-1.10.2\\share\\julia\\stdlib\\v1.10\\FileWatching\\src\\pidfile.jl:244\u001b[39m\n",
      "\u001b[32m  ✓ \u001b[39m\u001b[90mImageAxes\u001b[39m\n",
      "\u001b[32m  ✓ \u001b[39m\u001b[90mArrayInterface → ArrayInterfaceStaticArraysCoreExt\u001b[39m\n",
      "\u001b[32m  ✓ \u001b[39m\u001b[90mShaderAbstractions\u001b[39m\n",
      "\u001b[32m  ✓ \u001b[39m\u001b[90mInterpolations\u001b[39m\n",
      "\u001b[32m  ✓ \u001b[39m\u001b[90mFreeTypeAbstraction\u001b[39m\n",
      "\u001b[32m  ✓ \u001b[39m\u001b[90mStatsFuns → StatsFunsChainRulesCoreExt\u001b[39m\n",
      "\u001b[32m  ✓ \u001b[39m\u001b[90mFiniteDiff\u001b[39m\n",
      "\u001b[32m  ✓ \u001b[39m\u001b[90mImageMetadata\u001b[39m\n",
      "\u001b[32m  ✓ \u001b[39m\u001b[90mInterpolations → InterpolationsUnitfulExt\u001b[39m\n",
      "\u001b[32m  ✓ \u001b[39m\u001b[90mPlotUtils\u001b[39m\n",
      "\u001b[32m  ✓ \u001b[39m\u001b[90mMathTeXEngine\u001b[39m\n",
      "\u001b[32m  ✓ \u001b[39m\u001b[90mFiniteDiff → FiniteDiffStaticArraysExt\u001b[39m\n",
      "\u001b[32m  ✓ \u001b[39m\u001b[90mNetpbm\u001b[39m\n",
      "\u001b[32m  ✓ \u001b[39m\u001b[90mNLSolversBase\u001b[39m\n",
      "\u001b[32m  ✓ \u001b[39m\u001b[90mPlotThemes\u001b[39m\n",
      "\u001b[32m  ✓ \u001b[39mCSV\n",
      "\u001b[32m  ✓ \u001b[39m\u001b[90mRecipesPipeline\u001b[39m\n",
      "\u001b[32m  ✓ \u001b[39m\u001b[90mLineSearches\u001b[39m\n",
      "\u001b[32m  ✓ \u001b[39m\u001b[90mDistributions\u001b[39m\n",
      "\u001b[32m  ✓ \u001b[39m\u001b[90mDistributions → DistributionsTestExt\u001b[39m\n",
      "\u001b[32m  ✓ \u001b[39m\u001b[90mDistributions → DistributionsChainRulesCoreExt\u001b[39m\n",
      "\u001b[32m  ✓ \u001b[39m\u001b[90mSimpleRandom\u001b[39m\n",
      "\u001b[32m  ✓ \u001b[39m\u001b[90mKernelDensity\u001b[39m\n",
      "\u001b[32m  ✓ \u001b[39m\u001b[90mTiffImages\u001b[39m\n",
      "\u001b[32m  ✓ \u001b[39mPlots\n",
      "\u001b[32m  ✓ \u001b[39m\u001b[90mMathOptInterface\u001b[39m\n",
      "\u001b[32m  ✓ \u001b[39m\u001b[90mOptim\u001b[39m\n",
      "\u001b[32m  ✓ \u001b[39m\u001b[90mPlots → FileIOExt\u001b[39m\n",
      "\u001b[32m  ✓ \u001b[39m\u001b[90mSimpleGraphs\u001b[39m\n",
      "\u001b[32m  ✓ \u001b[39m\u001b[90mPlots → UnitfulExt\u001b[39m\n",
      "\u001b[32m  ✓ \u001b[39m\u001b[90mPlots → GeometryBasicsExt\u001b[39m\n",
      "\u001b[32m  ✓ \u001b[39m\u001b[90mDelaunayTriangulation\u001b[39m\n",
      "\u001b[32m  ✓ \u001b[39m\u001b[90mPlots → IJuliaExt\u001b[39m\n",
      "\u001b[32m  ✓ \u001b[39mJuMP\n",
      "\u001b[32m  ✓ \u001b[39m\u001b[90mMakie\u001b[39m\n",
      "\u001b[32m  ✓ \u001b[39mCairoMakie\n",
      "  51 dependencies successfully precompiled in 244 seconds. 298 already precompiled.\n"
     ]
    }
   ],
   "source": [
    "Pkg.add(\"CSV\")"
   ]
  },
  {
   "cell_type": "code",
   "execution_count": 8,
   "id": "ce3169b3-c0e6-4712-9fbf-10056c10f72d",
   "metadata": {},
   "outputs": [],
   "source": [
    "using CSV"
   ]
  },
  {
   "cell_type": "code",
   "execution_count": 9,
   "id": "bc358e0a-e91b-479f-b591-38926f29c02e",
   "metadata": {},
   "outputs": [
    {
     "data": {
      "text/plain": [
       "\"../UpNote/General Space\""
      ]
     },
     "execution_count": 9,
     "metadata": {},
     "output_type": "execute_result"
    }
   ],
   "source": [
    "upnote_path = \"../UpNote/General Space\""
   ]
  },
  {
   "cell_type": "code",
   "execution_count": 10,
   "id": "e5877bb8-411c-43f9-84b5-9f219a4caa8a",
   "metadata": {},
   "outputs": [
    {
     "data": {
      "text/plain": [
       "getmdfiles (generic function with 2 methods)"
      ]
     },
     "execution_count": 10,
     "metadata": {},
     "output_type": "execute_result"
    }
   ],
   "source": [
    "function getmdfiles(path = upnote_path)\n",
    "    files = glob(\"*.md\", path)\n",
    "end    "
   ]
  },
  {
   "cell_type": "code",
   "execution_count": 11,
   "id": "9e78486c-4390-43f3-8102-d64b5003f715",
   "metadata": {
    "tags": []
   },
   "outputs": [],
   "source": [
    "tfiles = getmdfiles(upnote_path);"
   ]
  },
  {
   "cell_type": "code",
   "execution_count": 12,
   "id": "4b1c7626-c79d-4f0e-916c-943a1b0137c1",
   "metadata": {
    "tags": []
   },
   "outputs": [
    {
     "data": {
      "text/plain": [
       "24673"
      ]
     },
     "execution_count": 12,
     "metadata": {},
     "output_type": "execute_result"
    }
   ],
   "source": [
    "length(tfiles)"
   ]
  },
  {
   "cell_type": "markdown",
   "id": "cb306105-7fa8-4da5-bac9-eec2f623610e",
   "metadata": {},
   "source": [
    "Data Conversion Function"
   ]
  },
  {
   "cell_type": "code",
   "execution_count": 13,
   "id": "228264b7-96b8-4453-acec-720bfbe9be03",
   "metadata": {},
   "outputs": [
    {
     "data": {
      "text/plain": [
       "convtxt (generic function with 1 method)"
      ]
     },
     "execution_count": 13,
     "metadata": {},
     "output_type": "execute_result"
    }
   ],
   "source": [
    "function convtxt(path)\n",
    "    s = \"\"\n",
    "    update_dt = \"\"\n",
    "    create_dt = \"\"\n",
    "    cat_mode = false\n",
    "    isheader = true\n",
    "    categories = String[]\n",
    "    bdytxt = String[]\n",
    "    tags = String[]\n",
    "\n",
    "    txt = readlines(path)\n",
    "\n",
    "    for i in 1:length(txt)\n",
    "        if i > 1\n",
    "            # skip first line\n",
    "            s = txt[i]\n",
    "            if startswith(s,\"date:\")\n",
    "                s2 = replace(s, \"date: \" => \"\")\n",
    "                update_dt = DateTime(s2, DateFormat(\"yyyy-mm-dd HH:MM:SS\"))\n",
    "            elseif startswith(s,\"created: \")\n",
    "                s2 = replace(s, \"created: \" => \"\")\n",
    "                create_dt = DateTime(s2, DateFormat(\"yyyy-mm-dd HH:MM:SS\"))\n",
    "            elseif startswith(s,\"categories:\")\n",
    "                cat_mode = true\n",
    "                \n",
    "            elseif s == \"---\"\n",
    "                isheader = false\n",
    "                cat_mode = false\n",
    "                continue\n",
    "            else\n",
    "                if cat_mode\n",
    "                    s2 = replace(s, r\"^- \" => \"\")\n",
    "                    push!(categories, s2)\n",
    "                end\n",
    "            end\n",
    "            # start of body parser\n",
    "            if !isheader \n",
    "                if startswith(s,r\"#+ \")\n",
    "                    s2 = replace(s, r\"#+ \" => \"\")\n",
    "                    push!(bdytxt,s2)\n",
    "                elseif contains(s, r\"^[\\s\\*]+$\")\n",
    "                    s2 = replace(s, r\"^[\\s\\*]+$\" => \"\")\n",
    "                    push!(bdytxt,s2)\n",
    "                elseif contains(s,r\"^#[^[:punct:] ]*$\")\n",
    "                    s2 = replace(s,r\"^#\" => \"\")\n",
    "                    push!(tags, s2)\n",
    "                else\n",
    "                    push!(bdytxt,s)\n",
    "                end\n",
    "            end # body\n",
    "        end # i > 1\n",
    "    end # i\n",
    "    \n",
    "    cat_str = join(categories, \"|\")\n",
    "    contents = join(bdytxt, \"\\n\")\n",
    "    tags_str = join(tags, \"|\")\n",
    "    \n",
    "    return(Dict(\"fpath\" => basename(path), \"update\" => update_dt, \"created\" => create_dt, \"category\" => cat_str, \"tags\" => tags_str, \"contents\" => contents))\n",
    "end"
   ]
  },
  {
   "cell_type": "code",
   "execution_count": null,
   "id": "614048f0-7f65-4718-a3dc-5727b353a87b",
   "metadata": {},
   "outputs": [],
   "source": []
  },
  {
   "cell_type": "markdown",
   "id": "982cf1cf-084f-483a-9565-20c801f5aabf",
   "metadata": {},
   "source": [
    "## trial"
   ]
  },
  {
   "cell_type": "code",
   "execution_count": 10,
   "id": "804fe93b-22e8-4bf1-ba89-676884cc72db",
   "metadata": {},
   "outputs": [
    {
     "data": {
      "text/plain": [
       "\"../UpNote/General Space\\\\- 名刺.md\""
      ]
     },
     "execution_count": 10,
     "metadata": {},
     "output_type": "execute_result"
    }
   ],
   "source": [
    "f1 = tfiles[1]"
   ]
  },
  {
   "cell_type": "code",
   "execution_count": 19,
   "id": "bbda4a7c-d9f0-4f2c-88e1-cc60e871b47f",
   "metadata": {},
   "outputs": [],
   "source": [
    "txt = readlines(f1);"
   ]
  },
  {
   "cell_type": "markdown",
   "id": "f1b3e4d5-46cc-46a6-947e-793ccae00d77",
   "metadata": {},
   "source": [
    "more data"
   ]
  },
  {
   "cell_type": "code",
   "execution_count": 14,
   "id": "2fc8e360-020b-4f9d-b7e5-829643c40f02",
   "metadata": {},
   "outputs": [
    {
     "data": {
      "text/plain": [
       "10-element Vector{String}:\n",
       " \"../UpNote/General Space\\\\- 名刺.md\"\n",
       " \"../UpNote/General Space\\\\0030.md\"\n",
       " \"../UpNote/General Space\\\\0042.md\"\n",
       " \"../UpNote/General Space\\\\0音孔.md\"\n",
       " \"../UpNote/General Space\\\\1,2番管.md\"\n",
       " \"../UpNote/General Space\\\\1,3,4-2 抜差組立 中管ピン径変更.md\"\n",
       " \"../UpNote/General Space\\\\1-3レバー 2.md\"\n",
       " \"../UpNote/General Space\\\\1-3レバー.md\"\n",
       " \"../UpNote/General Space\\\\1.5 スタイラス.md\"\n",
       " \"../UpNote/General Space\\\\1.5スタイラス.md\""
      ]
     },
     "execution_count": 14,
     "metadata": {},
     "output_type": "execute_result"
    }
   ],
   "source": [
    "fl1 = tfiles[1:10]"
   ]
  },
  {
   "cell_type": "code",
   "execution_count": 15,
   "id": "7a54c05e-4a87-4ed1-b2dd-c824dbc4e231",
   "metadata": {},
   "outputs": [],
   "source": [
    "xx = DataFrame()\n",
    "\n",
    "for f in fl1\n",
    "    append!(xx, convtxt(f))\n",
    "end"
   ]
  },
  {
   "cell_type": "code",
   "execution_count": 16,
   "id": "d2da0870-5922-4fc1-8daa-16e04e926345",
   "metadata": {},
   "outputs": [
    {
     "data": {
      "text/html": [
       "<div><div style = \"float: left;\"><span>10×6 DataFrame</span></div><div style = \"clear: both;\"></div></div><div class = \"data-frame\" style = \"overflow-x: scroll;\"><table class = \"data-frame\" style = \"margin-bottom: 6px;\"><thead><tr class = \"header\"><th class = \"rowNumber\" style = \"font-weight: bold; text-align: right;\">Row</th><th style = \"text-align: left;\">category</th><th style = \"text-align: left;\">contents</th><th style = \"text-align: left;\">created</th><th style = \"text-align: left;\">fpath</th><th style = \"text-align: left;\">tags</th><th style = \"text-align: left;\">update</th></tr><tr class = \"subheader headerLastRow\"><th class = \"rowNumber\" style = \"font-weight: bold; text-align: right;\"></th><th title = \"String\" style = \"text-align: left;\">String</th><th title = \"String\" style = \"text-align: left;\">String</th><th title = \"DateTime\" style = \"text-align: left;\">DateTime</th><th title = \"String\" style = \"text-align: left;\">String</th><th title = \"String\" style = \"text-align: left;\">String</th><th title = \"DateTime\" style = \"text-align: left;\">DateTime</th></tr></thead><tbody><tr><td class = \"rowNumber\" style = \"font-weight: bold; text-align: right;\">1</td><td style = \"text-align: left;\">名刺</td><td style = \"text-align: left;\">\\n\\\\- 名刺\\n\\n池田 信次郎日新\\n\\n\\n\\nDSI成形機の輸送\\n\\n![](Files/Evernote%20Snapshot%2020170121%20200204.png)</td><td style = \"text-align: left;\">2017-01-21T20:01:05</td><td style = \"text-align: left;\">- 名刺.md</td><td style = \"text-align: left;\"></td><td style = \"text-align: left;\">2017-01-21T20:01:34</td></tr><tr><td class = \"rowNumber\" style = \"font-weight: bold; text-align: right;\">2</td><td style = \"text-align: left;\">仕事_Evernote</td><td style = \"text-align: left;\">\\n0030\\n\\n1番管正寸切治具のベースへの取り付け孔をφ11にするようセガワにメール連絡した。\\n\\n図面も訂正しておいた。\\n\\n\\n\\nその他、保全班に追加工依頼した以下のものの図面を訂正。\\n\\n\\n\\n\\n</td><td style = \"text-align: left;\">2014-06-05T11:06:02</td><td style = \"text-align: left;\">0030.md</td><td style = \"text-align: left;\">HR869</td><td style = \"text-align: left;\">2014-06-05T11:06:15</td></tr><tr><td class = \"rowNumber\" style = \"font-weight: bold; text-align: right;\">3</td><td style = \"text-align: left;\">仕事_Evernote</td><td style = \"text-align: left;\">\\n0042\\n\\n枝管3Aの寸切治具、浅羽ではなくYMC用だった。\\n\\nで、ボルト孔が小さいので、保全班の孔広げ待ちに追加した。\\n\\n図面訂正した。\\n\\n\\n\\n\\n</td><td style = \"text-align: left;\">2014-06-05T11:06:15</td><td style = \"text-align: left;\">0042.md</td><td style = \"text-align: left;\">HR869</td><td style = \"text-align: left;\">2014-06-11T16:06:42</td></tr><tr><td class = \"rowNumber\" style = \"font-weight: bold; text-align: right;\">4</td><td style = \"text-align: left;\">仕事_Evernote</td><td style = \"text-align: left;\">\\n0音孔\\n\\nボディ測定結果を確認。\\n\\n大野さんにメール。\\n\\n\\n\\n結果、+0/-0.5の公差で振り直してくれる。\\n\\n\\n\\nPLズレは、テール部のみ0.05許容。\\n\\n\\n\\n表の音孔は+/- 0.1。\\n\\n\\n\\n\\n\\n\\n\\n\\n</td><td style = \"text-align: left;\">2017-02-09T15:02:23</td><td style = \"text-align: left;\">0音孔.md</td><td style = \"text-align: left;\">分岐管</td><td style = \"text-align: left;\">2017-02-09T18:02:36</td></tr><tr><td class = \"rowNumber\" style = \"font-weight: bold; text-align: right;\">5</td><td style = \"text-align: left;\">仕事_Evernote</td><td style = \"text-align: left;\">\\n1,2番管\\n\\nEMCによるナミ修正品の確認を徳富さんと見た。\\n\\nまだダクってるのがよく見えるので、やはりヤスリとかで修正しないとだめだよな。、ってことでサテライトに回収。\\n\\n1番管は増試品なんだが、もう一度山隆で修正?松隈さんに相談する。\\n\\n\\n\\n2番管はベーダーによる修正で結構アラビ消せてる。が、こちらはシームローラー変更がメインの対策になるので、バックアッププラン。\\n\\n\\n\\n清田さんと会話。\\n\\n2番管はCBとBBで、バルジ3回目からしか変わらないのでそれらが電算でまとめられて欲しいな。→曲げ上がりまではCB共通で構成を組むように伝えたので、生産からは44班の中で適宜コントロールできるようになるはず。\\n\\n\\n\\n写真、三宅氏が撮っていた。\\n\\n\\n</td><td style = \"text-align: left;\">2022-07-25T16:07:58</td><td style = \"text-align: left;\">1,2番管.md</td><td style = \"text-align: left;\">CBBB623</td><td style = \"text-align: left;\">2022-07-25T23:07:08</td></tr><tr><td class = \"rowNumber\" style = \"font-weight: bold; text-align: right;\">6</td><td style = \"text-align: left;\">仕事_Evernote</td><td style = \"text-align: left;\">\\n1,3,4-2 抜差組立 中管ピン径変更\\n\\n中管の嵌合径が大きなクリアランスを取っていることに気づいてなかった佐山さんの設計ミスを修正する図面製図。\\n\\nたまたま全部の部品が共通だったので、修正は比較的楽だった。\\n\\n図面が旧来の1ファイルに書いてあるタイプだったので、部品ごとに分割してから修正を入れた。\\n\\n\\n\\n休日深夜枠。\\n\\n\\n\\n\\n\\n\\n</td><td style = \"text-align: left;\">2022-02-20T02:02:34</td><td style = \"text-align: left;\">1,3,4-2 抜差組立 中管ピン径変更.md</td><td style = \"text-align: left;\">CBBB623</td><td style = \"text-align: left;\">2022-02-20T02:02:42</td></tr><tr><td class = \"rowNumber\" style = \"font-weight: bold; text-align: right;\">7</td><td style = \"text-align: left;\">仕事_Evernote</td><td style = \"text-align: left;\">\\n1-3レバー\\n\\n原さんから、869 1-3レバー変更の依頼がPJから来たら対応してほしいとのこと。\\n\\n\\n\\n3レバーのブランク長さは要確認。\\n\\n原さんの記憶では、一度曲げの長さが合わなかった。\\n\\n\\n</td><td style = \"text-align: left;\">2016-05-25T14:05:33</td><td style = \"text-align: left;\">1-3レバー 2.md</td><td style = \"text-align: left;\">HR869</td><td style = \"text-align: left;\">2016-05-25T14:05:11</td></tr><tr><td class = \"rowNumber\" style = \"font-weight: bold; text-align: right;\">8</td><td style = \"text-align: left;\">仕事_Evernote</td><td style = \"text-align: left;\">\\n1-3レバー\\n\\n室園氏。\\n\\n\\n\\n設変対応。\\n\\n何をやればいいのかを室園氏に口頭で説明した。\\n\\n1. 抜き型の中身と曲げ型のガイドを設計して手配。\\n2. 和田精機と中身の組み替えと在庫（2ヶ月分ぐらい？）の製作と試作で打合せ。\\n3. 交換後の試作を山本のロー付けバフ上がりまで。\\n4. 設計で評価\\n5. 生産切り替えのアクション\\n6. 余った過去部品は買い取り？\\n\\n\\n\\n型設計する予定の吉田氏には、室園氏から説明してもらう。\\n\\n\\n\\n\\n\\n\\n\\n\\n</td><td style = \"text-align: left;\">2016-07-08T13:07:01</td><td style = \"text-align: left;\">1-3レバー.md</td><td style = \"text-align: left;\">HR869</td><td style = \"text-align: left;\">2016-07-08T14:07:00</td></tr><tr><td class = \"rowNumber\" style = \"font-weight: bold; text-align: right;\">9</td><td style = \"text-align: left;\">仕事_Evernote</td><td style = \"text-align: left;\">\\n1.5 スタイラス\\n\\n渡邊氏から電話。新しい2本が納品されたが、棚に入れようと思ったら予備があったよ？\\n\\n→うーん、前回探した時に何故見つけられなかった？\\n\\n\\n\\n\\n\\n\\n</td><td style = \"text-align: left;\">2016-02-09T14:02:10</td><td style = \"text-align: left;\">1.5 スタイラス.md</td><td style = \"text-align: left;\">3次元</td><td style = \"text-align: left;\">2016-02-09T14:02:11</td></tr><tr><td class = \"rowNumber\" style = \"font-weight: bold; text-align: right;\">10</td><td style = \"text-align: left;\">仕事_Evernote</td><td style = \"text-align: left;\">\\n1.5スタイラス\\n\\n昨日の破損事故を受けて、関係者にメール。\\n\\n今後、許可者以外は定盤上の作業もダメ、としてはどうかと提案。\\n\\n\\n\\n\\n</td><td style = \"text-align: left;\">2016-01-21T10:01:08</td><td style = \"text-align: left;\">1.5スタイラス.md</td><td style = \"text-align: left;\">3次元</td><td style = \"text-align: left;\">2016-01-21T10:01:53</td></tr></tbody></table></div>"
      ],
      "text/latex": [
       "\\begin{tabular}{r|ccc}\n",
       "\t& category & contents & \\\\\n",
       "\t\\hline\n",
       "\t& String & String & \\\\\n",
       "\t\\hline\n",
       "\t1 & 名刺 & \\textbackslash{}n\\textbackslash{}\\textbackslash{}- 名刺\\textbackslash{}n\\textbackslash{}n池田 信次郎日新\\textbackslash{}n\\textbackslash{}n\\textbackslash{}n\\textbackslash{}nDSI成形機の輸送\\textbackslash{}n\\textbackslash{}n![](Files/Evernote\\%20Snapshot\\%2020170121\\%20200204.png) & $\\dots$ \\\\\n",
       "\t2 & 仕事\\_Evernote & \\textbackslash{}n0030\\textbackslash{}n\\textbackslash{}n1番管正寸切治具のベースへの取り付け孔をφ11にするようセガワにメール連絡した。\\textbackslash{}n\\textbackslash{}n図面も訂正しておいた。\\textbackslash{}n\\textbackslash{}n\\textbackslash{}n\\textbackslash{}nその他、保全班に追加工依頼した以下のものの図面を訂正。\\textbackslash{}n\\textbackslash{}n\\textbackslash{}n\\textbackslash{}n\\textbackslash{}n & $\\dots$ \\\\\n",
       "\t3 & 仕事\\_Evernote & \\textbackslash{}n0042\\textbackslash{}n\\textbackslash{}n枝管3Aの寸切治具、浅羽ではなくYMC用だった。\\textbackslash{}n\\textbackslash{}nで、ボルト孔が小さいので、保全班の孔広げ待ちに追加した。\\textbackslash{}n\\textbackslash{}n図面訂正した。\\textbackslash{}n\\textbackslash{}n\\textbackslash{}n\\textbackslash{}n\\textbackslash{}n & $\\dots$ \\\\\n",
       "\t4 & 仕事\\_Evernote & \\textbackslash{}n0音孔\\textbackslash{}n\\textbackslash{}nボディ測定結果を確認。\\textbackslash{}n\\textbackslash{}n大野さんにメール。\\textbackslash{}n\\textbackslash{}n\\textbackslash{}n\\textbackslash{}n結果、+0/-0.5の公差で振り直してくれる。\\textbackslash{}n\\textbackslash{}n\\textbackslash{}n\\textbackslash{}nPLズレは、テール部のみ0.05許容。\\textbackslash{}n\\textbackslash{}n\\textbackslash{}n\\textbackslash{}n表の音孔は+/- 0.1。\\textbackslash{}n\\textbackslash{}n\\textbackslash{}n\\textbackslash{}n\\textbackslash{}n\\textbackslash{}n\\textbackslash{}n\\textbackslash{}n\\textbackslash{}n & $\\dots$ \\\\\n",
       "\t5 & 仕事\\_Evernote & \\textbackslash{}n1,2番管\\textbackslash{}n\\textbackslash{}nEMCによるナミ修正品の確認を徳富さんと見た。\\textbackslash{}n\\textbackslash{}nまだダクってるのがよく見えるので、やはりヤスリとかで修正しないとだめだよな。、ってことでサテライトに回収。\\textbackslash{}n\\textbackslash{}n1番管は増試品なんだが、もう一度山隆で修正?松隈さんに相談する。\\textbackslash{}n\\textbackslash{}n\\textbackslash{}n\\textbackslash{}n2番管はベーダーによる修正で結構アラビ消せてる。が、こちらはシームローラー変更がメインの対策になるので、バックアッププラン。\\textbackslash{}n\\textbackslash{}n\\textbackslash{}n\\textbackslash{}n清田さんと会話。\\textbackslash{}n\\textbackslash{}n2番管はCBとBBで、バルジ3回目からしか変わらないのでそれらが電算でまとめられて欲しいな。→曲げ上がりまではCB共通で構成を組むように伝えたので、生産からは44班の中で適宜コントロールできるようになるはず。\\textbackslash{}n\\textbackslash{}n\\textbackslash{}n\\textbackslash{}n写真、三宅氏が撮っていた。\\textbackslash{}n\\textbackslash{}n\\textbackslash{}n & $\\dots$ \\\\\n",
       "\t6 & 仕事\\_Evernote & \\textbackslash{}n1,3,4-2 抜差組立 中管ピン径変更\\textbackslash{}n\\textbackslash{}n中管の嵌合径が大きなクリアランスを取っていることに気づいてなかった佐山さんの設計ミスを修正する図面製図。\\textbackslash{}n\\textbackslash{}nたまたま全部の部品が共通だったので、修正は比較的楽だった。\\textbackslash{}n\\textbackslash{}n図面が旧来の1ファイルに書いてあるタイプだったので、部品ごとに分割してから修正を入れた。\\textbackslash{}n\\textbackslash{}n\\textbackslash{}n\\textbackslash{}n休日深夜枠。\\textbackslash{}n\\textbackslash{}n\\textbackslash{}n\\textbackslash{}n\\textbackslash{}n\\textbackslash{}n\\textbackslash{}n & $\\dots$ \\\\\n",
       "\t7 & 仕事\\_Evernote & \\textbackslash{}n1-3レバー\\textbackslash{}n\\textbackslash{}n原さんから、869 1-3レバー変更の依頼がPJから来たら対応してほしいとのこと。\\textbackslash{}n\\textbackslash{}n\\textbackslash{}n\\textbackslash{}n3レバーのブランク長さは要確認。\\textbackslash{}n\\textbackslash{}n原さんの記憶では、一度曲げの長さが合わなかった。\\textbackslash{}n\\textbackslash{}n\\textbackslash{}n & $\\dots$ \\\\\n",
       "\t8 & 仕事\\_Evernote & \\textbackslash{}n1-3レバー\\textbackslash{}n\\textbackslash{}n室園氏。\\textbackslash{}n\\textbackslash{}n\\textbackslash{}n\\textbackslash{}n設変対応。\\textbackslash{}n\\textbackslash{}n何をやればいいのかを室園氏に口頭で説明した。\\textbackslash{}n\\textbackslash{}n1. 抜き型の中身と曲げ型のガイドを設計して手配。\\textbackslash{}n2. 和田精機と中身の組み替えと在庫（2ヶ月分ぐらい？）の製作と試作で打合せ。\\textbackslash{}n3. 交換後の試作を山本のロー付けバフ上がりまで。\\textbackslash{}n4. 設計で評価\\textbackslash{}n5. 生産切り替えのアクション\\textbackslash{}n6. 余った過去部品は買い取り？\\textbackslash{}n\\textbackslash{}n\\textbackslash{}n\\textbackslash{}n型設計する予定の吉田氏には、室園氏から説明してもらう。\\textbackslash{}n\\textbackslash{}n\\textbackslash{}n\\textbackslash{}n\\textbackslash{}n\\textbackslash{}n\\textbackslash{}n\\textbackslash{}n\\textbackslash{}n & $\\dots$ \\\\\n",
       "\t9 & 仕事\\_Evernote & \\textbackslash{}n1.5 スタイラス\\textbackslash{}n\\textbackslash{}n渡邊氏から電話。新しい2本が納品されたが、棚に入れようと思ったら予備があったよ？\\textbackslash{}n\\textbackslash{}n→うーん、前回探した時に何故見つけられなかった？\\textbackslash{}n\\textbackslash{}n\\textbackslash{}n\\textbackslash{}n\\textbackslash{}n\\textbackslash{}n\\textbackslash{}n & $\\dots$ \\\\\n",
       "\t10 & 仕事\\_Evernote & \\textbackslash{}n1.5スタイラス\\textbackslash{}n\\textbackslash{}n昨日の破損事故を受けて、関係者にメール。\\textbackslash{}n\\textbackslash{}n今後、許可者以外は定盤上の作業もダメ、としてはどうかと提案。\\textbackslash{}n\\textbackslash{}n\\textbackslash{}n\\textbackslash{}n\\textbackslash{}n & $\\dots$ \\\\\n",
       "\\end{tabular}\n"
      ],
      "text/plain": [
       "\u001b[1m10×6 DataFrame\u001b[0m\n",
       "\u001b[1m Row \u001b[0m│\u001b[1m category      \u001b[0m\u001b[1m contents                          \u001b[0m\u001b[1m created             \u001b[0m\u001b[1m \u001b[0m ⋯\n",
       "     │\u001b[90m String        \u001b[0m\u001b[90m String                            \u001b[0m\u001b[90m DateTime            \u001b[0m\u001b[90m \u001b[0m ⋯\n",
       "─────┼──────────────────────────────────────────────────────────────────────────\n",
       "   1 │ 名刺           \\n\\\\- 名刺\\n\\n池田 信次郎日新\\n\\…  2017-01-21T20:01:05   ⋯\n",
       "   2 │ 仕事_Evernote  \\n0030\\n\\n1番管正寸切治具のベー …  2014-06-05T11:06:02\n",
       "   3 │ 仕事_Evernote  \\n0042\\n\\n枝管3Aの寸切治具、浅羽…  2014-06-05T11:06:15\n",
       "   4 │ 仕事_Evernote  \\n0音孔\\n\\nボディ測定結果を確認 …  2017-02-09T15:02:23\n",
       "   5 │ 仕事_Evernote  \\n1,2番管\\n\\nEMCによるナミ修正品…  2022-07-25T16:07:58   ⋯\n",
       "   6 │ 仕事_Evernote  \\n1,3,4-2 抜差組立 中管ピン径変 …  2022-02-20T02:02:34\n",
       "   7 │ 仕事_Evernote  \\n1-3レバー\\n\\n原さんから、869 1…  2016-05-25T14:05:33\n",
       "   8 │ 仕事_Evernote  \\n1-3レバー\\n\\n室園氏。\\n\\n\\n\\n …  2016-07-08T13:07:01\n",
       "   9 │ 仕事_Evernote  \\n1.5 スタイラス\\n\\n渡邊氏から電…  2016-02-09T14:02:10   ⋯\n",
       "  10 │ 仕事_Evernote  \\n1.5スタイラス\\n\\n昨日の破損事 …  2016-01-21T10:01:08\n",
       "\u001b[36m                                                               3 columns omitted\u001b[0m"
      ]
     },
     "execution_count": 16,
     "metadata": {},
     "output_type": "execute_result"
    }
   ],
   "source": [
    "xx"
   ]
  },
  {
   "cell_type": "code",
   "execution_count": 17,
   "id": "367e4705-0949-4a8d-b216-a65bdfacf686",
   "metadata": {},
   "outputs": [
    {
     "data": {
      "text/plain": [
       "\"test.csv\""
      ]
     },
     "execution_count": 17,
     "metadata": {},
     "output_type": "execute_result"
    }
   ],
   "source": [
    "CSV.write(\"test.csv\",xx)"
   ]
  },
  {
   "cell_type": "code",
   "execution_count": 125,
   "id": "ce04b7df-794d-45c9-8ff8-8560934a21eb",
   "metadata": {},
   "outputs": [
    {
     "name": "stdout",
     "output_type": "stream",
     "text": [
      "search: \u001b[0m\u001b[1mC\u001b[22m\u001b[0m\u001b[1ma\u001b[22m\u001b[0m\u001b[1mr\u001b[22m\u001b[0m\u001b[1mt\u001b[22m\u001b[0m\u001b[1me\u001b[22m\u001b[0m\u001b[1ms\u001b[22m\u001b[0m\u001b[1mi\u001b[22m\u001b[0m\u001b[1ma\u001b[22m\u001b[0m\u001b[1mn\u001b[22m\u001b[0m\u001b[1mI\u001b[22m\u001b[0m\u001b[1mn\u001b[22m\u001b[0m\u001b[1md\u001b[22m\u001b[0m\u001b[1me\u001b[22m\u001b[0m\u001b[1mx\u001b[22m \u001b[0m\u001b[1mC\u001b[22m\u001b[0m\u001b[1ma\u001b[22m\u001b[0m\u001b[1mr\u001b[22m\u001b[0m\u001b[1mt\u001b[22m\u001b[0m\u001b[1me\u001b[22m\u001b[0m\u001b[1ms\u001b[22m\u001b[0m\u001b[1mi\u001b[22m\u001b[0m\u001b[1ma\u001b[22m\u001b[0m\u001b[1mn\u001b[22m\u001b[0m\u001b[1mI\u001b[22m\u001b[0m\u001b[1mn\u001b[22m\u001b[0m\u001b[1md\u001b[22mic\u001b[0m\u001b[1me\u001b[22ms\n",
      "\n"
     ]
    },
    {
     "data": {
      "text/latex": [
       "\\begin{verbatim}\n",
       "CartesianIndex(i, j, k...)   -> I\n",
       "CartesianIndex((i, j, k...)) -> I\n",
       "\\end{verbatim}\n",
       "Create a multidimensional index \\texttt{I}, which can be used for indexing a multidimensional array \\texttt{A}.  In particular, \\texttt{A[I]} is equivalent to \\texttt{A[i,j,k...]}.  One can freely mix integer and \\texttt{CartesianIndex} indices; for example, \\texttt{A[Ipre, i, Ipost]} (where \\texttt{Ipre} and \\texttt{Ipost} are \\texttt{CartesianIndex} indices and \\texttt{i} is an \\texttt{Int}) can be a useful expression when writing algorithms that work along a single dimension of an array of arbitrary dimensionality.\n",
       "\n",
       "A \\texttt{CartesianIndex} is sometimes produced by \\href{@ref}{\\texttt{eachindex}}, and always when iterating with an explicit \\href{@ref}{\\texttt{CartesianIndices}}.\n",
       "\n",
       "An \\texttt{I::CartesianIndex} is treated as a \"scalar\" (not a container) for \\texttt{broadcast}.   In order to iterate over the components of a \\texttt{CartesianIndex}, convert it to a tuple with \\texttt{Tuple(I)}.\n",
       "\n",
       "\\section{Examples}\n",
       "\\begin{verbatim}\n",
       "julia> A = reshape(Vector(1:16), (2, 2, 2, 2))\n",
       "2×2×2×2 Array{Int64, 4}:\n",
       "[:, :, 1, 1] =\n",
       " 1  3\n",
       " 2  4\n",
       "\n",
       "[:, :, 2, 1] =\n",
       " 5  7\n",
       " 6  8\n",
       "\n",
       "[:, :, 1, 2] =\n",
       "  9  11\n",
       " 10  12\n",
       "\n",
       "[:, :, 2, 2] =\n",
       " 13  15\n",
       " 14  16\n",
       "\n",
       "julia> A[CartesianIndex((1, 1, 1, 1))]\n",
       "1\n",
       "\n",
       "julia> A[CartesianIndex((1, 1, 1, 2))]\n",
       "9\n",
       "\n",
       "julia> A[CartesianIndex((1, 1, 2, 1))]\n",
       "5\n",
       "\\end{verbatim}\n",
       "\\begin{quote}\n",
       "\\textbf{compat}\n",
       "\n",
       "Julia 1.10\n",
       "\n",
       "Using a \\texttt{CartesianIndex} as a \"scalar\" for \\texttt{broadcast} requires Julia 1.10; in previous releases, use \\texttt{Ref(I)}.\n",
       "\n",
       "\\end{quote}\n"
      ],
      "text/markdown": [
       "```\n",
       "CartesianIndex(i, j, k...)   -> I\n",
       "CartesianIndex((i, j, k...)) -> I\n",
       "```\n",
       "\n",
       "Create a multidimensional index `I`, which can be used for indexing a multidimensional array `A`.  In particular, `A[I]` is equivalent to `A[i,j,k...]`.  One can freely mix integer and `CartesianIndex` indices; for example, `A[Ipre, i, Ipost]` (where `Ipre` and `Ipost` are `CartesianIndex` indices and `i` is an `Int`) can be a useful expression when writing algorithms that work along a single dimension of an array of arbitrary dimensionality.\n",
       "\n",
       "A `CartesianIndex` is sometimes produced by [`eachindex`](@ref), and always when iterating with an explicit [`CartesianIndices`](@ref).\n",
       "\n",
       "An `I::CartesianIndex` is treated as a \"scalar\" (not a container) for `broadcast`.   In order to iterate over the components of a `CartesianIndex`, convert it to a tuple with `Tuple(I)`.\n",
       "\n",
       "# Examples\n",
       "\n",
       "```jldoctest\n",
       "julia> A = reshape(Vector(1:16), (2, 2, 2, 2))\n",
       "2×2×2×2 Array{Int64, 4}:\n",
       "[:, :, 1, 1] =\n",
       " 1  3\n",
       " 2  4\n",
       "\n",
       "[:, :, 2, 1] =\n",
       " 5  7\n",
       " 6  8\n",
       "\n",
       "[:, :, 1, 2] =\n",
       "  9  11\n",
       " 10  12\n",
       "\n",
       "[:, :, 2, 2] =\n",
       " 13  15\n",
       " 14  16\n",
       "\n",
       "julia> A[CartesianIndex((1, 1, 1, 1))]\n",
       "1\n",
       "\n",
       "julia> A[CartesianIndex((1, 1, 1, 2))]\n",
       "9\n",
       "\n",
       "julia> A[CartesianIndex((1, 1, 2, 1))]\n",
       "5\n",
       "```\n",
       "\n",
       "!!! compat \"Julia 1.10\"\n",
       "    Using a `CartesianIndex` as a \"scalar\" for `broadcast` requires Julia 1.10; in previous releases, use `Ref(I)`.\n",
       "\n"
      ],
      "text/plain": [
       "\u001b[36m  CartesianIndex(i, j, k...)   -> I\u001b[39m\n",
       "\u001b[36m  CartesianIndex((i, j, k...)) -> I\u001b[39m\n",
       "\n",
       "  Create a multidimensional index \u001b[36mI\u001b[39m, which can be used for indexing a\n",
       "  multidimensional array \u001b[36mA\u001b[39m. In particular, \u001b[36mA[I]\u001b[39m is equivalent to \u001b[36mA[i,j,k...]\u001b[39m.\n",
       "  One can freely mix integer and \u001b[36mCartesianIndex\u001b[39m indices; for example, \u001b[36mA[Ipre,\n",
       "  i, Ipost]\u001b[39m (where \u001b[36mIpre\u001b[39m and \u001b[36mIpost\u001b[39m are \u001b[36mCartesianIndex\u001b[39m indices and \u001b[36mi\u001b[39m is an \u001b[36mInt\u001b[39m)\n",
       "  can be a useful expression when writing algorithms that work along a single\n",
       "  dimension of an array of arbitrary dimensionality.\n",
       "\n",
       "  A \u001b[36mCartesianIndex\u001b[39m is sometimes produced by \u001b[36meachindex\u001b[39m, and always when\n",
       "  iterating with an explicit \u001b[36mCartesianIndices\u001b[39m.\n",
       "\n",
       "  An \u001b[36mI::CartesianIndex\u001b[39m is treated as a \"scalar\" (not a container) for\n",
       "  \u001b[36mbroadcast\u001b[39m. In order to iterate over the components of a \u001b[36mCartesianIndex\u001b[39m,\n",
       "  convert it to a tuple with \u001b[36mTuple(I)\u001b[39m.\n",
       "\n",
       "\u001b[1m  Examples\u001b[22m\n",
       "\u001b[1m  ≡≡≡≡≡≡≡≡\u001b[22m\n",
       "\n",
       "\u001b[36m  julia> A = reshape(Vector(1:16), (2, 2, 2, 2))\u001b[39m\n",
       "\u001b[36m  2×2×2×2 Array{Int64, 4}:\u001b[39m\n",
       "\u001b[36m  [:, :, 1, 1] =\u001b[39m\n",
       "\u001b[36m   1  3\u001b[39m\n",
       "\u001b[36m   2  4\u001b[39m\n",
       "\u001b[36m  \u001b[39m\n",
       "\u001b[36m  [:, :, 2, 1] =\u001b[39m\n",
       "\u001b[36m   5  7\u001b[39m\n",
       "\u001b[36m   6  8\u001b[39m\n",
       "\u001b[36m  \u001b[39m\n",
       "\u001b[36m  [:, :, 1, 2] =\u001b[39m\n",
       "\u001b[36m    9  11\u001b[39m\n",
       "\u001b[36m   10  12\u001b[39m\n",
       "\u001b[36m  \u001b[39m\n",
       "\u001b[36m  [:, :, 2, 2] =\u001b[39m\n",
       "\u001b[36m   13  15\u001b[39m\n",
       "\u001b[36m   14  16\u001b[39m\n",
       "\u001b[36m  \u001b[39m\n",
       "\u001b[36m  julia> A[CartesianIndex((1, 1, 1, 1))]\u001b[39m\n",
       "\u001b[36m  1\u001b[39m\n",
       "\u001b[36m  \u001b[39m\n",
       "\u001b[36m  julia> A[CartesianIndex((1, 1, 1, 2))]\u001b[39m\n",
       "\u001b[36m  9\u001b[39m\n",
       "\u001b[36m  \u001b[39m\n",
       "\u001b[36m  julia> A[CartesianIndex((1, 1, 2, 1))]\u001b[39m\n",
       "\u001b[36m  5\u001b[39m\n",
       "\n",
       "\u001b[39m\u001b[1m  │ \u001b[22m\u001b[39m\u001b[1mJulia 1.10\u001b[22m\n",
       "\u001b[39m\u001b[1m  │\u001b[22m\n",
       "\u001b[39m\u001b[1m  │\u001b[22m  Using a \u001b[36mCartesianIndex\u001b[39m as a \"scalar\" for \u001b[36mbroadcast\u001b[39m requires Julia\n",
       "\u001b[39m\u001b[1m  │\u001b[22m  1.10; in previous releases, use \u001b[36mRef(I)\u001b[39m."
      ]
     },
     "execution_count": 125,
     "metadata": {},
     "output_type": "execute_result"
    }
   ],
   "source": [
    "?CartesianIndex"
   ]
  },
  {
   "cell_type": "code",
   "execution_count": 85,
   "id": "7a02961d-3631-47b2-957a-e68da044ffe9",
   "metadata": {},
   "outputs": [
    {
     "data": {
      "text/plain": [
       "r\"^[\\s#%!\\*]+$\""
      ]
     },
     "execution_count": 85,
     "metadata": {},
     "output_type": "execute_result"
    }
   ],
   "source": [
    "m.regex"
   ]
  },
  {
   "cell_type": "code",
   "execution_count": 52,
   "id": "661efe58-59d5-42e3-bc8b-bf152230cb52",
   "metadata": {},
   "outputs": [
    {
     "data": {
      "text/latex": [
       "\\section{- 名刺}\n",
       "池田 信次郎日新\n",
       "\n",
       "\\begin{itemize}\n",
       "\\item \\begin{itemize}\n",
       "\\item \\begin{itemize}\n",
       "\\item \\end{itemize}\n",
       "\\end{itemize}\n",
       "\\end{itemize}\n",
       "DSI成形機の輸送\n",
       "\n",
       "\\begin{figure}\n",
       "\\centering\n",
       "\\includegraphics{Files/Evernote%20Snapshot%2020170121%20200204.png}\n",
       "\\caption{}\n",
       "\\end{figure}\n",
       "\n",
       "\n"
      ],
      "text/markdown": [
       "# - 名刺\n",
       "\n",
       "池田 信次郎日新\n",
       "\n",
       "  *   *   *\n",
       "\n",
       "DSI成形機の輸送\n",
       "\n",
       "![](Files/Evernote%20Snapshot%2020170121%20200204.png)\n"
      ],
      "text/plain": [
       "\u001b[1m  - 名刺\u001b[22m\n",
       "\u001b[1m  ≡≡≡≡≡≡\u001b[22m\n",
       "\n",
       "  池田 信次郎日新\n",
       "\n",
       "    •  • •\n",
       "\n",
       "  DSI成形機の輸送\n",
       "\n",
       "  (Image: )"
      ]
     },
     "execution_count": 52,
     "metadata": {},
     "output_type": "execute_result"
    }
   ],
   "source": [
    "mytxt = md\"# \\- 名刺\n",
    "\n",
    "池田 信次郎日新\n",
    "\n",
    "* * *\n",
    "\n",
    "DSI成形機の輸送\n",
    "\n",
    "![](Files/Evernote%20Snapshot%2020170121%20200204.png)\""
   ]
  },
  {
   "cell_type": "code",
   "execution_count": 54,
   "id": "0c2901fa-57b8-4de3-b9d9-a7ee8cb96cbc",
   "metadata": {},
   "outputs": [
    {
     "data": {
      "text/plain": [
       "\"# - 名刺\\n\\n池田 信次郎日新\\n\\n  *   *   *\\n\\nDSI成形機の輸送\\n\\n![](Files/Evernote%20Snapshot%2020170121%20200204.png)\\n\""
      ]
     },
     "execution_count": 54,
     "metadata": {},
     "output_type": "execute_result"
    }
   ],
   "source": [
    "Markdown.plain(mytxt)"
   ]
  },
  {
   "cell_type": "code",
   "execution_count": null,
   "id": "6d10620b-6138-459e-ab67-d28bc2159849",
   "metadata": {},
   "outputs": [],
   "source": []
  }
 ],
 "metadata": {
  "kernelspec": {
   "display_name": "julia 1.10.2",
   "language": "julia",
   "name": "julia-1.10"
  },
  "language_info": {
   "file_extension": ".jl",
   "mimetype": "application/julia",
   "name": "julia",
   "version": "1.10.2"
  }
 },
 "nbformat": 4,
 "nbformat_minor": 5
}
