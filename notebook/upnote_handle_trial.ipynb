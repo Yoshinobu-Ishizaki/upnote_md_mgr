{
 "cells": [
  {
   "cell_type": "markdown",
   "metadata": {},
   "source": [
    "# Upnote Markdown Manager Trial"
   ]
  },
  {
   "cell_type": "markdown",
   "metadata": {},
   "source": [
    "## word splitting "
   ]
  },
  {
   "cell_type": "markdown",
   "metadata": {},
   "source": [
    "データフレームを作るところはjuliaで先に実行した。\n",
    "ここではデータフレームの文書からsudachipyにて構文解析をする。"
   ]
  },
  {
   "cell_type": "code",
   "execution_count": 1,
   "metadata": {},
   "outputs": [],
   "source": [
    "import polars as pl \n",
    "import sudachipy \n",
    "import os"
   ]
  },
  {
   "cell_type": "code",
   "execution_count": 2,
   "metadata": {},
   "outputs": [],
   "source": [
    "from sklearn.feature_extraction.text import TfidfVectorizer"
   ]
  },
  {
   "cell_type": "code",
   "execution_count": 66,
   "metadata": {},
   "outputs": [],
   "source": [
    "import numpy as np"
   ]
  },
  {
   "cell_type": "code",
   "execution_count": 3,
   "metadata": {},
   "outputs": [
    {
     "data": {
      "text/plain": [
       "'d:\\\\develop\\\\upnote_md_mgr\\\\notebook'"
      ]
     },
     "execution_count": 3,
     "metadata": {},
     "output_type": "execute_result"
    }
   ],
   "source": [
    "os.getcwd()"
   ]
  },
  {
   "cell_type": "code",
   "execution_count": 4,
   "metadata": {},
   "outputs": [],
   "source": [
    "dfm = pl.read_csv(\"../data/upnote_text.csv\")"
   ]
  },
  {
   "cell_type": "code",
   "execution_count": 5,
   "metadata": {},
   "outputs": [
    {
     "data": {
      "text/html": [
       "<div><style>\n",
       ".dataframe > thead > tr,\n",
       ".dataframe > tbody > tr {\n",
       "  text-align: right;\n",
       "  white-space: pre-wrap;\n",
       "}\n",
       "</style>\n",
       "<small>shape: (9, 8)</small><table border=\"1\" class=\"dataframe\"><thead><tr><th>statistic</th><th>id</th><th>fpath</th><th>update</th><th>created</th><th>category</th><th>tags</th><th>contents</th></tr><tr><td>str</td><td>str</td><td>str</td><td>str</td><td>str</td><td>str</td><td>str</td><td>str</td></tr></thead><tbody><tr><td>&quot;count&quot;</td><td>&quot;24673&quot;</td><td>&quot;24673&quot;</td><td>&quot;24673&quot;</td><td>&quot;24673&quot;</td><td>&quot;24673&quot;</td><td>&quot;10466&quot;</td><td>&quot;24673&quot;</td></tr><tr><td>&quot;null_count&quot;</td><td>&quot;0&quot;</td><td>&quot;0&quot;</td><td>&quot;0&quot;</td><td>&quot;0&quot;</td><td>&quot;0&quot;</td><td>&quot;14207&quot;</td><td>&quot;0&quot;</td></tr><tr><td>&quot;mean&quot;</td><td>null</td><td>null</td><td>null</td><td>null</td><td>null</td><td>null</td><td>null</td></tr><tr><td>&quot;std&quot;</td><td>null</td><td>null</td><td>null</td><td>null</td><td>null</td><td>null</td><td>null</td></tr><tr><td>&quot;min&quot;</td><td>&quot;000016e673d85d…</td><td>&quot;- 名刺.md&quot;</td><td>&quot;2009-10-20T17:…</td><td>&quot;2009-10-20T17:…</td><td>&quot;0_業務&quot;</td><td>&quot;18の参加者|唄口リガチャー…</td><td>&quot;\n",
       "&quot;Trompeten, P…</td></tr><tr><td>&quot;25%&quot;</td><td>null</td><td>null</td><td>null</td><td>null</td><td>null</td><td>null</td><td>null</td></tr><tr><td>&quot;50%&quot;</td><td>null</td><td>null</td><td>null</td><td>null</td><td>null</td><td>null</td><td>null</td></tr><tr><td>&quot;75%&quot;</td><td>null</td><td>null</td><td>null</td><td>null</td><td>null</td><td>null</td><td>null</td></tr><tr><td>&quot;max&quot;</td><td>&quot;fff5a64a0679e1…</td><td>&quot;ﾕcon.md&quot;</td><td>&quot;2024-03-06T22:…</td><td>&quot;2024-03-06T22:…</td><td>&quot;本&quot;</td><td>&quot;音響&quot;</td><td>&quot;\n",
       "ﾕcon\n",
       "\n",
       "って何だ？\n",
       "\n",
       "…</td></tr></tbody></table></div>"
      ],
      "text/plain": [
       "shape: (9, 8)\n",
       "┌────────────┬────────────┬───────────┬────────────┬────────────┬──────────┬───────────┬───────────┐\n",
       "│ statistic  ┆ id         ┆ fpath     ┆ update     ┆ created    ┆ category ┆ tags      ┆ contents  │\n",
       "│ ---        ┆ ---        ┆ ---       ┆ ---        ┆ ---        ┆ ---      ┆ ---       ┆ ---       │\n",
       "│ str        ┆ str        ┆ str       ┆ str        ┆ str        ┆ str      ┆ str       ┆ str       │\n",
       "╞════════════╪════════════╪═══════════╪════════════╪════════════╪══════════╪═══════════╪═══════════╡\n",
       "│ count      ┆ 24673      ┆ 24673     ┆ 24673      ┆ 24673      ┆ 24673    ┆ 10466     ┆ 24673     │\n",
       "│ null_count ┆ 0          ┆ 0         ┆ 0          ┆ 0          ┆ 0        ┆ 14207     ┆ 0         │\n",
       "│ mean       ┆ null       ┆ null      ┆ null       ┆ null       ┆ null     ┆ null      ┆ null      │\n",
       "│ std        ┆ null       ┆ null      ┆ null       ┆ null       ┆ null     ┆ null      ┆ null      │\n",
       "│ min        ┆ 000016e673 ┆ - 名刺.md ┆ 2009-10-20 ┆ 2009-10-20 ┆ 0_業務   ┆ 18の参加  ┆           │\n",
       "│            ┆ d85d32ac1e ┆           ┆ T17:10:13. ┆ T17:10:03. ┆          ┆ 者|唄口リ ┆ \"Trompete │\n",
       "│            ┆ f7ab5a2f8f ┆           ┆ 0          ┆ 0          ┆          ┆ ガチャー  ┆ n,        │\n",
       "│            ┆ 79…        ┆           ┆            ┆            ┆          ┆           ┆ Posaunen  │\n",
       "│            ┆            ┆           ┆            ┆            ┆          ┆           ┆ und       │\n",
       "│            ┆            ┆           ┆            ┆            ┆          ┆           ┆ Hörner…   │\n",
       "│ 25%        ┆ null       ┆ null      ┆ null       ┆ null       ┆ null     ┆ null      ┆ null      │\n",
       "│ 50%        ┆ null       ┆ null      ┆ null       ┆ null       ┆ null     ┆ null      ┆ null      │\n",
       "│ 75%        ┆ null       ┆ null      ┆ null       ┆ null       ┆ null     ┆ null      ┆ null      │\n",
       "│ max        ┆ fff5a64a06 ┆ ﾕcon.md   ┆ 2024-03-06 ┆ 2024-03-06 ┆ 本       ┆ 音響      ┆           │\n",
       "│            ┆ 79e1c42fea ┆           ┆ T22:03:39. ┆ T22:03:21. ┆          ┆           ┆ ﾕcon      │\n",
       "│            ┆ 83fceacb8d ┆           ┆ 0          ┆ 0          ┆          ┆           ┆           │\n",
       "│            ┆ fe…        ┆           ┆            ┆            ┆          ┆           ┆ って何だ  │\n",
       "│            ┆            ┆           ┆            ┆            ┆          ┆           ┆ ？        │\n",
       "│            ┆            ┆           ┆            ┆            ┆          ┆           ┆           │\n",
       "│            ┆            ┆           ┆            ┆            ┆          ┆           ┆           │\n",
       "│            ┆            ┆           ┆            ┆            ┆          ┆           ┆           │\n",
       "│            ┆            ┆           ┆            ┆            ┆          ┆           ┆ Windowsの │\n",
       "│            ┆            ┆           ┆            ┆            ┆          ┆           ┆ エクスプ  │\n",
       "│            ┆            ┆           ┆            ┆            ┆          ┆           ┆ ローラー… │\n",
       "└────────────┴────────────┴───────────┴────────────┴────────────┴──────────┴───────────┴───────────┘"
      ]
     },
     "execution_count": 5,
     "metadata": {},
     "output_type": "execute_result"
    }
   ],
   "source": [
    "dfm.describe()"
   ]
  },
  {
   "cell_type": "markdown",
   "metadata": {},
   "source": [
    "HR872関連のデータのみに絞る。"
   ]
  },
  {
   "cell_type": "code",
   "execution_count": 6,
   "metadata": {},
   "outputs": [],
   "source": [
    "dfm872 = dfm.filter(pl.col(\"tags\") == \"HR872\")"
   ]
  },
  {
   "cell_type": "code",
   "execution_count": 7,
   "metadata": {},
   "outputs": [
    {
     "data": {
      "text/html": [
       "<div><style>\n",
       ".dataframe > thead > tr,\n",
       ".dataframe > tbody > tr {\n",
       "  text-align: right;\n",
       "  white-space: pre-wrap;\n",
       "}\n",
       "</style>\n",
       "<small>shape: (135, 7)</small><table border=\"1\" class=\"dataframe\"><thead><tr><th>id</th><th>fpath</th><th>update</th><th>created</th><th>category</th><th>tags</th><th>contents</th></tr><tr><td>str</td><td>str</td><td>str</td><td>str</td><td>str</td><td>str</td><td>str</td></tr></thead><tbody><tr><td>&quot;7d73c75ded161f…</td><td>&quot;300Wモーター.md&quot;</td><td>&quot;2022-07-14T08:…</td><td>&quot;2022-07-14T08:…</td><td>&quot;仕事_Evernote&quot;</td><td>&quot;HR872&quot;</td><td>&quot;\n",
       "300Wモーター\n",
       "\n",
       "金子ツ…</td></tr><tr><td>&quot;55203fbd2731bd…</td><td>&quot;HR 吹込管 口拡げ.md&quot;</td><td>&quot;2022-11-01T15:…</td><td>&quot;2022-11-01T15:…</td><td>&quot;仕事_Evernote&quot;</td><td>&quot;HR872&quot;</td><td>&quot;\n",
       "HR 吹込管 口拡げ\n",
       "\n",
       "ど…</td></tr><tr><td>&quot;8af8d31fb6fc3d…</td><td>&quot;HR-672 吹込管.md&quot;</td><td>&quot;2022-07-26T09:…</td><td>&quot;2022-07-26T09:…</td><td>&quot;仕事_Evernote&quot;</td><td>&quot;HR872&quot;</td><td>&quot;\n",
       "HR-672 吹込管\n",
       "\n",
       "口…</td></tr><tr><td>&quot;d19c050d6b9a7d…</td><td>&quot;HR-672D ベルスクリュ…</td><td>&quot;2022-06-13T08:…</td><td>&quot;2022-06-13T08:…</td><td>&quot;仕事_Evernote&quot;</td><td>&quot;HR872&quot;</td><td>&quot;\n",
       "HR-672D ベルスクリ…</td></tr><tr><td>&quot;cd3473406e90d8…</td><td>&quot;HR-872 吹込管 2.m…</td><td>&quot;2022-08-02T10:…</td><td>&quot;2022-08-02T09:…</td><td>&quot;仕事_Evernote&quot;</td><td>&quot;HR872&quot;</td><td>&quot;\n",
       "HR-872 吹込管\n",
       "\n",
       "三…</td></tr><tr><td>&hellip;</td><td>&hellip;</td><td>&hellip;</td><td>&hellip;</td><td>&hellip;</td><td>&hellip;</td><td>&hellip;</td></tr><tr><td>&quot;b9a76854d102fc…</td><td>&quot;管体+レバー支持台2 半田付…</td><td>&quot;2022-10-28T16:…</td><td>&quot;2022-10-28T16:…</td><td>&quot;仕事_Evernote&quot;</td><td>&quot;HR872&quot;</td><td>&quot;\n",
       "管体+レバー支持台2 半田…</td></tr><tr><td>&quot;cfe67cd7224278…</td><td>&quot;管体組立 9.md&quot;</td><td>&quot;2022-10-26T20:…</td><td>&quot;2022-10-26T20:…</td><td>&quot;仕事_Evernote&quot;</td><td>&quot;HR872&quot;</td><td>&quot;\n",
       "管体組立\n",
       "\n",
       "46班に行った…</td></tr><tr><td>&quot;d5b76910f66938…</td><td>&quot;設備手配表確認 2.md&quot;</td><td>&quot;2022-03-24T09:…</td><td>&quot;2022-03-24T09:…</td><td>&quot;仕事_Evernote&quot;</td><td>&quot;HR872&quot;</td><td>&quot;\n",
       "設備手配表確認\n",
       "\n",
       "原さんか…</td></tr><tr><td>&quot;03cc15ab51f443…</td><td>&quot;設備手配表確認.md&quot;</td><td>&quot;2022-04-11T09:…</td><td>&quot;2022-04-11T08:…</td><td>&quot;仕事_Evernote&quot;</td><td>&quot;HR872&quot;</td><td>&quot;\n",
       "設備手配表確認\n",
       "\n",
       "1点づつ…</td></tr><tr><td>&quot;876cd1fe633e4c…</td><td>&quot;設備手配表金額確認.md&quot;</td><td>&quot;2022-04-08T23:…</td><td>&quot;2022-04-08T23:…</td><td>&quot;仕事_Evernote&quot;</td><td>&quot;HR872&quot;</td><td>&quot;\n",
       "設備手配表金額確認\n",
       "\n",
       "今日…</td></tr></tbody></table></div>"
      ],
      "text/plain": [
       "shape: (135, 7)\n",
       "┌───────────────┬──────────────┬──────────────┬──────────────┬──────────────┬───────┬──────────────┐\n",
       "│ id            ┆ fpath        ┆ update       ┆ created      ┆ category     ┆ tags  ┆ contents     │\n",
       "│ ---           ┆ ---          ┆ ---          ┆ ---          ┆ ---          ┆ ---   ┆ ---          │\n",
       "│ str           ┆ str          ┆ str          ┆ str          ┆ str          ┆ str   ┆ str          │\n",
       "╞═══════════════╪══════════════╪══════════════╪══════════════╪══════════════╪═══════╪══════════════╡\n",
       "│ 7d73c75ded161 ┆ 300Wモーター ┆ 2022-07-14T0 ┆ 2022-07-14T0 ┆ 仕事_Evernot ┆ HR872 ┆              │\n",
       "│ fe5c32851f762 ┆ .md          ┆ 8:07:39.0    ┆ 8:07:55.0    ┆ e            ┆       ┆ 300Wモーター │\n",
       "│ 2b56be…       ┆              ┆              ┆              ┆              ┆       ┆              │\n",
       "│               ┆              ┆              ┆              ┆              ┆       ┆ 金子ツールか │\n",
       "│               ┆              ┆              ┆              ┆              ┆       ┆ らモーターの │\n",
       "│               ┆              ┆              ┆              ┆              ┆       ┆ 見積来た。発 │\n",
       "│               ┆              ┆              ┆              ┆              ┆       ┆ 注は、…      │\n",
       "│ 55203fbd2731b ┆ HR 吹込管    ┆ 2022-11-01T1 ┆ 2022-11-01T1 ┆ 仕事_Evernot ┆ HR872 ┆              │\n",
       "│ d4728a9dbf41f ┆ 口拡げ.md    ┆ 5:11:32.0    ┆ 5:11:51.0    ┆ e            ┆       ┆ HR 吹込管    │\n",
       "│ c3162c…       ┆              ┆              ┆              ┆              ┆       ┆ 口拡げ       │\n",
       "│               ┆              ┆              ┆              ┆              ┆       ┆              │\n",
       "│               ┆              ┆              ┆              ┆              ┆       ┆ どうもサンエ │\n",
       "│               ┆              ┆              ┆              ┆              ┆       ┆ イトは本当に │\n",
       "│               ┆              ┆              ┆              ┆              ┆       ┆ 自力で口拡げ │\n",
       "│               ┆              ┆              ┆              ┆              ┆       ┆ 機…          │\n",
       "│ 8af8d31fb6fc3 ┆ HR-672       ┆ 2022-07-26T0 ┆ 2022-07-26T0 ┆ 仕事_Evernot ┆ HR872 ┆              │\n",
       "│ d26b17443b509 ┆ 吹込管.md    ┆ 9:07:08.0    ┆ 9:07:43.0    ┆ e            ┆       ┆ HR-672       │\n",
       "│ 7dbc19…       ┆              ┆              ┆              ┆              ┆       ┆ 吹込管       │\n",
       "│               ┆              ┆              ┆              ┆              ┆       ┆              │\n",
       "│               ┆              ┆              ┆              ┆              ┆       ┆ 口拡げ機のワ │\n",
       "│               ┆              ┆              ┆              ┆              ┆       ┆ ークベース、 │\n",
       "│               ┆              ┆              ┆              ┆              ┆       ┆ 既存の図面に │\n",
       "│               ┆              ┆              ┆              ┆              ┆       ┆ ス…          │\n",
       "│ d19c050d6b9a7 ┆ HR-672D ベル ┆ 2022-06-13T0 ┆ 2022-06-13T0 ┆ 仕事_Evernot ┆ HR872 ┆              │\n",
       "│ dcbfd19126fc5 ┆ スクリュー.m ┆ 8:06:09.0    ┆ 8:06:52.0    ┆ e            ┆       ┆ HR-672D ベル │\n",
       "│ 00fb2d…       ┆ d            ┆              ┆              ┆              ┆       ┆ スクリュー   │\n",
       "│               ┆              ┆              ┆              ┆              ┆       ┆              │\n",
       "│               ┆              ┆              ┆              ┆              ┆       ┆ HR-668D-2の  │\n",
       "│               ┆              ┆              ┆              ┆              ┆       ┆ 名前で作…    │\n",
       "│ cd3473406e90d ┆ HR-872       ┆ 2022-08-02T1 ┆ 2022-08-02T0 ┆ 仕事_Evernot ┆ HR872 ┆              │\n",
       "│ 8c7941561d960 ┆ 吹込管 2.md  ┆ 0:08:14.0    ┆ 9:08:05.0    ┆ e            ┆       ┆ HR-872       │\n",
       "│ d63f0f…       ┆              ┆              ┆              ┆              ┆       ┆ 吹込管       │\n",
       "│               ┆              ┆              ┆              ┆              ┆       ┆              │\n",
       "│               ┆              ┆              ┆              ┆              ┆       ┆ 三宅氏の寸切 │\n",
       "│               ┆              ┆              ┆              ┆              ┆       ┆ り治具の検図 │\n",
       "│               ┆              ┆              ┆              ┆              ┆       ┆ 。           │\n",
       "│               ┆              ┆              ┆              ┆              ┆       ┆              │\n",
       "│               ┆              ┆              ┆              ┆              ┆       ┆ 組図・部…    │\n",
       "│ …             ┆ …            ┆ …            ┆ …            ┆ …            ┆ …     ┆ …            │\n",
       "│ b9a76854d102f ┆ 管体+レバー  ┆ 2022-10-28T1 ┆ 2022-10-28T1 ┆ 仕事_Evernot ┆ HR872 ┆              │\n",
       "│ cad952b24e05b ┆ 支持台2 半田 ┆ 6:10:39.0    ┆ 6:10:32.0    ┆ e            ┆       ┆ 管体+レバー  │\n",
       "│ 8e95ce…       ┆ 付け治具.md  ┆              ┆              ┆              ┆       ┆ 支持台2      │\n",
       "│               ┆              ┆              ┆              ┆              ┆       ┆ 半田付け治具 │\n",
       "│               ┆              ┆              ┆              ┆              ┆       ┆              │\n",
       "│               ┆              ┆              ┆              ┆              ┆       ┆ 三宅氏の製図 │\n",
       "│               ┆              ┆              ┆              ┆              ┆       ┆ 検図。       │\n",
       "│               ┆              ┆              ┆              ┆              ┆       ┆              │\n",
       "│               ┆              ┆              ┆              ┆              ┆       ┆              │\n",
       "│               ┆              ┆              ┆              ┆              ┆       ┆ …            │\n",
       "│ cfe67cd722427 ┆ 管体組立     ┆ 2022-10-26T2 ┆ 2022-10-26T2 ┆ 仕事_Evernot ┆ HR872 ┆              │\n",
       "│ 8812dfa510c6b ┆ 9.md         ┆ 0:10:31.0    ┆ 0:10:24.0    ┆ e            ┆       ┆ 管体組立     │\n",
       "│ d9eb8d…       ┆              ┆              ┆              ┆              ┆       ┆              │\n",
       "│               ┆              ┆              ┆              ┆              ┆       ┆ 46班に行った │\n",
       "│               ┆              ┆              ┆              ┆              ┆       ┆ ら、吹込管に │\n",
       "│               ┆              ┆              ┆              ┆              ┆       ┆ 唾抜き孔明け │\n",
       "│               ┆              ┆              ┆              ┆              ┆       ┆ 忘れってこと │\n",
       "│               ┆              ┆              ┆              ┆              ┆       ┆ …            │\n",
       "│ d5b76910f6693 ┆ 設備手配表確 ┆ 2022-03-24T0 ┆ 2022-03-24T0 ┆ 仕事_Evernot ┆ HR872 ┆              │\n",
       "│ 825de49b99015 ┆ 認 2.md      ┆ 9:03:13.0    ┆ 9:03:11.0    ┆ e            ┆       ┆ 設備手配表確 │\n",
       "│ 67c8d7…       ┆              ┆              ┆              ┆              ┆       ┆ 認           │\n",
       "│               ┆              ┆              ┆              ┆              ┆       ┆              │\n",
       "│               ┆              ┆              ┆              ┆              ┆       ┆ 原さんからの │\n",
       "│               ┆              ┆              ┆              ┆              ┆       ┆ メールを元に │\n",
       "│               ┆              ┆              ┆              ┆              ┆       ┆ 、設備内容を │\n",
       "│               ┆              ┆              ┆              ┆              ┆       ┆ 軽く確認…    │\n",
       "│ 03cc15ab51f44 ┆ 設備手配表確 ┆ 2022-04-11T0 ┆ 2022-04-11T0 ┆ 仕事_Evernot ┆ HR872 ┆              │\n",
       "│ 3cd0c406603e4 ┆ 認.md        ┆ 9:04:58.0    ┆ 8:04:07.0    ┆ e            ┆       ┆ 設備手配表確 │\n",
       "│ 65e31f…       ┆              ┆              ┆              ┆              ┆       ┆ 認           │\n",
       "│               ┆              ┆              ┆              ┆              ┆       ┆              │\n",
       "│               ┆              ┆              ┆              ┆              ┆       ┆ 1点づつ、三  │\n",
       "│               ┆              ┆              ┆              ┆              ┆       ┆ 宅氏作成の手 │\n",
       "│               ┆              ┆              ┆              ┆              ┆       ┆ 配表を確認。 │\n",
       "│               ┆              ┆              ┆              ┆              ┆       ┆              │\n",
       "│               ┆              ┆              ┆              ┆              ┆       ┆              │\n",
       "│               ┆              ┆              ┆              ┆              ┆       ┆              │\n",
       "│               ┆              ┆              ┆              ┆              ┆       ┆ …            │\n",
       "│ 876cd1fe633e4 ┆ 設備手配表金 ┆ 2022-04-08T2 ┆ 2022-04-08T2 ┆ 仕事_Evernot ┆ HR872 ┆              │\n",
       "│ cdce20c419817 ┆ 額確認.md    ┆ 3:04:00.0    ┆ 3:04:30.0    ┆ e            ┆       ┆ 設備手配表金 │\n",
       "│ 82ba77…       ┆              ┆              ┆              ┆              ┆       ┆ 額確認       │\n",
       "│               ┆              ┆              ┆              ┆              ┆       ┆              │\n",
       "│               ┆              ┆              ┆              ┆              ┆       ┆ 今日AMにやる │\n",
       "│               ┆              ┆              ┆              ┆              ┆       ┆ つもりだった │\n",
       "│               ┆              ┆              ┆              ┆              ┆       ┆ のに、結局あ │\n",
       "│               ┆              ┆              ┆              ┆              ┆       ┆ れ…          │\n",
       "└───────────────┴──────────────┴──────────────┴──────────────┴──────────────┴───────┴──────────────┘"
      ]
     },
     "execution_count": 7,
     "metadata": {},
     "output_type": "execute_result"
    }
   ],
   "source": [
    "dfm872"
   ]
  },
  {
   "cell_type": "code",
   "execution_count": 8,
   "metadata": {},
   "outputs": [
    {
     "data": {
      "text/plain": [
       "'\\nHR-872 管体組立\\n\\n三宅氏の治具検図。\\n\\n駄目だ。まだまだだ。\\n\\n\\n\\n吹込管の入口テーパーが合ってないとか、ボルトのバランスが悪い、ブロック重そうなのにアルミでない、総形状受けやっている、\\n\\n668用の治具を修正するのに、昔の修正と同じ修正番号使っている、等々。\\n\\n\\n\\n\\n\\n\\n'"
      ]
     },
     "execution_count": 8,
     "metadata": {},
     "output_type": "execute_result"
    }
   ],
   "source": [
    "dfm872[6,\"contents\"]"
   ]
  },
  {
   "cell_type": "markdown",
   "metadata": {},
   "source": [
    "sudachiによる構文解析をトライ。\n",
    "ユーザー辞書を読み込めるように予め設定済。"
   ]
  },
  {
   "cell_type": "code",
   "execution_count": 9,
   "metadata": {},
   "outputs": [],
   "source": [
    "# dict = sudachipy.Dictionary(config_path=\"../sudachi/sudachi.json\")\n",
    "dict = sudachipy.Dictionary()"
   ]
  },
  {
   "cell_type": "code",
   "execution_count": 10,
   "metadata": {},
   "outputs": [],
   "source": [
    "tokenizer = dict.create()"
   ]
  },
  {
   "cell_type": "code",
   "execution_count": 11,
   "metadata": {},
   "outputs": [],
   "source": [
    "tokens1 = tokenizer.tokenize(dfm872[6,\"contents\"])"
   ]
  },
  {
   "cell_type": "code",
   "execution_count": 12,
   "metadata": {},
   "outputs": [
    {
     "name": "stdout",
     "output_type": "stream",
     "text": [
      "HR 872 管体 組み立て 三宅 治具 検図 駄目 吹込 管 入り口 テーパー 合う ボルト バランス 悪い ブロック 重い アルミ 無い 形状 受ける 遣る 居る 668 治具 修正 為る 昔 修正 修正 番号 使う 居る "
     ]
    }
   ],
   "source": [
    "for t in tokens1:\n",
    "    if t.part_of_speech()[0] in [\"名詞\",\"形容詞\",\"動詞\"]:\n",
    "        w = t.surface()\n",
    "        n = t.normalized_form()\n",
    "        if not w.isspace():\n",
    "            if len(n) > 0:\n",
    "                print(n, end=\" \") "
   ]
  },
  {
   "cell_type": "markdown",
   "metadata": {},
   "source": [
    "キーワードを以下の手順で正規化されたスペース区切りの文に変換する。\n",
    "- ユニコード文字列として正規化(全角英数は半角へ、半角カナなどは全角へ)\n",
    "- 英数字は小文字化\n",
    "- 図番に相当するas-j-99999の形のコードをasj99999型に変換\n",
    "- sudachiで分かち書き\n",
    "- 名詞・形容詞・動詞のみを抽出\n",
    "- 正規化トークンに変換"
   ]
  },
  {
   "cell_type": "code",
   "execution_count": 13,
   "metadata": {},
   "outputs": [],
   "source": [
    "import unicodedata\n",
    "import re"
   ]
  },
  {
   "cell_type": "markdown",
   "metadata": {},
   "source": [
    "一連の変換を関数にして、それを各行のデータに適用する。"
   ]
  },
  {
   "cell_type": "code",
   "execution_count": 24,
   "metadata": {},
   "outputs": [],
   "source": [
    "def strtrans(s):\n",
    "    tokens = [] # normalized token\n",
    "    s1 = unicodedata.normalize(\"NFKC\",s).lower()\n",
    "    s2 = re.sub(r\"([a-z]{2})-([djm])-([0-9]{4,5})\", r\"\\1\\2\\3\",s1) # replace drawing number\n",
    "    tkn = tokenizer.tokenize(s2)\n",
    "    for t in tkn:\n",
    "        w = t.surface()\n",
    "        if not w.isspace():\n",
    "            if t.part_of_speech()[0] in [\"名詞\",\"形容詞\",\"動詞\"]:\n",
    "                n = t.normalized_form()\n",
    "                tokens.append(n)\n",
    "    \n",
    "    return (tokens)\n",
    "\n"
   ]
  },
  {
   "cell_type": "code",
   "execution_count": 25,
   "metadata": {},
   "outputs": [],
   "source": [
    "def strtrans1(s):\n",
    "    return(\" \".join(strtrans(s)))"
   ]
  },
  {
   "cell_type": "code",
   "execution_count": 26,
   "metadata": {},
   "outputs": [
    {
     "data": {
      "text/plain": [
       "'HR 吹込 管 口 広げる サンエイト 本当 自力 口 広げる 機 設置 為る よる HR 869 吹込 管 生産 ロット 入荷 為る 三宅 原 一緒 確認 以前 ロット 先端 口 広げる 為る 気配 無い こと 後 サンエイト 行く 確認 為る 設置 写真 取る'"
      ]
     },
     "execution_count": 26,
     "metadata": {},
     "output_type": "execute_result"
    }
   ],
   "source": [
    "strtrans1(dfm872[1,\"contents\"])"
   ]
  },
  {
   "cell_type": "markdown",
   "metadata": {},
   "source": [
    "データフレームに対してまとめて実行する"
   ]
  },
  {
   "cell_type": "code",
   "execution_count": 27,
   "metadata": {},
   "outputs": [],
   "source": [
    "dfm872b = dfm872.with_columns([\n",
    "    pl.col(\"contents\").map_elements(strtrans).alias(\"tokens\")\n",
    "])"
   ]
  },
  {
   "cell_type": "code",
   "execution_count": 28,
   "metadata": {},
   "outputs": [
    {
     "data": {
      "text/plain": [
       "'HR 672 吹込 管 口 広げる 治具 納品 納品書 佐藤 治具 資料室 files img 0013 jpg files img 0014 jpg'"
      ]
     },
     "execution_count": 28,
     "metadata": {},
     "output_type": "execute_result"
    }
   ],
   "source": [
    "dfm872b[10,\"tokens\"]"
   ]
  },
  {
   "cell_type": "markdown",
   "metadata": {},
   "source": [
    "全データフレームへの適用。\n",
    "入力バイトが長すぎるというエラーが出るので、関数を改良する必要がある。"
   ]
  },
  {
   "cell_type": "code",
   "execution_count": 29,
   "metadata": {},
   "outputs": [],
   "source": [
    "def strtrans2(s):\n",
    "    tokens = []\n",
    "    if len(s) > 2**14 -1:\n",
    "        ss = s.split(\"\\n\")\n",
    "        for sl in ss:\n",
    "            tk =  strtrans(sl) \n",
    "            tokens = tokens + tk\n",
    "    else:\n",
    "        tokens = strtrans(s)\n",
    "\n",
    "    return (\" \".join(tokens))\n",
    "\n"
   ]
  },
  {
   "cell_type": "code",
   "execution_count": 30,
   "metadata": {},
   "outputs": [],
   "source": [
    "dfm2 = dfm.with_columns([\n",
    "    pl.col(\"contents\").map_elements(strtrans2).alias(\"tokens\")\n",
    "])"
   ]
  },
  {
   "cell_type": "code",
   "execution_count": null,
   "metadata": {},
   "outputs": [],
   "source": []
  },
  {
   "cell_type": "markdown",
   "metadata": {},
   "source": [
    "## ginza, spacy"
   ]
  },
  {
   "cell_type": "code",
   "execution_count": 31,
   "metadata": {},
   "outputs": [],
   "source": [
    "import spacy"
   ]
  },
  {
   "cell_type": "code",
   "execution_count": 32,
   "metadata": {},
   "outputs": [],
   "source": [
    "nlp = spacy.load('ja_ginza')"
   ]
  },
  {
   "cell_type": "code",
   "execution_count": 33,
   "metadata": {},
   "outputs": [],
   "source": [
    "doc = nlp(dfm872[6,\"contents\"])\n"
   ]
  },
  {
   "cell_type": "code",
   "execution_count": 34,
   "metadata": {},
   "outputs": [
    {
     "name": "stdout",
     "output_type": "stream",
     "text": [
      "\n",
      "|HR|-|872|管体|組立|\n",
      "\n",
      "|三宅|氏|の|治具|検図|。|\n",
      "\n",
      "|駄目|だ|。|まだまだ|だ|。|\n",
      "\n",
      "\n",
      "\n",
      "|吹込|管|の|入口|テーパー|が|合っ|て|ない|と|か|、|ボルト|の|バランス|が|悪い|、|ブロック|重|そう|な|の|に|アルミ|で|ない|、|総|形状|受け|やっ|て|いる|、|\n",
      "\n",
      "|668|用|の|治具|を|修正|する|の|に|、|昔|の|修正|と|同じ|修正|番号|使っ|て|いる|、|等々|。|\n",
      "\n",
      "\n",
      "\n",
      "\n",
      "\n",
      "\n",
      "|"
     ]
    }
   ],
   "source": [
    "for sent in doc.sents:\n",
    "    for token in sent:\n",
    "        print(token.text, end = \"|\")"
   ]
  },
  {
   "cell_type": "code",
   "execution_count": 35,
   "metadata": {},
   "outputs": [],
   "source": [
    "doc2 = nlp(dfm872[16,\"contents\"])\n"
   ]
  },
  {
   "cell_type": "code",
   "execution_count": null,
   "metadata": {},
   "outputs": [
    {
     "data": {
      "text/plain": [
       "\n",
       "HR672 吹込管 口拡げ\n",
       "\n",
       "三宅氏の採寸結果を元に寸法調整。\n",
       "\n",
       "曲げモーメントについて検討。A2017とA5052でヤング率に大きな違いがないので、円板の材料はA5052を採用することにした。\n",
       "\n",
       "円板の曲げモーメントだが、応力と共に1/(1-v^2) (vはポワソン比)となるだけで、モーメントと応力との関係は直線梁と同じ関係(sigma = M/Z)になるので、\n",
       "\n",
       "その曲がりにくさは、断面係数に依存するだけとなる。\n",
       "\n",
       "\n",
       "\n",
       "3Dの詳細設計、ほぼ終了。既存機械との整合性もほぼ取れているのではないか?\n",
       "\n",
       "\n",
       "\n",
       "\n",
       "\n"
      ]
     },
     "metadata": {},
     "output_type": "display_data"
    }
   ],
   "source": [
    "doc2"
   ]
  },
  {
   "cell_type": "code",
   "execution_count": 37,
   "metadata": {},
   "outputs": [
    {
     "data": {
      "text/plain": [
       "0.9404588760527862"
      ]
     },
     "execution_count": 37,
     "metadata": {},
     "output_type": "execute_result"
    }
   ],
   "source": [
    "doc.similarity(doc2)"
   ]
  },
  {
   "cell_type": "markdown",
   "metadata": {},
   "source": [
    "名詞句と形容詞句のみ取り出す。"
   ]
  },
  {
   "cell_type": "code",
   "execution_count": 38,
   "metadata": {},
   "outputs": [],
   "source": [
    "doc3 = nlp(\"AS875EXの吹込管の大きな管引き芯金\")"
   ]
  },
  {
   "cell_type": "code",
   "execution_count": 39,
   "metadata": {},
   "outputs": [
    {
     "data": {
      "text/plain": [
       "0.7587171220219052"
      ]
     },
     "execution_count": 39,
     "metadata": {},
     "output_type": "execute_result"
    }
   ],
   "source": [
    "doc.similarity(doc3)"
   ]
  },
  {
   "cell_type": "markdown",
   "metadata": {},
   "source": [
    "特定の語を与え、それとの関連性の高い順にデータを並べ替えて表示する。"
   ]
  },
  {
   "cell_type": "code",
   "execution_count": 42,
   "metadata": {},
   "outputs": [
    {
     "data": {
      "text/plain": [
       "口 広げる 治具"
      ]
     },
     "execution_count": 42,
     "metadata": {},
     "output_type": "execute_result"
    }
   ],
   "source": [
    "query_words = nlp(strtrans2(\"口拡げ治具\"))\n",
    "\n",
    "query_words"
   ]
  },
  {
   "cell_type": "code",
   "execution_count": 45,
   "metadata": {},
   "outputs": [],
   "source": [
    "dfm872c = dfm872b.with_columns([\n",
    "    pl.col(\"tokens\").map_elements(lambda x: query_words.similarity(nlp(x))).alias(\"similarity\")\n",
    "])"
   ]
  },
  {
   "cell_type": "code",
   "execution_count": 47,
   "metadata": {},
   "outputs": [
    {
     "data": {
      "text/html": [
       "<div><style>\n",
       ".dataframe > thead > tr,\n",
       ".dataframe > tbody > tr {\n",
       "  text-align: right;\n",
       "  white-space: pre-wrap;\n",
       "}\n",
       "</style>\n",
       "<small>shape: (49, 9)</small><table border=\"1\" class=\"dataframe\"><thead><tr><th>id</th><th>fpath</th><th>update</th><th>created</th><th>category</th><th>tags</th><th>contents</th><th>tokens</th><th>similarity</th></tr><tr><td>str</td><td>str</td><td>str</td><td>str</td><td>str</td><td>str</td><td>str</td><td>str</td><td>f64</td></tr></thead><tbody><tr><td>&quot;55203fbd2731bd…</td><td>&quot;HR 吹込管 口拡げ.md&quot;</td><td>&quot;2022-11-01T15:…</td><td>&quot;2022-11-01T15:…</td><td>&quot;仕事_Evernote&quot;</td><td>&quot;HR872&quot;</td><td>&quot;\n",
       "HR 吹込管 口拡げ\n",
       "\n",
       "ど…</td><td>&quot;HR 吹込 管 口 広げる …</td><td>0.676491</td></tr><tr><td>&quot;9c2fce7cdaeea0…</td><td>&quot;HR872 吹込管 7.md…</td><td>&quot;2023-02-16T14:…</td><td>&quot;2023-02-16T13:…</td><td>&quot;仕事_Evernote&quot;</td><td>&quot;HR872&quot;</td><td>&quot;\n",
       "HR872 吹込管\n",
       "\n",
       "サン…</td><td>&quot;HR 872 吹込 管 サン…</td><td>0.630001</td></tr><tr><td>&quot;d5d281cce60370…</td><td>&quot;HR872 吹込管 3.md…</td><td>&quot;2023-03-20T08:…</td><td>&quot;2023-03-20T08:…</td><td>&quot;仕事_Evernote&quot;</td><td>&quot;HR872&quot;</td><td>&quot;\n",
       "HR872 吹込管\n",
       "\n",
       "細端…</td><td>&quot;HR 872 吹込 管 細い…</td><td>0.583208</td></tr><tr><td>&quot;f4ba5f42a993fa…</td><td>&quot;HR672 吹込管 口拡げ機…</td><td>&quot;2022-07-28T14:…</td><td>&quot;2022-07-28T14:…</td><td>&quot;仕事_Evernote&quot;</td><td>&quot;HR872&quot;</td><td>&quot;\n",
       "HR672 吹込管 口拡げ…</td><td>&quot;HR 672 吹込 管 口 …</td><td>0.581679</td></tr><tr><td>&quot;d017b2efd91cae…</td><td>&quot;吹込管口拡げ.md&quot;</td><td>&quot;2022-10-14T18:…</td><td>&quot;2022-10-14T13:…</td><td>&quot;仕事_Evernote&quot;</td><td>&quot;HR872&quot;</td><td>&quot;\n",
       "吹込管口拡げ\n",
       "\n",
       "サンエイト…</td><td>&quot;吹込 管口 広げる サンエイ…</td><td>0.57921</td></tr><tr><td>&hellip;</td><td>&hellip;</td><td>&hellip;</td><td>&hellip;</td><td>&hellip;</td><td>&hellip;</td><td>&hellip;</td><td>&hellip;</td><td>&hellip;</td></tr><tr><td>&quot;aacf582429189d…</td><td>&quot;HR672 吹込管口拡げ.m…</td><td>&quot;2022-11-18T21:…</td><td>&quot;2022-11-18T21:…</td><td>&quot;仕事_Evernote&quot;</td><td>&quot;HR872&quot;</td><td>&quot;\n",
       "HR672 吹込管口拡げ\n",
       "…</td><td>&quot;HR 672 吹込 管口 広…</td><td>0.507849</td></tr><tr><td>&quot;8f9f44ad0dae04…</td><td>&quot;HR吹込管口拡げ.md&quot;</td><td>&quot;2022-09-22T21:…</td><td>&quot;2022-09-22T15:…</td><td>&quot;仕事_Evernote&quot;</td><td>&quot;HR872&quot;</td><td>&quot;\n",
       "HR吹込管口拡げ\n",
       "\n",
       "原さん…</td><td>&quot;HR 吹込 管口 広げる 原…</td><td>0.507663</td></tr><tr><td>&quot;d58897f5a8bae7…</td><td>&quot;HR872 レバー4.md&quot;</td><td>&quot;2023-01-10T17:…</td><td>&quot;2023-01-10T17:…</td><td>&quot;仕事_Evernote&quot;</td><td>&quot;HR872&quot;</td><td>&quot;\n",
       "HR872 レバー4\n",
       "\n",
       "三…</td><td>&quot;HR 872 レバー 4 三…</td><td>0.507454</td></tr><tr><td>&quot;d6e5d2ee903015…</td><td>&quot;HR872 増試前DR.md…</td><td>&quot;2023-11-13T18:…</td><td>&quot;2023-11-13T15:…</td><td>&quot;0_業務&quot;</td><td>&quot;HR872&quot;</td><td>&quot;\n",
       "HR872 増試前DR\n",
       "\n",
       "…</td><td>&quot;HR 872 増 前 Dr …</td><td>0.505939</td></tr><tr><td>&quot;efc1064e6a7965…</td><td>&quot;技試部品手配打合せ.md&quot;</td><td>&quot;2022-06-03T13:…</td><td>&quot;2022-06-03T12:…</td><td>&quot;仕事_Evernote&quot;</td><td>&quot;HR872&quot;</td><td>&quot;\n",
       "技試部品手配打合せ\n",
       "\n",
       "原さ…</td><td>&quot;技 部品 手配 打ち合わせ …</td><td>0.502874</td></tr></tbody></table></div>"
      ],
      "text/plain": [
       "shape: (49, 9)\n",
       "┌────────────┬────────────┬────────────┬───────────┬───┬───────┬───────────┬───────────┬───────────┐\n",
       "│ id         ┆ fpath      ┆ update     ┆ created   ┆ … ┆ tags  ┆ contents  ┆ tokens    ┆ similarit │\n",
       "│ ---        ┆ ---        ┆ ---        ┆ ---       ┆   ┆ ---   ┆ ---       ┆ ---       ┆ y         │\n",
       "│ str        ┆ str        ┆ str        ┆ str       ┆   ┆ str   ┆ str       ┆ str       ┆ ---       │\n",
       "│            ┆            ┆            ┆           ┆   ┆       ┆           ┆           ┆ f64       │\n",
       "╞════════════╪════════════╪════════════╪═══════════╪═══╪═══════╪═══════════╪═══════════╪═══════════╡\n",
       "│ 55203fbd27 ┆ HR 吹込管  ┆ 2022-11-01 ┆ 2022-11-0 ┆ … ┆ HR872 ┆           ┆ HR 吹込   ┆ 0.676491  │\n",
       "│ 31bd4728a9 ┆ 口拡げ.md  ┆ T15:11:32. ┆ 1T15:11:5 ┆   ┆       ┆ HR 吹込管 ┆ 管 口     ┆           │\n",
       "│ dbf41fc316 ┆            ┆ 0          ┆ 1.0       ┆   ┆       ┆ 口拡げ    ┆ 広げる    ┆           │\n",
       "│ 2c…        ┆            ┆            ┆           ┆   ┆       ┆           ┆ サンエイ  ┆           │\n",
       "│            ┆            ┆            ┆           ┆   ┆       ┆ どうもサ  ┆ ト 本当   ┆           │\n",
       "│            ┆            ┆            ┆           ┆   ┆       ┆ ンエイト  ┆ 自力 口   ┆           │\n",
       "│            ┆            ┆            ┆           ┆   ┆       ┆ は本当に  ┆ 広げる …  ┆           │\n",
       "│            ┆            ┆            ┆           ┆   ┆       ┆ 自力で口  ┆           ┆           │\n",
       "│            ┆            ┆            ┆           ┆   ┆       ┆ 拡げ機…   ┆           ┆           │\n",
       "│ 9c2fce7cda ┆ HR872      ┆ 2023-02-16 ┆ 2023-02-1 ┆ … ┆ HR872 ┆           ┆ HR 872    ┆ 0.630001  │\n",
       "│ eea01b4f0c ┆ 吹込管     ┆ T14:02:20. ┆ 6T13:02:4 ┆   ┆       ┆ HR872     ┆ 吹込 管   ┆           │\n",
       "│ ea45c069d5 ┆ 7.md       ┆ 0          ┆ 9.0       ┆   ┆       ┆ 吹込管    ┆ サンエイ  ┆           │\n",
       "│ 41…        ┆            ┆            ┆           ┆   ┆       ┆           ┆ ト 三宅   ┆           │\n",
       "│            ┆            ┆            ┆           ┆   ┆       ┆ サンエイ  ┆ 唾 抜く   ┆           │\n",
       "│            ┆            ┆            ┆           ┆   ┆       ┆ トにて。  ┆ 孔 明け   ┆           │\n",
       "│            ┆            ┆            ┆           ┆   ┆       ┆           ┆ ト…       ┆           │\n",
       "│            ┆            ┆            ┆           ┆   ┆       ┆ 三宅氏と  ┆           ┆           │\n",
       "│            ┆            ┆            ┆           ┆   ┆       ┆ 。        ┆           ┆           │\n",
       "│            ┆            ┆            ┆           ┆   ┆       ┆           ┆           ┆           │\n",
       "│            ┆            ┆            ┆           ┆   ┆       ┆           ┆           ┆           │\n",
       "│            ┆            ┆            ┆           ┆   ┆       ┆           ┆           ┆           │\n",
       "│            ┆            ┆            ┆           ┆   ┆       ┆ 唾…       ┆           ┆           │\n",
       "│ d5d281cce6 ┆ HR872      ┆ 2023-03-20 ┆ 2023-03-2 ┆ … ┆ HR872 ┆           ┆ HR 872    ┆ 0.583208  │\n",
       "│ 03706c994c ┆ 吹込管     ┆ T08:03:44. ┆ 0T08:03:4 ┆   ┆       ┆ HR872     ┆ 吹込 管   ┆           │\n",
       "│ da20d85e14 ┆ 3.md       ┆ 0          ┆ 5.0       ┆   ┆       ┆ 吹込管    ┆ 細い 端   ┆           │\n",
       "│ 57…        ┆            ┆            ┆           ┆   ┆       ┆           ┆ 寸切り    ┆           │\n",
       "│            ┆            ┆            ┆           ┆   ┆       ┆ 細端寸切  ┆ 治具 修正 ┆           │\n",
       "│            ┆            ┆            ┆           ┆   ┆       ┆ り治具の  ┆ 図 検図 … ┆           │\n",
       "│            ┆            ┆            ┆           ┆   ┆       ┆ 修正図検  ┆           ┆           │\n",
       "│            ┆            ┆            ┆           ┆   ┆       ┆ 図。      ┆           ┆           │\n",
       "│            ┆            ┆            ┆           ┆   ┆       ┆           ┆           ┆           │\n",
       "│            ┆            ┆            ┆           ┆   ┆       ┆ 微修正は… ┆           ┆           │\n",
       "│ f4ba5f42a9 ┆ HR672      ┆ 2022-07-28 ┆ 2022-07-2 ┆ … ┆ HR872 ┆           ┆ HR 672    ┆ 0.581679  │\n",
       "│ 93fa7c0544 ┆ 吹込管     ┆ T14:07:00. ┆ 8T14:07:0 ┆   ┆       ┆ HR672     ┆ 吹込 管   ┆           │\n",
       "│ bc36cea5bb ┆ 口拡げ機   ┆ 0          ┆ 6.0       ┆   ┆       ┆ 吹込管    ┆ 口 広げる ┆           │\n",
       "│ 83…        ┆ 吹込管受け ┆            ┆           ┆   ┆       ┆ 口拡げ機  ┆ 機 吹込   ┆           │\n",
       "│            ┆ 治具.md    ┆            ┆           ┆   ┆       ┆ 吹込管受  ┆ 管 受ける ┆           │\n",
       "│            ┆            ┆            ┆           ┆   ┆       ┆ け治具    ┆ 治具 …    ┆           │\n",
       "│            ┆            ┆            ┆           ┆   ┆       ┆           ┆           ┆           │\n",
       "│            ┆            ┆            ┆           ┆   ┆       ┆ セガワに  ┆           ┆           │\n",
       "│            ┆            ┆            ┆           ┆   ┆       ┆ 見積依…   ┆           ┆           │\n",
       "│ d017b2efd9 ┆ 吹込管口拡 ┆ 2022-10-14 ┆ 2022-10-1 ┆ … ┆ HR872 ┆           ┆ 吹込 管口 ┆ 0.57921   │\n",
       "│ 1cae5a9502 ┆ げ.md      ┆ T18:10:38. ┆ 4T13:10:4 ┆   ┆       ┆ 吹込管口  ┆ 広げる    ┆           │\n",
       "│ a77b0eaa3f ┆            ┆ 0          ┆ 1.0       ┆   ┆       ┆ 拡げ      ┆ サンエイ  ┆           │\n",
       "│ 02…        ┆            ┆            ┆           ┆   ┆       ┆           ┆ ト 三宅   ┆           │\n",
       "│            ┆            ┆            ┆           ┆   ┆       ┆ サンエイ  ┆ 正樹 原   ┆           │\n",
       "│            ┆            ┆            ┆           ┆   ┆       ┆ トにて。  ┆ 細い 端   ┆           │\n",
       "│            ┆            ┆            ┆           ┆   ┆       ┆           ┆ 寸切り…   ┆           │\n",
       "│            ┆            ┆            ┆           ┆   ┆       ┆ 三宅氏、  ┆           ┆           │\n",
       "│            ┆            ┆            ┆           ┆   ┆       ┆ 正樹さん  ┆           ┆           │\n",
       "│            ┆            ┆            ┆           ┆   ┆       ┆ 、原さん  ┆           ┆           │\n",
       "│            ┆            ┆            ┆           ┆   ┆       ┆ 。…       ┆           ┆           │\n",
       "│ …          ┆ …          ┆ …          ┆ …         ┆ … ┆ …     ┆ …         ┆ …         ┆ …         │\n",
       "│ aacf582429 ┆ HR672 吹込 ┆ 2022-11-18 ┆ 2022-11-1 ┆ … ┆ HR872 ┆           ┆ HR 672    ┆ 0.507849  │\n",
       "│ 189d4656e9 ┆ 管口拡げ.m ┆ T21:11:31. ┆ 8T21:11:3 ┆   ┆       ┆ HR672 吹  ┆ 吹込 管口 ┆           │\n",
       "│ a373ef79bc ┆ d          ┆ 0          ┆ 7.0       ┆   ┆       ┆ 込管口拡  ┆ 広げる    ┆           │\n",
       "│ 39…        ┆            ┆            ┆           ┆   ┆       ┆ げ        ┆ サンエイ  ┆           │\n",
       "│            ┆            ┆            ┆           ┆   ┆       ┆           ┆ ト 加工   ┆           │\n",
       "│            ┆            ┆            ┆           ┆   ┆       ┆ サンエイ  ┆ メモ      ┆           │\n",
       "│            ┆            ┆            ┆           ┆   ┆       ┆ トでの試  ┆ 遅れ馳…   ┆           │\n",
       "│            ┆            ┆            ┆           ┆   ┆       ┆ 加工のメ  ┆           ┆           │\n",
       "│            ┆            ┆            ┆           ┆   ┆       ┆ モ等を遅  ┆           ┆           │\n",
       "│            ┆            ┆            ┆           ┆   ┆       ┆ れ…       ┆           ┆           │\n",
       "│ 8f9f44ad0d ┆ HR吹込管口 ┆ 2022-09-22 ┆ 2022-09-2 ┆ … ┆ HR872 ┆           ┆ HR 吹込   ┆ 0.507663  │\n",
       "│ ae049f0fbd ┆ 拡げ.md    ┆ T21:09:18. ┆ 2T15:09:3 ┆   ┆       ┆ HR吹込管  ┆ 管口      ┆           │\n",
       "│ fd0483cd7e ┆            ┆ 0          ┆ 3.0       ┆   ┆       ┆ 口拡げ    ┆ 広げる 原 ┆           │\n",
       "│ b4…        ┆            ┆            ┆           ┆   ┆       ┆           ┆ HR 302 m  ┆           │\n",
       "│            ┆            ┆            ┆           ┆   ┆       ┆ 原さんか  ┆ トライ    ┆           │\n",
       "│            ┆            ┆            ┆           ┆   ┆       ┆ らHR302M  ┆ 加工品 …  ┆           │\n",
       "│            ┆            ┆            ┆           ┆   ┆       ┆ とかのト  ┆           ┆           │\n",
       "│            ┆            ┆            ┆           ┆   ┆       ┆ ライ加工  ┆           ┆           │\n",
       "│            ┆            ┆            ┆           ┆   ┆       ┆ 品を…     ┆           ┆           │\n",
       "│ d58897f5a8 ┆ HR872      ┆ 2023-01-10 ┆ 2023-01-1 ┆ … ┆ HR872 ┆           ┆ HR 872    ┆ 0.507454  │\n",
       "│ bae7abaf7e ┆ レバー4.md ┆ T17:01:06. ┆ 0T17:01:5 ┆   ┆       ┆ HR872     ┆ レバー 4  ┆           │\n",
       "│ 722abd6d80 ┆            ┆ 0          ┆ 4.0       ┆   ┆       ┆ レバー4   ┆ 三宅      ┆           │\n",
       "│ 0a…        ┆            ┆            ┆           ┆   ┆       ┆           ┆ かしめ    ┆           │\n",
       "│            ┆            ┆            ┆           ┆   ┆       ┆ 三宅氏か  ┆ 擦り傷    ┆           │\n",
       "│            ┆            ┆            ┆           ┆   ┆       ┆ ら、カシ  ┆ 付く こと ┆           │\n",
       "│            ┆            ┆            ┆           ┆   ┆       ┆ メで擦り  ┆ 対処…     ┆           │\n",
       "│            ┆            ┆            ┆           ┆   ┆       ┆ 傷が付く  ┆           ┆           │\n",
       "│            ┆            ┆            ┆           ┆   ┆       ┆ ことの…   ┆           ┆           │\n",
       "│ d6e5d2ee90 ┆ HR872 増試 ┆ 2023-11-13 ┆ 2023-11-1 ┆ … ┆ HR872 ┆           ┆ HR 872 増 ┆ 0.505939  │\n",
       "│ 301530c1ab ┆ 前DR.md    ┆ T18:11:20. ┆ 3T15:11:3 ┆   ┆       ┆ HR872     ┆ 前 Dr 原  ┆           │\n",
       "│ 134a4e3eb6 ┆            ┆ 0          ┆ 1.0       ┆   ┆       ┆ 増試前DR  ┆ 招集 豊岡 ┆           │\n",
       "│ be…        ┆            ┆            ┆           ┆   ┆       ┆           ┆ 参加 三宅 ┆           │\n",
       "│            ┆            ┆            ┆           ┆   ┆       ┆ 原さん招  ┆ 出席 為…  ┆           │\n",
       "│            ┆            ┆            ┆           ┆   ┆       ┆ 集。      ┆           ┆           │\n",
       "│            ┆            ┆            ┆           ┆   ┆       ┆           ┆           ┆           │\n",
       "│            ┆            ┆            ┆           ┆   ┆       ┆ 豊岡で参  ┆           ┆           │\n",
       "│            ┆            ┆            ┆           ┆   ┆       ┆ 加。三宅  ┆           ┆           │\n",
       "│            ┆            ┆            ┆           ┆   ┆       ┆ 氏出…     ┆           ┆           │\n",
       "│ efc1064e6a ┆ 技試部品手 ┆ 2022-06-03 ┆ 2022-06-0 ┆ … ┆ HR872 ┆           ┆ 技 部品   ┆ 0.502874  │\n",
       "│ 7965ac795c ┆ 配打合せ.m ┆ T13:06:24. ┆ 3T12:06:3 ┆   ┆       ┆ 技試部品  ┆ 手配 打ち ┆           │\n",
       "│ 003fa64c06 ┆ d          ┆ 0          ┆ 8.0       ┆   ┆       ┆ 手配打合  ┆ 合わせ 原 ┆           │\n",
       "│ 0f…        ┆            ┆            ┆           ┆   ┆       ┆ せ        ┆ 三宅 島田 ┆           │\n",
       "│            ┆            ┆            ┆           ┆   ┆       ┆           ┆ 室園 30   ┆           │\n",
       "│            ┆            ┆            ┆           ┆   ┆       ┆ 原さん、  ┆ 分 遅れ…  ┆           │\n",
       "│            ┆            ┆            ┆           ┆   ┆       ┆ 三宅、島  ┆           ┆           │\n",
       "│            ┆            ┆            ┆           ┆   ┆       ┆ 田        ┆           ┆           │\n",
       "│            ┆            ┆            ┆           ┆   ┆       ┆           ┆           ┆           │\n",
       "│            ┆            ┆            ┆           ┆   ┆       ┆ 室園は30  ┆           ┆           │\n",
       "│            ┆            ┆            ┆           ┆   ┆       ┆ 分遅れて… ┆           ┆           │\n",
       "└────────────┴────────────┴────────────┴───────────┴───┴───────┴───────────┴───────────┴───────────┘"
      ]
     },
     "execution_count": 47,
     "metadata": {},
     "output_type": "execute_result"
    }
   ],
   "source": [
    "dfm872c.filter(pl.col(\"similarity\") > 0.5).sort(\"similarity\", descending=True)"
   ]
  },
  {
   "cell_type": "code",
   "execution_count": 48,
   "metadata": {},
   "outputs": [
    {
     "data": {
      "text/plain": [
       "(135, 7)"
      ]
     },
     "execution_count": 48,
     "metadata": {},
     "output_type": "execute_result"
    }
   ],
   "source": [
    "dfm872.shape"
   ]
  },
  {
   "cell_type": "markdown",
   "metadata": {},
   "source": [
    "nlpを行うときも、入力文字数が多すぎるとエラーとなるので、分割して計算する。\n",
    "一致度は複数の一致度の平均にする。"
   ]
  },
  {
   "cell_type": "code",
   "execution_count": 67,
   "metadata": {},
   "outputs": [],
   "source": [
    "def calc_similarity(s):\n",
    "    MAX_LENGTH = 2**14 -1\n",
    "    chunks = []\n",
    "    start = 0\n",
    "\n",
    "    if len(s) > MAX_LENGTH:\n",
    "        while start < len(s):\n",
    "            end = start + MAX_LENGTH\n",
    "            if end < len(s):\n",
    "\n",
    "                lsp = s.rfind(r\"\\s\", start, end)\n",
    "            ch = s[start:lsp]\n",
    "            chunks.append(ch)\n",
    "            start = lsp + 1\n",
    "\n",
    "        slist = np.array([query_words.similarity(nlp(ch)) for ch in chunks])\n",
    "        smlty = np.mean(slist)\n",
    "\n",
    "    else:\n",
    "        smlty = query_words.similarity(nlp(s))\n",
    "\n",
    "    return(smlty)\n",
    "        \n"
   ]
  },
  {
   "cell_type": "code",
   "execution_count": 68,
   "metadata": {},
   "outputs": [
    {
     "data": {
      "text/plain": [
       "0.39730599184023413"
      ]
     },
     "execution_count": 68,
     "metadata": {},
     "output_type": "execute_result"
    }
   ],
   "source": [
    "calc_similarity(dfm2[10,\"tokens\"])"
   ]
  },
  {
   "cell_type": "markdown",
   "metadata": {},
   "source": [
    "次のコードはメモリーエラーになる。"
   ]
  },
  {
   "cell_type": "code",
   "execution_count": 69,
   "metadata": {},
   "outputs": [
    {
     "ename": "PanicException",
     "evalue": "python function failed MemoryError: ",
     "output_type": "error",
     "traceback": [
      "\u001b[1;31m---------------------------------------------------------------------------\u001b[0m",
      "\u001b[1;31mPanicException\u001b[0m                            Traceback (most recent call last)",
      "File \u001b[1;32md:\\develop\\upnote_md_mgr\\.venv\\lib\\site-packages\\polars\\expr\\expr.py:4048\u001b[0m, in \u001b[0;36mExpr._map_batches_wrapper.__call__\u001b[1;34m(self, *args, **kwargs)\u001b[0m\n\u001b[0;32m   4047\u001b[0m \u001b[38;5;28;01mdef\u001b[39;00m \u001b[38;5;21m__call__\u001b[39m(\u001b[38;5;28mself\u001b[39m, \u001b[38;5;241m*\u001b[39margs: Any, \u001b[38;5;241m*\u001b[39m\u001b[38;5;241m*\u001b[39mkwargs: Any) \u001b[38;5;241m-\u001b[39m\u001b[38;5;241m>\u001b[39m Any:\n\u001b[1;32m-> 4048\u001b[0m     result \u001b[38;5;241m=\u001b[39m \u001b[38;5;28mself\u001b[39m\u001b[38;5;241m.\u001b[39mfunction(\u001b[38;5;241m*\u001b[39margs, \u001b[38;5;241m*\u001b[39m\u001b[38;5;241m*\u001b[39mkwargs)\n\u001b[0;32m   4049\u001b[0m     \u001b[38;5;28;01mif\u001b[39;00m _check_for_numpy(result) \u001b[38;5;129;01mand\u001b[39;00m \u001b[38;5;28misinstance\u001b[39m(result, np\u001b[38;5;241m.\u001b[39mndarray):\n\u001b[0;32m   4050\u001b[0m         result \u001b[38;5;241m=\u001b[39m pl\u001b[38;5;241m.\u001b[39mSeries(result, dtype\u001b[38;5;241m=\u001b[39m\u001b[38;5;28mself\u001b[39m\u001b[38;5;241m.\u001b[39mreturn_dtype)\n",
      "File \u001b[1;32md:\\develop\\upnote_md_mgr\\.venv\\lib\\site-packages\\polars\\expr\\expr.py:4383\u001b[0m, in \u001b[0;36mExpr.map_elements.<locals>.wrap_f\u001b[1;34m(x)\u001b[0m\n\u001b[0;32m   4381\u001b[0m \u001b[38;5;28;01mwith\u001b[39;00m warnings\u001b[38;5;241m.\u001b[39mcatch_warnings():\n\u001b[0;32m   4382\u001b[0m     warnings\u001b[38;5;241m.\u001b[39msimplefilter(\u001b[38;5;124m\"\u001b[39m\u001b[38;5;124mignore\u001b[39m\u001b[38;5;124m\"\u001b[39m, PolarsInefficientMapWarning)\n\u001b[1;32m-> 4383\u001b[0m     \u001b[38;5;28;01mreturn\u001b[39;00m \u001b[43mx\u001b[49m\u001b[38;5;241;43m.\u001b[39;49m\u001b[43mmap_elements\u001b[49m\u001b[43m(\u001b[49m\n\u001b[0;32m   4384\u001b[0m \u001b[43m        \u001b[49m\u001b[43mfunction\u001b[49m\u001b[43m,\u001b[49m\u001b[43m \u001b[49m\u001b[43mreturn_dtype\u001b[49m\u001b[38;5;241;43m=\u001b[39;49m\u001b[43mreturn_dtype\u001b[49m\u001b[43m,\u001b[49m\u001b[43m \u001b[49m\u001b[43mskip_nulls\u001b[49m\u001b[38;5;241;43m=\u001b[39;49m\u001b[43mskip_nulls\u001b[49m\n\u001b[0;32m   4385\u001b[0m \u001b[43m    \u001b[49m\u001b[43m)\u001b[49m\n",
      "File \u001b[1;32md:\\develop\\upnote_md_mgr\\.venv\\lib\\site-packages\\polars\\series\\series.py:5268\u001b[0m, in \u001b[0;36mSeries.map_elements\u001b[1;34m(self, function, return_dtype, skip_nulls)\u001b[0m\n\u001b[0;32m   5264\u001b[0m     pl_return_dtype \u001b[38;5;241m=\u001b[39m py_type_to_dtype(return_dtype)\n\u001b[0;32m   5266\u001b[0m warn_on_inefficient_map(function, columns\u001b[38;5;241m=\u001b[39m[\u001b[38;5;28mself\u001b[39m\u001b[38;5;241m.\u001b[39mname], map_target\u001b[38;5;241m=\u001b[39m\u001b[38;5;124m\"\u001b[39m\u001b[38;5;124mseries\u001b[39m\u001b[38;5;124m\"\u001b[39m)\n\u001b[0;32m   5267\u001b[0m \u001b[38;5;28;01mreturn\u001b[39;00m \u001b[38;5;28mself\u001b[39m\u001b[38;5;241m.\u001b[39m_from_pyseries(\n\u001b[1;32m-> 5268\u001b[0m     \u001b[38;5;28;43mself\u001b[39;49m\u001b[38;5;241;43m.\u001b[39;49m\u001b[43m_s\u001b[49m\u001b[38;5;241;43m.\u001b[39;49m\u001b[43mapply_lambda\u001b[49m\u001b[43m(\u001b[49m\u001b[43mfunction\u001b[49m\u001b[43m,\u001b[49m\u001b[43m \u001b[49m\u001b[43mpl_return_dtype\u001b[49m\u001b[43m,\u001b[49m\u001b[43m \u001b[49m\u001b[43mskip_nulls\u001b[49m\u001b[43m)\u001b[49m\n\u001b[0;32m   5269\u001b[0m )\n",
      "\u001b[1;31mPanicException\u001b[0m: python function failed MemoryError: "
     ]
    },
    {
     "ename": "PanicException",
     "evalue": "python function failed MemoryError: ",
     "output_type": "error",
     "traceback": [
      "\u001b[1;31m---------------------------------------------------------------------------\u001b[0m",
      "\u001b[1;31mPanicException\u001b[0m                            Traceback (most recent call last)",
      "Cell \u001b[1;32mIn[69], line 1\u001b[0m\n\u001b[1;32m----> 1\u001b[0m dfm3 \u001b[38;5;241m=\u001b[39m \u001b[43mdfm2\u001b[49m\u001b[38;5;241;43m.\u001b[39;49m\u001b[43mwith_columns\u001b[49m\u001b[43m(\u001b[49m\u001b[43m[\u001b[49m\n\u001b[0;32m      2\u001b[0m \u001b[43m    \u001b[49m\u001b[43mpl\u001b[49m\u001b[38;5;241;43m.\u001b[39;49m\u001b[43mcol\u001b[49m\u001b[43m(\u001b[49m\u001b[38;5;124;43m\"\u001b[39;49m\u001b[38;5;124;43mtokens\u001b[39;49m\u001b[38;5;124;43m\"\u001b[39;49m\u001b[43m)\u001b[49m\u001b[38;5;241;43m.\u001b[39;49m\u001b[43mmap_elements\u001b[49m\u001b[43m(\u001b[49m\u001b[38;5;28;43;01mlambda\u001b[39;49;00m\u001b[43m \u001b[49m\u001b[43mx\u001b[49m\u001b[43m:\u001b[49m\u001b[43m \u001b[49m\u001b[43mcalc_similarity\u001b[49m\u001b[43m(\u001b[49m\u001b[43mx\u001b[49m\u001b[43m)\u001b[49m\u001b[43m)\u001b[49m\u001b[38;5;241;43m.\u001b[39;49m\u001b[43malias\u001b[49m\u001b[43m(\u001b[49m\u001b[38;5;124;43m\"\u001b[39;49m\u001b[38;5;124;43msimilarity\u001b[39;49m\u001b[38;5;124;43m\"\u001b[39;49m\u001b[43m)\u001b[49m\n\u001b[0;32m      3\u001b[0m \u001b[43m]\u001b[49m\u001b[43m)\u001b[49m\n",
      "File \u001b[1;32md:\\develop\\upnote_md_mgr\\.venv\\lib\\site-packages\\polars\\dataframe\\frame.py:8289\u001b[0m, in \u001b[0;36mDataFrame.with_columns\u001b[1;34m(self, *exprs, **named_exprs)\u001b[0m\n\u001b[0;32m   8143\u001b[0m \u001b[38;5;28;01mdef\u001b[39;00m \u001b[38;5;21mwith_columns\u001b[39m(\n\u001b[0;32m   8144\u001b[0m     \u001b[38;5;28mself\u001b[39m,\n\u001b[0;32m   8145\u001b[0m     \u001b[38;5;241m*\u001b[39mexprs: IntoExpr \u001b[38;5;241m|\u001b[39m Iterable[IntoExpr],\n\u001b[0;32m   8146\u001b[0m     \u001b[38;5;241m*\u001b[39m\u001b[38;5;241m*\u001b[39mnamed_exprs: IntoExpr,\n\u001b[0;32m   8147\u001b[0m ) \u001b[38;5;241m-\u001b[39m\u001b[38;5;241m>\u001b[39m DataFrame:\n\u001b[0;32m   8148\u001b[0m \u001b[38;5;250m    \u001b[39m\u001b[38;5;124;03m\"\"\"\u001b[39;00m\n\u001b[0;32m   8149\u001b[0m \u001b[38;5;124;03m    Add columns to this DataFrame.\u001b[39;00m\n\u001b[0;32m   8150\u001b[0m \n\u001b[1;32m   (...)\u001b[0m\n\u001b[0;32m   8287\u001b[0m \u001b[38;5;124;03m    └─────┴──────┴─────────────┘\u001b[39;00m\n\u001b[0;32m   8288\u001b[0m \u001b[38;5;124;03m    \"\"\"\u001b[39;00m\n\u001b[1;32m-> 8289\u001b[0m     \u001b[38;5;28;01mreturn\u001b[39;00m \u001b[38;5;28;43mself\u001b[39;49m\u001b[38;5;241;43m.\u001b[39;49m\u001b[43mlazy\u001b[49m\u001b[43m(\u001b[49m\u001b[43m)\u001b[49m\u001b[38;5;241;43m.\u001b[39;49m\u001b[43mwith_columns\u001b[49m\u001b[43m(\u001b[49m\u001b[38;5;241;43m*\u001b[39;49m\u001b[43mexprs\u001b[49m\u001b[43m,\u001b[49m\u001b[43m \u001b[49m\u001b[38;5;241;43m*\u001b[39;49m\u001b[38;5;241;43m*\u001b[39;49m\u001b[43mnamed_exprs\u001b[49m\u001b[43m)\u001b[49m\u001b[38;5;241;43m.\u001b[39;49m\u001b[43mcollect\u001b[49m\u001b[43m(\u001b[49m\u001b[43m_eager\u001b[49m\u001b[38;5;241;43m=\u001b[39;49m\u001b[38;5;28;43;01mTrue\u001b[39;49;00m\u001b[43m)\u001b[49m\n",
      "File \u001b[1;32md:\\develop\\upnote_md_mgr\\.venv\\lib\\site-packages\\polars\\lazyframe\\frame.py:1934\u001b[0m, in \u001b[0;36mLazyFrame.collect\u001b[1;34m(self, type_coercion, predicate_pushdown, projection_pushdown, simplify_expression, slice_pushdown, comm_subplan_elim, comm_subexpr_elim, no_optimization, streaming, background, _eager)\u001b[0m\n\u001b[0;32m   1931\u001b[0m \u001b[38;5;28;01mif\u001b[39;00m background:\n\u001b[0;32m   1932\u001b[0m     \u001b[38;5;28;01mreturn\u001b[39;00m InProcessQuery(ldf\u001b[38;5;241m.\u001b[39mcollect_concurrently())\n\u001b[1;32m-> 1934\u001b[0m \u001b[38;5;28;01mreturn\u001b[39;00m wrap_df(\u001b[43mldf\u001b[49m\u001b[38;5;241;43m.\u001b[39;49m\u001b[43mcollect\u001b[49m\u001b[43m(\u001b[49m\u001b[43m)\u001b[49m)\n",
      "\u001b[1;31mPanicException\u001b[0m: python function failed MemoryError: "
     ]
    }
   ],
   "source": [
    "# dfm3 = dfm2.with_columns([\n",
    "#     pl.col(\"tokens\").map_elements(lambda x: calc_similarity(x)).alias(\"similarity\")\n",
    "# ])"
   ]
  },
  {
   "cell_type": "code",
   "execution_count": null,
   "metadata": {},
   "outputs": [],
   "source": []
  },
  {
   "cell_type": "markdown",
   "metadata": {},
   "source": [
    "## test"
   ]
  },
  {
   "cell_type": "code",
   "execution_count": 87,
   "metadata": {},
   "outputs": [
    {
     "data": {
      "text/plain": [
       "'asj12345'"
      ]
     },
     "execution_count": 87,
     "metadata": {},
     "output_type": "execute_result"
    }
   ],
   "source": [
    "re.sub(r\"([a-z]{2})-([djm])-([0-9]+)\", r\"\\1\\2\\3\",\"as-j-12345\")"
   ]
  },
  {
   "cell_type": "code",
   "execution_count": 18,
   "metadata": {},
   "outputs": [
    {
     "data": {
      "text/plain": [
       "21"
      ]
     },
     "execution_count": 18,
     "metadata": {},
     "output_type": "execute_result"
    }
   ],
   "source": [
    "len(bytes(\"日本語のテスト\".encode(\"UTF-8\")))"
   ]
  },
  {
   "cell_type": "code",
   "execution_count": 19,
   "metadata": {},
   "outputs": [
    {
     "data": {
      "text/plain": [
       "7"
      ]
     },
     "execution_count": 19,
     "metadata": {},
     "output_type": "execute_result"
    }
   ],
   "source": [
    "len(\"日本語のテスト\")"
   ]
  },
  {
   "cell_type": "code",
   "execution_count": 20,
   "metadata": {},
   "outputs": [
    {
     "data": {
      "text/plain": [
       "16383.0"
      ]
     },
     "execution_count": 20,
     "metadata": {},
     "output_type": "execute_result"
    }
   ],
   "source": [
    "49149/3"
   ]
  },
  {
   "cell_type": "code",
   "execution_count": 21,
   "metadata": {},
   "outputs": [],
   "source": [
    "import numpy as np"
   ]
  },
  {
   "cell_type": "code",
   "execution_count": 22,
   "metadata": {},
   "outputs": [
    {
     "data": {
      "text/plain": [
       "13.99991194219542"
      ]
     },
     "execution_count": 22,
     "metadata": {},
     "output_type": "execute_result"
    }
   ],
   "source": [
    "np.log2(49149/3)"
   ]
  },
  {
   "cell_type": "code",
   "execution_count": 23,
   "metadata": {},
   "outputs": [
    {
     "data": {
      "text/plain": [
       "16384"
      ]
     },
     "execution_count": 23,
     "metadata": {},
     "output_type": "execute_result"
    }
   ],
   "source": [
    "2**14"
   ]
  },
  {
   "cell_type": "code",
   "execution_count": 64,
   "metadata": {},
   "outputs": [],
   "source": [
    "MAX_LENGTH = 2400\n",
    "\n",
    "s1 = \"aset asetas as aas a  ahoinhaso  a ahoin. asetn .asetae asas\"\n",
    "last_space_pos = s1.rfind(' ', 0, MAX_LENGTH)"
   ]
  },
  {
   "cell_type": "code",
   "execution_count": 65,
   "metadata": {},
   "outputs": [
    {
     "data": {
      "text/plain": [
       "'aset asetas as aas a  ahoinhaso  a ahoin. asetn .asetae'"
      ]
     },
     "execution_count": 65,
     "metadata": {},
     "output_type": "execute_result"
    }
   ],
   "source": [
    "s1[0:last_space_pos]"
   ]
  },
  {
   "cell_type": "code",
   "execution_count": 57,
   "metadata": {},
   "outputs": [
    {
     "data": {
      "text/plain": [
       "'aset asetas as aas a  ahoinhaso  a ahoin. asetn .asetae asa'"
      ]
     },
     "execution_count": 57,
     "metadata": {},
     "output_type": "execute_result"
    }
   ],
   "source": [
    "s1[0:ans.endpos-1]"
   ]
  },
  {
   "cell_type": "code",
   "execution_count": null,
   "metadata": {},
   "outputs": [],
   "source": []
  }
 ],
 "metadata": {
  "kernelspec": {
   "display_name": ".venv",
   "language": "python",
   "name": "python3"
  },
  "language_info": {
   "codemirror_mode": {
    "name": "ipython",
    "version": 3
   },
   "file_extension": ".py",
   "mimetype": "text/x-python",
   "name": "python",
   "nbconvert_exporter": "python",
   "pygments_lexer": "ipython3",
   "version": "3.10.12"
  }
 },
 "nbformat": 4,
 "nbformat_minor": 2
}
