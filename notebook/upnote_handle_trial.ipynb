{
 "cells": [
  {
   "cell_type": "markdown",
   "metadata": {},
   "source": [
    "# Upnote Markdown Manager Trial"
   ]
  },
  {
   "cell_type": "markdown",
   "metadata": {},
   "source": [
    "## word splitting "
   ]
  },
  {
   "cell_type": "markdown",
   "metadata": {},
   "source": [
    "データフレームを作るところはjuliaで先に実行した。\n",
    "ここではデータフレームの文書からsudachipyにて構文解析をする。"
   ]
  },
  {
   "cell_type": "code",
   "execution_count": 2,
   "metadata": {},
   "outputs": [],
   "source": [
    "import polars as pl \n",
    "import sudachipy \n",
    "import os"
   ]
  },
  {
   "cell_type": "code",
   "execution_count": 19,
   "metadata": {},
   "outputs": [],
   "source": [
    "from sklearn.feature_extraction.text import TfidfVectorizer"
   ]
  },
  {
   "cell_type": "code",
   "execution_count": 3,
   "metadata": {},
   "outputs": [
    {
     "data": {
      "text/plain": [
       "'d:\\\\develop\\\\upnote_md_mgr\\\\notebook'"
      ]
     },
     "execution_count": 3,
     "metadata": {},
     "output_type": "execute_result"
    }
   ],
   "source": [
    "os.getcwd()"
   ]
  },
  {
   "cell_type": "code",
   "execution_count": 6,
   "metadata": {},
   "outputs": [],
   "source": [
    "dfm = pl.read_csv(\"../data/upnote_text.csv\")"
   ]
  },
  {
   "cell_type": "code",
   "execution_count": 17,
   "metadata": {},
   "outputs": [
    {
     "data": {
      "text/html": [
       "<div><style>\n",
       ".dataframe > thead > tr,\n",
       ".dataframe > tbody > tr {\n",
       "  text-align: right;\n",
       "  white-space: pre-wrap;\n",
       "}\n",
       "</style>\n",
       "<small>shape: (9, 8)</small><table border=\"1\" class=\"dataframe\"><thead><tr><th>statistic</th><th>id</th><th>fpath</th><th>update</th><th>created</th><th>category</th><th>tags</th><th>contents</th></tr><tr><td>str</td><td>str</td><td>str</td><td>str</td><td>str</td><td>str</td><td>str</td><td>str</td></tr></thead><tbody><tr><td>&quot;count&quot;</td><td>&quot;24673&quot;</td><td>&quot;24673&quot;</td><td>&quot;24673&quot;</td><td>&quot;24673&quot;</td><td>&quot;24673&quot;</td><td>&quot;10466&quot;</td><td>&quot;24673&quot;</td></tr><tr><td>&quot;null_count&quot;</td><td>&quot;0&quot;</td><td>&quot;0&quot;</td><td>&quot;0&quot;</td><td>&quot;0&quot;</td><td>&quot;0&quot;</td><td>&quot;14207&quot;</td><td>&quot;0&quot;</td></tr><tr><td>&quot;mean&quot;</td><td>null</td><td>null</td><td>null</td><td>null</td><td>null</td><td>null</td><td>null</td></tr><tr><td>&quot;std&quot;</td><td>null</td><td>null</td><td>null</td><td>null</td><td>null</td><td>null</td><td>null</td></tr><tr><td>&quot;min&quot;</td><td>&quot;000016e673d85d…</td><td>&quot;- 名刺.md&quot;</td><td>&quot;2009-10-20T17:…</td><td>&quot;2009-10-20T17:…</td><td>&quot;0_業務&quot;</td><td>&quot;18の参加者|唄口リガチャー…</td><td>&quot;\n",
       "&quot;Trompeten, P…</td></tr><tr><td>&quot;25%&quot;</td><td>null</td><td>null</td><td>null</td><td>null</td><td>null</td><td>null</td><td>null</td></tr><tr><td>&quot;50%&quot;</td><td>null</td><td>null</td><td>null</td><td>null</td><td>null</td><td>null</td><td>null</td></tr><tr><td>&quot;75%&quot;</td><td>null</td><td>null</td><td>null</td><td>null</td><td>null</td><td>null</td><td>null</td></tr><tr><td>&quot;max&quot;</td><td>&quot;fff5a64a0679e1…</td><td>&quot;ﾕcon.md&quot;</td><td>&quot;2024-03-06T22:…</td><td>&quot;2024-03-06T22:…</td><td>&quot;本&quot;</td><td>&quot;音響&quot;</td><td>&quot;\n",
       "ﾕcon\n",
       "\n",
       "って何だ？\n",
       "\n",
       "…</td></tr></tbody></table></div>"
      ],
      "text/plain": [
       "shape: (9, 8)\n",
       "┌────────────┬────────────┬───────────┬────────────┬────────────┬──────────┬───────────┬───────────┐\n",
       "│ statistic  ┆ id         ┆ fpath     ┆ update     ┆ created    ┆ category ┆ tags      ┆ contents  │\n",
       "│ ---        ┆ ---        ┆ ---       ┆ ---        ┆ ---        ┆ ---      ┆ ---       ┆ ---       │\n",
       "│ str        ┆ str        ┆ str       ┆ str        ┆ str        ┆ str      ┆ str       ┆ str       │\n",
       "╞════════════╪════════════╪═══════════╪════════════╪════════════╪══════════╪═══════════╪═══════════╡\n",
       "│ count      ┆ 24673      ┆ 24673     ┆ 24673      ┆ 24673      ┆ 24673    ┆ 10466     ┆ 24673     │\n",
       "│ null_count ┆ 0          ┆ 0         ┆ 0          ┆ 0          ┆ 0        ┆ 14207     ┆ 0         │\n",
       "│ mean       ┆ null       ┆ null      ┆ null       ┆ null       ┆ null     ┆ null      ┆ null      │\n",
       "│ std        ┆ null       ┆ null      ┆ null       ┆ null       ┆ null     ┆ null      ┆ null      │\n",
       "│ min        ┆ 000016e673 ┆ - 名刺.md ┆ 2009-10-20 ┆ 2009-10-20 ┆ 0_業務   ┆ 18の参加  ┆           │\n",
       "│            ┆ d85d32ac1e ┆           ┆ T17:10:13. ┆ T17:10:03. ┆          ┆ 者|唄口リ ┆ \"Trompete │\n",
       "│            ┆ f7ab5a2f8f ┆           ┆ 0          ┆ 0          ┆          ┆ ガチャー  ┆ n,        │\n",
       "│            ┆ 79…        ┆           ┆            ┆            ┆          ┆           ┆ Posaunen  │\n",
       "│            ┆            ┆           ┆            ┆            ┆          ┆           ┆ und       │\n",
       "│            ┆            ┆           ┆            ┆            ┆          ┆           ┆ Hörner…   │\n",
       "│ 25%        ┆ null       ┆ null      ┆ null       ┆ null       ┆ null     ┆ null      ┆ null      │\n",
       "│ 50%        ┆ null       ┆ null      ┆ null       ┆ null       ┆ null     ┆ null      ┆ null      │\n",
       "│ 75%        ┆ null       ┆ null      ┆ null       ┆ null       ┆ null     ┆ null      ┆ null      │\n",
       "│ max        ┆ fff5a64a06 ┆ ﾕcon.md   ┆ 2024-03-06 ┆ 2024-03-06 ┆ 本       ┆ 音響      ┆           │\n",
       "│            ┆ 79e1c42fea ┆           ┆ T22:03:39. ┆ T22:03:21. ┆          ┆           ┆ ﾕcon      │\n",
       "│            ┆ 83fceacb8d ┆           ┆ 0          ┆ 0          ┆          ┆           ┆           │\n",
       "│            ┆ fe…        ┆           ┆            ┆            ┆          ┆           ┆ って何だ  │\n",
       "│            ┆            ┆           ┆            ┆            ┆          ┆           ┆ ？        │\n",
       "│            ┆            ┆           ┆            ┆            ┆          ┆           ┆           │\n",
       "│            ┆            ┆           ┆            ┆            ┆          ┆           ┆           │\n",
       "│            ┆            ┆           ┆            ┆            ┆          ┆           ┆           │\n",
       "│            ┆            ┆           ┆            ┆            ┆          ┆           ┆ Windowsの │\n",
       "│            ┆            ┆           ┆            ┆            ┆          ┆           ┆ エクスプ  │\n",
       "│            ┆            ┆           ┆            ┆            ┆          ┆           ┆ ローラー… │\n",
       "└────────────┴────────────┴───────────┴────────────┴────────────┴──────────┴───────────┴───────────┘"
      ]
     },
     "execution_count": 17,
     "metadata": {},
     "output_type": "execute_result"
    }
   ],
   "source": [
    "dfm.describe()"
   ]
  },
  {
   "cell_type": "markdown",
   "metadata": {},
   "source": [
    "HR872関連のデータのみに絞る。"
   ]
  },
  {
   "cell_type": "code",
   "execution_count": 11,
   "metadata": {},
   "outputs": [],
   "source": [
    "dfm872 = dfm.filter(pl.col(\"tags\") == \"HR872\")"
   ]
  },
  {
   "cell_type": "code",
   "execution_count": 12,
   "metadata": {},
   "outputs": [
    {
     "data": {
      "text/html": [
       "<div><style>\n",
       ".dataframe > thead > tr,\n",
       ".dataframe > tbody > tr {\n",
       "  text-align: right;\n",
       "  white-space: pre-wrap;\n",
       "}\n",
       "</style>\n",
       "<small>shape: (135, 7)</small><table border=\"1\" class=\"dataframe\"><thead><tr><th>id</th><th>fpath</th><th>update</th><th>created</th><th>category</th><th>tags</th><th>contents</th></tr><tr><td>str</td><td>str</td><td>str</td><td>str</td><td>str</td><td>str</td><td>str</td></tr></thead><tbody><tr><td>&quot;7d73c75ded161f…</td><td>&quot;300Wモーター.md&quot;</td><td>&quot;2022-07-14T08:…</td><td>&quot;2022-07-14T08:…</td><td>&quot;仕事_Evernote&quot;</td><td>&quot;HR872&quot;</td><td>&quot;\n",
       "300Wモーター\n",
       "\n",
       "金子ツ…</td></tr><tr><td>&quot;55203fbd2731bd…</td><td>&quot;HR 吹込管 口拡げ.md&quot;</td><td>&quot;2022-11-01T15:…</td><td>&quot;2022-11-01T15:…</td><td>&quot;仕事_Evernote&quot;</td><td>&quot;HR872&quot;</td><td>&quot;\n",
       "HR 吹込管 口拡げ\n",
       "\n",
       "ど…</td></tr><tr><td>&quot;8af8d31fb6fc3d…</td><td>&quot;HR-672 吹込管.md&quot;</td><td>&quot;2022-07-26T09:…</td><td>&quot;2022-07-26T09:…</td><td>&quot;仕事_Evernote&quot;</td><td>&quot;HR872&quot;</td><td>&quot;\n",
       "HR-672 吹込管\n",
       "\n",
       "口…</td></tr><tr><td>&quot;d19c050d6b9a7d…</td><td>&quot;HR-672D ベルスクリュ…</td><td>&quot;2022-06-13T08:…</td><td>&quot;2022-06-13T08:…</td><td>&quot;仕事_Evernote&quot;</td><td>&quot;HR872&quot;</td><td>&quot;\n",
       "HR-672D ベルスクリ…</td></tr><tr><td>&quot;cd3473406e90d8…</td><td>&quot;HR-872 吹込管 2.m…</td><td>&quot;2022-08-02T10:…</td><td>&quot;2022-08-02T09:…</td><td>&quot;仕事_Evernote&quot;</td><td>&quot;HR872&quot;</td><td>&quot;\n",
       "HR-872 吹込管\n",
       "\n",
       "三…</td></tr><tr><td>&hellip;</td><td>&hellip;</td><td>&hellip;</td><td>&hellip;</td><td>&hellip;</td><td>&hellip;</td><td>&hellip;</td></tr><tr><td>&quot;b9a76854d102fc…</td><td>&quot;管体+レバー支持台2 半田付…</td><td>&quot;2022-10-28T16:…</td><td>&quot;2022-10-28T16:…</td><td>&quot;仕事_Evernote&quot;</td><td>&quot;HR872&quot;</td><td>&quot;\n",
       "管体+レバー支持台2 半田…</td></tr><tr><td>&quot;cfe67cd7224278…</td><td>&quot;管体組立 9.md&quot;</td><td>&quot;2022-10-26T20:…</td><td>&quot;2022-10-26T20:…</td><td>&quot;仕事_Evernote&quot;</td><td>&quot;HR872&quot;</td><td>&quot;\n",
       "管体組立\n",
       "\n",
       "46班に行った…</td></tr><tr><td>&quot;d5b76910f66938…</td><td>&quot;設備手配表確認 2.md&quot;</td><td>&quot;2022-03-24T09:…</td><td>&quot;2022-03-24T09:…</td><td>&quot;仕事_Evernote&quot;</td><td>&quot;HR872&quot;</td><td>&quot;\n",
       "設備手配表確認\n",
       "\n",
       "原さんか…</td></tr><tr><td>&quot;03cc15ab51f443…</td><td>&quot;設備手配表確認.md&quot;</td><td>&quot;2022-04-11T09:…</td><td>&quot;2022-04-11T08:…</td><td>&quot;仕事_Evernote&quot;</td><td>&quot;HR872&quot;</td><td>&quot;\n",
       "設備手配表確認\n",
       "\n",
       "1点づつ…</td></tr><tr><td>&quot;876cd1fe633e4c…</td><td>&quot;設備手配表金額確認.md&quot;</td><td>&quot;2022-04-08T23:…</td><td>&quot;2022-04-08T23:…</td><td>&quot;仕事_Evernote&quot;</td><td>&quot;HR872&quot;</td><td>&quot;\n",
       "設備手配表金額確認\n",
       "\n",
       "今日…</td></tr></tbody></table></div>"
      ],
      "text/plain": [
       "shape: (135, 7)\n",
       "┌───────────────┬──────────────┬──────────────┬──────────────┬──────────────┬───────┬──────────────┐\n",
       "│ id            ┆ fpath        ┆ update       ┆ created      ┆ category     ┆ tags  ┆ contents     │\n",
       "│ ---           ┆ ---          ┆ ---          ┆ ---          ┆ ---          ┆ ---   ┆ ---          │\n",
       "│ str           ┆ str          ┆ str          ┆ str          ┆ str          ┆ str   ┆ str          │\n",
       "╞═══════════════╪══════════════╪══════════════╪══════════════╪══════════════╪═══════╪══════════════╡\n",
       "│ 7d73c75ded161 ┆ 300Wモーター ┆ 2022-07-14T0 ┆ 2022-07-14T0 ┆ 仕事_Evernot ┆ HR872 ┆              │\n",
       "│ fe5c32851f762 ┆ .md          ┆ 8:07:39.0    ┆ 8:07:55.0    ┆ e            ┆       ┆ 300Wモーター │\n",
       "│ 2b56be…       ┆              ┆              ┆              ┆              ┆       ┆              │\n",
       "│               ┆              ┆              ┆              ┆              ┆       ┆ 金子ツールか │\n",
       "│               ┆              ┆              ┆              ┆              ┆       ┆ らモーターの │\n",
       "│               ┆              ┆              ┆              ┆              ┆       ┆ 見積来た。発 │\n",
       "│               ┆              ┆              ┆              ┆              ┆       ┆ 注は、…      │\n",
       "│ 55203fbd2731b ┆ HR 吹込管    ┆ 2022-11-01T1 ┆ 2022-11-01T1 ┆ 仕事_Evernot ┆ HR872 ┆              │\n",
       "│ d4728a9dbf41f ┆ 口拡げ.md    ┆ 5:11:32.0    ┆ 5:11:51.0    ┆ e            ┆       ┆ HR 吹込管    │\n",
       "│ c3162c…       ┆              ┆              ┆              ┆              ┆       ┆ 口拡げ       │\n",
       "│               ┆              ┆              ┆              ┆              ┆       ┆              │\n",
       "│               ┆              ┆              ┆              ┆              ┆       ┆ どうもサンエ │\n",
       "│               ┆              ┆              ┆              ┆              ┆       ┆ イトは本当に │\n",
       "│               ┆              ┆              ┆              ┆              ┆       ┆ 自力で口拡げ │\n",
       "│               ┆              ┆              ┆              ┆              ┆       ┆ 機…          │\n",
       "│ 8af8d31fb6fc3 ┆ HR-672       ┆ 2022-07-26T0 ┆ 2022-07-26T0 ┆ 仕事_Evernot ┆ HR872 ┆              │\n",
       "│ d26b17443b509 ┆ 吹込管.md    ┆ 9:07:08.0    ┆ 9:07:43.0    ┆ e            ┆       ┆ HR-672       │\n",
       "│ 7dbc19…       ┆              ┆              ┆              ┆              ┆       ┆ 吹込管       │\n",
       "│               ┆              ┆              ┆              ┆              ┆       ┆              │\n",
       "│               ┆              ┆              ┆              ┆              ┆       ┆ 口拡げ機のワ │\n",
       "│               ┆              ┆              ┆              ┆              ┆       ┆ ークベース、 │\n",
       "│               ┆              ┆              ┆              ┆              ┆       ┆ 既存の図面に │\n",
       "│               ┆              ┆              ┆              ┆              ┆       ┆ ス…          │\n",
       "│ d19c050d6b9a7 ┆ HR-672D ベル ┆ 2022-06-13T0 ┆ 2022-06-13T0 ┆ 仕事_Evernot ┆ HR872 ┆              │\n",
       "│ dcbfd19126fc5 ┆ スクリュー.m ┆ 8:06:09.0    ┆ 8:06:52.0    ┆ e            ┆       ┆ HR-672D ベル │\n",
       "│ 00fb2d…       ┆ d            ┆              ┆              ┆              ┆       ┆ スクリュー   │\n",
       "│               ┆              ┆              ┆              ┆              ┆       ┆              │\n",
       "│               ┆              ┆              ┆              ┆              ┆       ┆ HR-668D-2の  │\n",
       "│               ┆              ┆              ┆              ┆              ┆       ┆ 名前で作…    │\n",
       "│ cd3473406e90d ┆ HR-872       ┆ 2022-08-02T1 ┆ 2022-08-02T0 ┆ 仕事_Evernot ┆ HR872 ┆              │\n",
       "│ 8c7941561d960 ┆ 吹込管 2.md  ┆ 0:08:14.0    ┆ 9:08:05.0    ┆ e            ┆       ┆ HR-872       │\n",
       "│ d63f0f…       ┆              ┆              ┆              ┆              ┆       ┆ 吹込管       │\n",
       "│               ┆              ┆              ┆              ┆              ┆       ┆              │\n",
       "│               ┆              ┆              ┆              ┆              ┆       ┆ 三宅氏の寸切 │\n",
       "│               ┆              ┆              ┆              ┆              ┆       ┆ り治具の検図 │\n",
       "│               ┆              ┆              ┆              ┆              ┆       ┆ 。           │\n",
       "│               ┆              ┆              ┆              ┆              ┆       ┆              │\n",
       "│               ┆              ┆              ┆              ┆              ┆       ┆ 組図・部…    │\n",
       "│ …             ┆ …            ┆ …            ┆ …            ┆ …            ┆ …     ┆ …            │\n",
       "│ b9a76854d102f ┆ 管体+レバー  ┆ 2022-10-28T1 ┆ 2022-10-28T1 ┆ 仕事_Evernot ┆ HR872 ┆              │\n",
       "│ cad952b24e05b ┆ 支持台2 半田 ┆ 6:10:39.0    ┆ 6:10:32.0    ┆ e            ┆       ┆ 管体+レバー  │\n",
       "│ 8e95ce…       ┆ 付け治具.md  ┆              ┆              ┆              ┆       ┆ 支持台2      │\n",
       "│               ┆              ┆              ┆              ┆              ┆       ┆ 半田付け治具 │\n",
       "│               ┆              ┆              ┆              ┆              ┆       ┆              │\n",
       "│               ┆              ┆              ┆              ┆              ┆       ┆ 三宅氏の製図 │\n",
       "│               ┆              ┆              ┆              ┆              ┆       ┆ 検図。       │\n",
       "│               ┆              ┆              ┆              ┆              ┆       ┆              │\n",
       "│               ┆              ┆              ┆              ┆              ┆       ┆              │\n",
       "│               ┆              ┆              ┆              ┆              ┆       ┆ …            │\n",
       "│ cfe67cd722427 ┆ 管体組立     ┆ 2022-10-26T2 ┆ 2022-10-26T2 ┆ 仕事_Evernot ┆ HR872 ┆              │\n",
       "│ 8812dfa510c6b ┆ 9.md         ┆ 0:10:31.0    ┆ 0:10:24.0    ┆ e            ┆       ┆ 管体組立     │\n",
       "│ d9eb8d…       ┆              ┆              ┆              ┆              ┆       ┆              │\n",
       "│               ┆              ┆              ┆              ┆              ┆       ┆ 46班に行った │\n",
       "│               ┆              ┆              ┆              ┆              ┆       ┆ ら、吹込管に │\n",
       "│               ┆              ┆              ┆              ┆              ┆       ┆ 唾抜き孔明け │\n",
       "│               ┆              ┆              ┆              ┆              ┆       ┆ 忘れってこと │\n",
       "│               ┆              ┆              ┆              ┆              ┆       ┆ …            │\n",
       "│ d5b76910f6693 ┆ 設備手配表確 ┆ 2022-03-24T0 ┆ 2022-03-24T0 ┆ 仕事_Evernot ┆ HR872 ┆              │\n",
       "│ 825de49b99015 ┆ 認 2.md      ┆ 9:03:13.0    ┆ 9:03:11.0    ┆ e            ┆       ┆ 設備手配表確 │\n",
       "│ 67c8d7…       ┆              ┆              ┆              ┆              ┆       ┆ 認           │\n",
       "│               ┆              ┆              ┆              ┆              ┆       ┆              │\n",
       "│               ┆              ┆              ┆              ┆              ┆       ┆ 原さんからの │\n",
       "│               ┆              ┆              ┆              ┆              ┆       ┆ メールを元に │\n",
       "│               ┆              ┆              ┆              ┆              ┆       ┆ 、設備内容を │\n",
       "│               ┆              ┆              ┆              ┆              ┆       ┆ 軽く確認…    │\n",
       "│ 03cc15ab51f44 ┆ 設備手配表確 ┆ 2022-04-11T0 ┆ 2022-04-11T0 ┆ 仕事_Evernot ┆ HR872 ┆              │\n",
       "│ 3cd0c406603e4 ┆ 認.md        ┆ 9:04:58.0    ┆ 8:04:07.0    ┆ e            ┆       ┆ 設備手配表確 │\n",
       "│ 65e31f…       ┆              ┆              ┆              ┆              ┆       ┆ 認           │\n",
       "│               ┆              ┆              ┆              ┆              ┆       ┆              │\n",
       "│               ┆              ┆              ┆              ┆              ┆       ┆ 1点づつ、三  │\n",
       "│               ┆              ┆              ┆              ┆              ┆       ┆ 宅氏作成の手 │\n",
       "│               ┆              ┆              ┆              ┆              ┆       ┆ 配表を確認。 │\n",
       "│               ┆              ┆              ┆              ┆              ┆       ┆              │\n",
       "│               ┆              ┆              ┆              ┆              ┆       ┆              │\n",
       "│               ┆              ┆              ┆              ┆              ┆       ┆              │\n",
       "│               ┆              ┆              ┆              ┆              ┆       ┆ …            │\n",
       "│ 876cd1fe633e4 ┆ 設備手配表金 ┆ 2022-04-08T2 ┆ 2022-04-08T2 ┆ 仕事_Evernot ┆ HR872 ┆              │\n",
       "│ cdce20c419817 ┆ 額確認.md    ┆ 3:04:00.0    ┆ 3:04:30.0    ┆ e            ┆       ┆ 設備手配表金 │\n",
       "│ 82ba77…       ┆              ┆              ┆              ┆              ┆       ┆ 額確認       │\n",
       "│               ┆              ┆              ┆              ┆              ┆       ┆              │\n",
       "│               ┆              ┆              ┆              ┆              ┆       ┆ 今日AMにやる │\n",
       "│               ┆              ┆              ┆              ┆              ┆       ┆ つもりだった │\n",
       "│               ┆              ┆              ┆              ┆              ┆       ┆ のに、結局あ │\n",
       "│               ┆              ┆              ┆              ┆              ┆       ┆ れ…          │\n",
       "└───────────────┴──────────────┴──────────────┴──────────────┴──────────────┴───────┴──────────────┘"
      ]
     },
     "execution_count": 12,
     "metadata": {},
     "output_type": "execute_result"
    }
   ],
   "source": [
    "dfm872"
   ]
  },
  {
   "cell_type": "code",
   "execution_count": 16,
   "metadata": {},
   "outputs": [
    {
     "data": {
      "text/plain": [
       "'\\nHR-872 管体組立\\n\\n三宅氏の治具検図。\\n\\n駄目だ。まだまだだ。\\n\\n\\n\\n吹込管の入口テーパーが合ってないとか、ボルトのバランスが悪い、ブロック重そうなのにアルミでない、総形状受けやっている、\\n\\n668用の治具を修正するのに、昔の修正と同じ修正番号使っている、等々。\\n\\n\\n\\n\\n\\n\\n'"
      ]
     },
     "execution_count": 16,
     "metadata": {},
     "output_type": "execute_result"
    }
   ],
   "source": [
    "dfm872[6,\"contents\"]"
   ]
  },
  {
   "cell_type": "markdown",
   "metadata": {},
   "source": [
    "sudachiによる構文解析をトライ。"
   ]
  },
  {
   "cell_type": "code",
   "execution_count": 21,
   "metadata": {},
   "outputs": [],
   "source": [
    "dict = sudachipy.Dictionary()"
   ]
  },
  {
   "cell_type": "code",
   "execution_count": 23,
   "metadata": {},
   "outputs": [],
   "source": [
    "tokenizer = dict.create()"
   ]
  },
  {
   "cell_type": "code",
   "execution_count": 26,
   "metadata": {},
   "outputs": [],
   "source": [
    "tokens1 = tokenizer.tokenize(dfm872[6,\"contents\"])"
   ]
  },
  {
   "cell_type": "code",
   "execution_count": 34,
   "metadata": {},
   "outputs": [
    {
     "name": "stdout",
     "output_type": "stream",
     "text": [
      "\n",
      "|HR|-|872| |管|体|組立|\n",
      "\n",
      "|三宅|氏|の|治具|検|図|。|\n",
      "\n",
      "|駄目|だ|。|まだまだ|だ|。|\n",
      "\n",
      "\n",
      "\n",
      "|吹込|管|の|入口|テーパー|が|合っ|て|ない|と|か|、|ボルト|の|バランス|が|悪い|、|ブロック|重|そう|な|の|に|アルミ|で|ない|、|総|形状|受け|やっ|て|いる|、|\n",
      "\n",
      "|668|用|の|治具|を|修正|する|の|に|、|昔|の|修正|と|同じ|修正|番号|使っ|て|いる|、|等々|。|\n",
      "\n",
      "\n",
      "\n",
      "\n",
      "\n",
      "\n",
      "|"
     ]
    }
   ],
   "source": [
    "words =  [m.surface() for m in tokens1]\n",
    "\n",
    "for w in words:\n",
    "    if len(w) > 0:\n",
    "        print(w, end=\"|\") "
   ]
  },
  {
   "cell_type": "code",
   "execution_count": null,
   "metadata": {},
   "outputs": [],
   "source": []
  },
  {
   "cell_type": "code",
   "execution_count": null,
   "metadata": {},
   "outputs": [],
   "source": []
  }
 ],
 "metadata": {
  "kernelspec": {
   "display_name": ".venv",
   "language": "python",
   "name": "python3"
  },
  "language_info": {
   "codemirror_mode": {
    "name": "ipython",
    "version": 3
   },
   "file_extension": ".py",
   "mimetype": "text/x-python",
   "name": "python",
   "nbconvert_exporter": "python",
   "pygments_lexer": "ipython3",
   "version": "3.10.12"
  }
 },
 "nbformat": 4,
 "nbformat_minor": 2
}
