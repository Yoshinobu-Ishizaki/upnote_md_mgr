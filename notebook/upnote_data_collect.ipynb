{
 "cells": [
  {
   "cell_type": "code",
   "execution_count": 57,
   "metadata": {},
   "outputs": [],
   "source": [
    "from pathlib import Path\n",
    "import os \n",
    "import glob\n",
    "from datetime import datetime\n",
    "import re\n",
    "import pandas as pd\n",
    "import hashlib"
   ]
  },
  {
   "cell_type": "code",
   "execution_count": 4,
   "metadata": {},
   "outputs": [
    {
     "data": {
      "text/plain": [
       "'d:\\\\develop\\\\upnote_md_mgr\\\\notebook'"
      ]
     },
     "execution_count": 4,
     "metadata": {},
     "output_type": "execute_result"
    }
   ],
   "source": [
    "os.getcwd()"
   ]
  },
  {
   "cell_type": "code",
   "execution_count": 5,
   "metadata": {},
   "outputs": [],
   "source": [
    "upnote_path = Path(\"../UpNote/General Space\")"
   ]
  },
  {
   "cell_type": "code",
   "execution_count": 6,
   "metadata": {},
   "outputs": [
    {
     "data": {
      "text/plain": [
       "WindowsPath('../UpNote/General Space')"
      ]
     },
     "execution_count": 6,
     "metadata": {},
     "output_type": "execute_result"
    }
   ],
   "source": [
    "upnote_path"
   ]
  },
  {
   "cell_type": "code",
   "execution_count": 46,
   "metadata": {},
   "outputs": [],
   "source": [
    "files = [os.path.join(upnote_path,f) for f in glob.glob(\"*.md\", root_dir=upnote_path)]"
   ]
  },
  {
   "cell_type": "code",
   "execution_count": 121,
   "metadata": {},
   "outputs": [],
   "source": [
    "def convtxt(path):\n",
    "    s = \"\"\n",
    "    update_dt = \"\"\n",
    "    create_dt = \"\"\n",
    "    cat_mode = False\n",
    "    isheader = True\n",
    "    categories = []\n",
    "    bdytxt = []\n",
    "    tags = []\n",
    "\n",
    "    with open(path,\"r\", encoding='utf-8') as f:\n",
    "        txt = f.readlines()\n",
    "\n",
    "    for i, line in enumerate(txt):\n",
    "        if i > 0:\n",
    "            # skip first line\n",
    "            s = line.rstrip()\n",
    "            if s.startswith(\"date:\"):\n",
    "                s2 = s.replace(\"date: \" ,\"\")\n",
    "                update_dt = datetime.strptime(s2, \"%Y-%m-%d %H:%M:%S\")\n",
    "            elif s.startswith(\"created: \"):\n",
    "                s2 = s.replace(\"created: \",\"\")\n",
    "                create_dt = datetime.strptime(s2, \"%Y-%m-%d %H:%M:%S\")\n",
    "            elif s.startswith(\"categories:\"):\n",
    "                cat_mode = True\n",
    "            elif s == \"---\":\n",
    "                isheader = False\n",
    "                cat_mode = False\n",
    "                continue\n",
    "            else:\n",
    "                if cat_mode:\n",
    "                    s2 = re.sub(r\"^- \",\"\",s)\n",
    "                    categories.append(s2)\n",
    "\n",
    "            # start of body parser\n",
    "            if not isheader:\n",
    "                if bool(re.match(r\"#+ \",s)):\n",
    "                    s2 = re.sub(r\"#+ \",\"\",s)\n",
    "                    bdytxt.append(s2)\n",
    "                elif bool(re.match(r\"^[\\s\\*]+$\",s)):\n",
    "                    s2 = re.sub(r\"^[\\s\\*]+$\",\"\",s)\n",
    "                    bdytxt.append(s2)\n",
    "                elif bool(re.findall(r\"#\\w+\", s)):\n",
    "                    for m in re.findall(r\"#\\w+\", s):\n",
    "                        s2 = re.sub(r\"^#\",\"\",m)\n",
    "                        if not s2.isdigit():\n",
    "                            tags.append(s2)\n",
    "                else:\n",
    "                    bdytxt.append(s)\n",
    "            # body\n",
    "        # i > 0\n",
    "    # i\n",
    "    \n",
    "    cat_str = \"|\".join(categories)\n",
    "    contents = \"\\n\".join(bdytxt)\n",
    "    tags_str = \"|\".join(tags)\n",
    "    \n",
    "    fpath = os.path.basename(path)\n",
    "    \n",
    "    sha1 = hashlib.sha1()\n",
    "    sha1.update(fpath.encode('utf-8'))\n",
    "    id = sha1.hexdigest()\n",
    "\n",
    "    yield [id, fpath, update_dt, create_dt, cat_str, tags_str, contents]\n"
   ]
  },
  {
   "cell_type": "code",
   "execution_count": 117,
   "metadata": {},
   "outputs": [],
   "source": [
    "s = \"#CAD #R \\n #TES # teste # any ## test #123\"\n",
    "m = re.findall(r\"#\\w+\", s)"
   ]
  },
  {
   "cell_type": "code",
   "execution_count": 120,
   "metadata": {},
   "outputs": [
    {
     "data": {
      "text/plain": [
       "['CAD', 'R', 'TES']"
      ]
     },
     "execution_count": 120,
     "metadata": {},
     "output_type": "execute_result"
    }
   ],
   "source": [
    "x1 = [re.sub(r\"^#\",\"\",x) for x in m]\n",
    "[x for x in x1 if not x.isdigit()]"
   ]
  },
  {
   "cell_type": "code",
   "execution_count": 119,
   "metadata": {},
   "outputs": [
    {
     "data": {
      "text/plain": [
       "['CAD', 'R', 'TES', '123']"
      ]
     },
     "execution_count": 119,
     "metadata": {},
     "output_type": "execute_result"
    }
   ],
   "source": [
    "x1"
   ]
  },
  {
   "cell_type": "code",
   "execution_count": 122,
   "metadata": {},
   "outputs": [],
   "source": [
    "fp1 = upnote_path / \"図番台帳.md\""
   ]
  },
  {
   "cell_type": "code",
   "execution_count": 123,
   "metadata": {},
   "outputs": [
    {
     "data": {
      "text/plain": [
       "[['b8cfc99654bee212665412c5f78ed279816e9e1b',\n",
       "  '図番台帳.md',\n",
       "  datetime.datetime(2023, 4, 14, 1, 4, 40),\n",
       "  datetime.datetime(2023, 4, 13, 20, 4, 12),\n",
       "  '仕事_Evernote',\n",
       "  'CAD|R',\n",
       "  '\\n図番台帳\\n\\n深夜枠\\n\\n\\n\\n豊岡・埼玉・YFTの3種類の図番台帳を予め1つの台帳にまとめるスクリプトを書いて、\\n\\n変換済の台帳をまとめて検索できる仕組みを作り始めることにした。\\n\\n\\n\\n輸出管理データ検索同様RのArrowとDTパッケージを使用する。\\n\\n\\n\\ncad\\\\_basicsにてdrawinglistフォルダ。\\n\\n\\n\\nまずはそれぞれの台帳を無条件にコピー。\\n\\n生技・埼玉・YFTの台帳を統合するスクリプトを書いて、その後DTによるWEBでデータベース検索するappを作成。\\n\\nappについては以前作成した輸出管理検索用がほとんどそのまま使えた。\\n\\n\\n\\n2時間程度で全部完成。\\n\\n\\n\\nちなみに入力日が2050年よりも大きい物が4点あり、それぞれエクセルのデータからして間違って入力されている。\\n\\n\\n\\n改善提案に出来るはず。\\n\\n\\n']]"
      ]
     },
     "execution_count": 123,
     "metadata": {},
     "output_type": "execute_result"
    }
   ],
   "source": [
    "list(convtxt(fp1))"
   ]
  },
  {
   "cell_type": "code",
   "execution_count": 124,
   "metadata": {},
   "outputs": [],
   "source": [
    "files1 = files[:10]"
   ]
  },
  {
   "cell_type": "code",
   "execution_count": 125,
   "metadata": {},
   "outputs": [
    {
     "data": {
      "text/plain": [
       "['..\\\\UpNote\\\\General Space\\\\- 名刺.md',\n",
       " '..\\\\UpNote\\\\General Space\\\\0030.md',\n",
       " '..\\\\UpNote\\\\General Space\\\\0042.md',\n",
       " '..\\\\UpNote\\\\General Space\\\\0音孔.md',\n",
       " '..\\\\UpNote\\\\General Space\\\\1,2番管.md',\n",
       " '..\\\\UpNote\\\\General Space\\\\1,3,4-2 抜差組立 中管ピン径変更.md',\n",
       " '..\\\\UpNote\\\\General Space\\\\1-3レバー 2.md',\n",
       " '..\\\\UpNote\\\\General Space\\\\1-3レバー.md',\n",
       " '..\\\\UpNote\\\\General Space\\\\1.5 スタイラス.md',\n",
       " '..\\\\UpNote\\\\General Space\\\\1.5スタイラス.md']"
      ]
     },
     "execution_count": 125,
     "metadata": {},
     "output_type": "execute_result"
    }
   ],
   "source": [
    "files1"
   ]
  },
  {
   "cell_type": "code",
   "execution_count": 126,
   "metadata": {},
   "outputs": [],
   "source": [
    "alldata = []\n",
    "for f in files1:\n",
    "    for output in convtxt(f):\n",
    "        alldata.append(output)"
   ]
  },
  {
   "cell_type": "code",
   "execution_count": 127,
   "metadata": {},
   "outputs": [],
   "source": [
    "dfm = pd.DataFrame(alldata, columns=[\"id\", \"fpath\",\"update\",\"created\",\"category\",\"tags\",\"contents\"])\n"
   ]
  },
  {
   "cell_type": "code",
   "execution_count": 128,
   "metadata": {},
   "outputs": [
    {
     "data": {
      "text/html": [
       "<div>\n",
       "<style scoped>\n",
       "    .dataframe tbody tr th:only-of-type {\n",
       "        vertical-align: middle;\n",
       "    }\n",
       "\n",
       "    .dataframe tbody tr th {\n",
       "        vertical-align: top;\n",
       "    }\n",
       "\n",
       "    .dataframe thead th {\n",
       "        text-align: right;\n",
       "    }\n",
       "</style>\n",
       "<table border=\"1\" class=\"dataframe\">\n",
       "  <thead>\n",
       "    <tr style=\"text-align: right;\">\n",
       "      <th></th>\n",
       "      <th>id</th>\n",
       "      <th>fpath</th>\n",
       "      <th>update</th>\n",
       "      <th>created</th>\n",
       "      <th>category</th>\n",
       "      <th>tags</th>\n",
       "      <th>contents</th>\n",
       "    </tr>\n",
       "  </thead>\n",
       "  <tbody>\n",
       "    <tr>\n",
       "      <th>0</th>\n",
       "      <td>f370a90e365a143eaa1a83a5c518bd0c64aebcca</td>\n",
       "      <td>- 名刺.md</td>\n",
       "      <td>2017-01-21 20:01:34</td>\n",
       "      <td>2017-01-21 20:01:05</td>\n",
       "      <td>名刺</td>\n",
       "      <td></td>\n",
       "      <td>\\n\\- 名刺\\n\\n池田 信次郎日新\\n\\n\\n\\nDSI成形機の輸送\\n\\n![](Fi...</td>\n",
       "    </tr>\n",
       "    <tr>\n",
       "      <th>1</th>\n",
       "      <td>395eede9ca9785cde411b704bba4b45fcdbfcbd6</td>\n",
       "      <td>0030.md</td>\n",
       "      <td>2014-06-05 11:06:15</td>\n",
       "      <td>2014-06-05 11:06:02</td>\n",
       "      <td>仕事_Evernote</td>\n",
       "      <td>HR869</td>\n",
       "      <td>\\n0030\\n\\n1番管正寸切治具のベースへの取り付け孔をφ11にするようセガワにメール連...</td>\n",
       "    </tr>\n",
       "    <tr>\n",
       "      <th>2</th>\n",
       "      <td>c3a4cc6ab6ac8c013e2e6bd8b153ae7b1dc8750a</td>\n",
       "      <td>0042.md</td>\n",
       "      <td>2014-06-11 16:06:42</td>\n",
       "      <td>2014-06-05 11:06:15</td>\n",
       "      <td>仕事_Evernote</td>\n",
       "      <td>HR869</td>\n",
       "      <td>\\n0042\\n\\n枝管3Aの寸切治具、浅羽ではなくYMC用だった。\\n\\nで、ボルト孔が小...</td>\n",
       "    </tr>\n",
       "    <tr>\n",
       "      <th>3</th>\n",
       "      <td>474aca1636653a21e3e48122f5015d59636c2495</td>\n",
       "      <td>0音孔.md</td>\n",
       "      <td>2017-02-09 18:02:36</td>\n",
       "      <td>2017-02-09 15:02:23</td>\n",
       "      <td>仕事_Evernote</td>\n",
       "      <td>分岐管</td>\n",
       "      <td>\\n0音孔\\n\\nボディ測定結果を確認。\\n\\n大野さんにメール。\\n\\n\\n\\n結果、+0...</td>\n",
       "    </tr>\n",
       "    <tr>\n",
       "      <th>4</th>\n",
       "      <td>638af3f32369bad23bd055f03255660a0d14e72d</td>\n",
       "      <td>1,2番管.md</td>\n",
       "      <td>2022-07-25 23:07:08</td>\n",
       "      <td>2022-07-25 16:07:58</td>\n",
       "      <td>仕事_Evernote</td>\n",
       "      <td>CBBB623</td>\n",
       "      <td>\\n1,2番管\\n\\nEMCによるナミ修正品の確認を徳富さんと見た。\\n\\nまだダクってるの...</td>\n",
       "    </tr>\n",
       "    <tr>\n",
       "      <th>5</th>\n",
       "      <td>dc9a6495db2e985051086400018783a2aa9fd3de</td>\n",
       "      <td>1,3,4-2 抜差組立 中管ピン径変更.md</td>\n",
       "      <td>2022-02-20 02:02:42</td>\n",
       "      <td>2022-02-20 02:02:34</td>\n",
       "      <td>仕事_Evernote</td>\n",
       "      <td>CBBB623</td>\n",
       "      <td>\\n1,3,4-2 抜差組立 中管ピン径変更\\n\\n中管の嵌合径が大きなクリアランスを取って...</td>\n",
       "    </tr>\n",
       "    <tr>\n",
       "      <th>6</th>\n",
       "      <td>02840cf04ea03a20071f3f52cbd5f7ceab7cdd27</td>\n",
       "      <td>1-3レバー 2.md</td>\n",
       "      <td>2016-05-25 14:05:11</td>\n",
       "      <td>2016-05-25 14:05:33</td>\n",
       "      <td>仕事_Evernote</td>\n",
       "      <td>HR869</td>\n",
       "      <td>\\n1-3レバー\\n\\n原さんから、869 1-3レバー変更の依頼がPJから来たら対応してほ...</td>\n",
       "    </tr>\n",
       "    <tr>\n",
       "      <th>7</th>\n",
       "      <td>d00d55b5004d2cdae7ad573ec0899d7b90757a58</td>\n",
       "      <td>1-3レバー.md</td>\n",
       "      <td>2016-07-08 14:07:00</td>\n",
       "      <td>2016-07-08 13:07:01</td>\n",
       "      <td>仕事_Evernote</td>\n",
       "      <td>HR869</td>\n",
       "      <td>\\n1-3レバー\\n\\n室園氏。\\n\\n\\n\\n設変対応。\\n\\n何をやればいいのかを室園氏...</td>\n",
       "    </tr>\n",
       "    <tr>\n",
       "      <th>8</th>\n",
       "      <td>273d0a0b17163e868d17a9d5393680c490774bdb</td>\n",
       "      <td>1.5 スタイラス.md</td>\n",
       "      <td>2016-02-09 14:02:11</td>\n",
       "      <td>2016-02-09 14:02:10</td>\n",
       "      <td>仕事_Evernote</td>\n",
       "      <td>3次元</td>\n",
       "      <td>\\n1.5 スタイラス\\n\\n渡邊氏から電話。新しい2本が納品されたが、棚に入れようと思った...</td>\n",
       "    </tr>\n",
       "    <tr>\n",
       "      <th>9</th>\n",
       "      <td>159dab4768e0d83b2b2d9876603b075296eb6cb2</td>\n",
       "      <td>1.5スタイラス.md</td>\n",
       "      <td>2016-01-21 10:01:53</td>\n",
       "      <td>2016-01-21 10:01:08</td>\n",
       "      <td>仕事_Evernote</td>\n",
       "      <td>3次元</td>\n",
       "      <td>\\n1.5スタイラス\\n\\n昨日の破損事故を受けて、関係者にメール。\\n\\n今後、許可者以外...</td>\n",
       "    </tr>\n",
       "  </tbody>\n",
       "</table>\n",
       "</div>"
      ],
      "text/plain": [
       "                                         id                    fpath  \\\n",
       "0  f370a90e365a143eaa1a83a5c518bd0c64aebcca                  - 名刺.md   \n",
       "1  395eede9ca9785cde411b704bba4b45fcdbfcbd6                  0030.md   \n",
       "2  c3a4cc6ab6ac8c013e2e6bd8b153ae7b1dc8750a                  0042.md   \n",
       "3  474aca1636653a21e3e48122f5015d59636c2495                   0音孔.md   \n",
       "4  638af3f32369bad23bd055f03255660a0d14e72d                 1,2番管.md   \n",
       "5  dc9a6495db2e985051086400018783a2aa9fd3de  1,3,4-2 抜差組立 中管ピン径変更.md   \n",
       "6  02840cf04ea03a20071f3f52cbd5f7ceab7cdd27              1-3レバー 2.md   \n",
       "7  d00d55b5004d2cdae7ad573ec0899d7b90757a58                1-3レバー.md   \n",
       "8  273d0a0b17163e868d17a9d5393680c490774bdb             1.5 スタイラス.md   \n",
       "9  159dab4768e0d83b2b2d9876603b075296eb6cb2              1.5スタイラス.md   \n",
       "\n",
       "               update             created     category     tags  \\\n",
       "0 2017-01-21 20:01:34 2017-01-21 20:01:05           名刺            \n",
       "1 2014-06-05 11:06:15 2014-06-05 11:06:02  仕事_Evernote    HR869   \n",
       "2 2014-06-11 16:06:42 2014-06-05 11:06:15  仕事_Evernote    HR869   \n",
       "3 2017-02-09 18:02:36 2017-02-09 15:02:23  仕事_Evernote      分岐管   \n",
       "4 2022-07-25 23:07:08 2022-07-25 16:07:58  仕事_Evernote  CBBB623   \n",
       "5 2022-02-20 02:02:42 2022-02-20 02:02:34  仕事_Evernote  CBBB623   \n",
       "6 2016-05-25 14:05:11 2016-05-25 14:05:33  仕事_Evernote    HR869   \n",
       "7 2016-07-08 14:07:00 2016-07-08 13:07:01  仕事_Evernote    HR869   \n",
       "8 2016-02-09 14:02:11 2016-02-09 14:02:10  仕事_Evernote      3次元   \n",
       "9 2016-01-21 10:01:53 2016-01-21 10:01:08  仕事_Evernote      3次元   \n",
       "\n",
       "                                            contents  \n",
       "0  \\n\\- 名刺\\n\\n池田 信次郎日新\\n\\n\\n\\nDSI成形機の輸送\\n\\n![](Fi...  \n",
       "1  \\n0030\\n\\n1番管正寸切治具のベースへの取り付け孔をφ11にするようセガワにメール連...  \n",
       "2  \\n0042\\n\\n枝管3Aの寸切治具、浅羽ではなくYMC用だった。\\n\\nで、ボルト孔が小...  \n",
       "3  \\n0音孔\\n\\nボディ測定結果を確認。\\n\\n大野さんにメール。\\n\\n\\n\\n結果、+0...  \n",
       "4  \\n1,2番管\\n\\nEMCによるナミ修正品の確認を徳富さんと見た。\\n\\nまだダクってるの...  \n",
       "5  \\n1,3,4-2 抜差組立 中管ピン径変更\\n\\n中管の嵌合径が大きなクリアランスを取って...  \n",
       "6  \\n1-3レバー\\n\\n原さんから、869 1-3レバー変更の依頼がPJから来たら対応してほ...  \n",
       "7  \\n1-3レバー\\n\\n室園氏。\\n\\n\\n\\n設変対応。\\n\\n何をやればいいのかを室園氏...  \n",
       "8  \\n1.5 スタイラス\\n\\n渡邊氏から電話。新しい2本が納品されたが、棚に入れようと思った...  \n",
       "9  \\n1.5スタイラス\\n\\n昨日の破損事故を受けて、関係者にメール。\\n\\n今後、許可者以外...  "
      ]
     },
     "execution_count": 128,
     "metadata": {},
     "output_type": "execute_result"
    }
   ],
   "source": [
    "dfm"
   ]
  },
  {
   "cell_type": "code",
   "execution_count": 81,
   "metadata": {},
   "outputs": [],
   "source": [
    "dfm.to_csv(\"upnote_text_tmp.csv\", index=False)"
   ]
  },
  {
   "cell_type": "code",
   "execution_count": null,
   "metadata": {},
   "outputs": [],
   "source": []
  }
 ],
 "metadata": {
  "kernelspec": {
   "display_name": ".venv",
   "language": "python",
   "name": "python3"
  },
  "language_info": {
   "codemirror_mode": {
    "name": "ipython",
    "version": 3
   },
   "file_extension": ".py",
   "mimetype": "text/x-python",
   "name": "python",
   "nbconvert_exporter": "python",
   "pygments_lexer": "ipython3",
   "version": "3.10.12"
  }
 },
 "nbformat": 4,
 "nbformat_minor": 2
}
